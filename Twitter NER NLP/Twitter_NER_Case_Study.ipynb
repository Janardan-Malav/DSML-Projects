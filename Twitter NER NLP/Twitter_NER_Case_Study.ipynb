{
  "cells": [
    {
      "cell_type": "markdown",
      "source": [
        "## Problem Statement:\n",
        "NER: Twitter wants to automatically tag and analyze tweets for better understanding of the trends and topics without being dependent on the hashtags that the users use.\n",
        "\n",
        "Leveraging the data of twitter, train models that will be able to identify the various named entities.\n"
      ],
      "metadata": {
        "id": "Kfoyr2CbXFJ9"
      },
      "id": "Kfoyr2CbXFJ9"
    },
    {
      "cell_type": "code",
      "execution_count": null,
      "id": "8c1a48ab",
      "metadata": {
        "id": "8c1a48ab"
      },
      "outputs": [],
      "source": [
        "#Importing the libraries\n",
        "import pandas as pd\n",
        "import matplotlib.pyplot as plt\n",
        "import numpy as np"
      ]
    },
    {
      "cell_type": "code",
      "source": [
        "#Funtion to load the data\n",
        "def load_df(filename:str):\n",
        "  with open(filename, 'r') as files:\n",
        "    lines = [line[:-1].split() for line in files]\n",
        "  data, s = [], 0\n",
        "  for e, comp in enumerate(lines):\n",
        "    if not comp:\n",
        "      dt = [(token, tag) for token, tag in lines[s:e]]\n",
        "      data.append(dt)\n",
        "      s = e+1\n",
        "  if s < e:\n",
        "    data.append(lines[s:e])\n",
        "  return data\n"
      ],
      "metadata": {
        "id": "zK-kW96mq7Fs"
      },
      "id": "zK-kW96mq7Fs",
      "execution_count": null,
      "outputs": []
    },
    {
      "cell_type": "code",
      "source": [
        "#Loading the data using our function\n",
        "train_data = load_df('wnut 16.txt.conll')\n",
        "test_data = load_df('wnut 16test.txt.conll')\n",
        "data = train_data + test_data"
      ],
      "metadata": {
        "id": "_jZi7JBjsFwf"
      },
      "id": "_jZi7JBjsFwf",
      "execution_count": null,
      "outputs": []
    },
    {
      "cell_type": "code",
      "source": [
        "len(data)"
      ],
      "metadata": {
        "colab": {
          "base_uri": "https://localhost:8080/"
        },
        "id": "Riih1QFUsZyQ",
        "outputId": "49fd43a8-5c94-4292-bd60-98f1e6b1c794"
      },
      "id": "Riih1QFUsZyQ",
      "execution_count": null,
      "outputs": [
        {
          "output_type": "execute_result",
          "data": {
            "text/plain": [
              "6244"
            ]
          },
          "metadata": {},
          "execution_count": 4
        }
      ]
    },
    {
      "cell_type": "code",
      "source": [
        "# N is for null tokens\n",
        "tags= ['N'] + sorted({tag for sentence in data for _,tag in sentence})"
      ],
      "metadata": {
        "id": "9H1HGFbstPeX"
      },
      "id": "9H1HGFbstPeX",
      "execution_count": null,
      "outputs": []
    },
    {
      "cell_type": "code",
      "source": [
        "tags"
      ],
      "metadata": {
        "colab": {
          "base_uri": "https://localhost:8080/"
        },
        "id": "aIDrneyXtZC6",
        "outputId": "a7d7bc37-c731-4539-cdb2-cce9f922d42f"
      },
      "id": "aIDrneyXtZC6",
      "execution_count": null,
      "outputs": [
        {
          "output_type": "execute_result",
          "data": {
            "text/plain": [
              "['N',\n",
              " 'B-company',\n",
              " 'B-facility',\n",
              " 'B-geo-loc',\n",
              " 'B-movie',\n",
              " 'B-musicartist',\n",
              " 'B-other',\n",
              " 'B-person',\n",
              " 'B-product',\n",
              " 'B-sportsteam',\n",
              " 'B-tvshow',\n",
              " 'I-company',\n",
              " 'I-facility',\n",
              " 'I-geo-loc',\n",
              " 'I-movie',\n",
              " 'I-musicartist',\n",
              " 'I-other',\n",
              " 'I-person',\n",
              " 'I-product',\n",
              " 'I-sportsteam',\n",
              " 'I-tvshow',\n",
              " 'O']"
            ]
          },
          "metadata": {},
          "execution_count": 6
        }
      ]
    },
    {
      "cell_type": "code",
      "source": [
        "#Calculating the maximum length of a sentence\n",
        "max_len = 0\n",
        "for sentence in data:\n",
        "  max_len = max(max_len, len(sentence))\n",
        "print('maximum length is :', max_len)"
      ],
      "metadata": {
        "colab": {
          "base_uri": "https://localhost:8080/"
        },
        "id": "1ExCd2jFuoJB",
        "outputId": "ee75dab8-e011-4c4e-a4d1-fa83a8feb4fe"
      },
      "id": "1ExCd2jFuoJB",
      "execution_count": null,
      "outputs": [
        {
          "output_type": "stream",
          "name": "stdout",
          "text": [
            "maximum length is : 39\n"
          ]
        }
      ]
    },
    {
      "cell_type": "code",
      "execution_count": null,
      "id": "d5240c46",
      "metadata": {
        "id": "d5240c46",
        "colab": {
          "base_uri": "https://localhost:8080/"
        },
        "outputId": "93734288-0bbb-45aa-8e3d-8666115f6445"
      },
      "outputs": [
        {
          "output_type": "stream",
          "name": "stdout",
          "text": [
            "Vocabulary size is: 25382\n"
          ]
        }
      ],
      "source": [
        "#Calculating vocabulary size\n",
        "from collections import defaultdict\n",
        "word_counts = defaultdict(int)\n",
        "for sentence in data:\n",
        "  for word in sentence:\n",
        "    word_counts[word[0]] += 1\n",
        "no_words = len(word_counts.items())\n",
        "print('Vocabulary size is:' , no_words)"
      ]
    },
    {
      "cell_type": "code",
      "source": [
        "sentence_all = []\n",
        "for line in data:\n",
        "  sentence = [part[0] for part in line]\n",
        "  sentence_all.append(sentence)"
      ],
      "metadata": {
        "id": "Zr3Gy15D0z97"
      },
      "id": "Zr3Gy15D0z97",
      "execution_count": null,
      "outputs": []
    },
    {
      "cell_type": "markdown",
      "source": [
        "### CRF"
      ],
      "metadata": {
        "id": "pN4kwoxzhXvl"
      },
      "id": "pN4kwoxzhXvl"
    },
    {
      "cell_type": "code",
      "source": [
        "#Training a tokenizer\n",
        "import tensorflow as tf\n",
        "crf_tokenizer = tf.keras.preprocessing.text.Tokenizer(num_words = no_words, lower = True)\n",
        "crf_tokenizer.fit_on_texts(sentence_all)"
      ],
      "metadata": {
        "id": "nTnwyIE41Zvt"
      },
      "id": "nTnwyIE41Zvt",
      "execution_count": null,
      "outputs": []
    },
    {
      "cell_type": "code",
      "execution_count": null,
      "id": "729f1695",
      "metadata": {
        "id": "729f1695"
      },
      "outputs": [],
      "source": [
        "import xml.etree.ElementTree as ET\n",
        "import tensorflow as tf\n",
        "from tensorflow.keras.layers import TextVectorization\n",
        "import gensim.downloader as api\n",
        "from tensorflow.keras.layers import Embedding\n",
        "\n",
        "tf.random.set_seed(123)"
      ]
    },
    {
      "cell_type": "code",
      "source": [
        "# Embedding the word matrix, intialising with word2vec google news\n",
        "no_tokens = len(crf_tokenizer.word_index) + 1\n",
        "hits = 0\n",
        "misses = 0\n",
        "word2vec = api.load(\"glove-twitter-200\")\n",
        "embedding_dim = 200\n",
        "\n",
        "# Prepare embedding matrix\n",
        "embedding_matrix = np.zeros((no_tokens, embedding_dim))\n",
        "for word, i in crf_tokenizer.word_index.items():\n",
        "    embedding_vector = None\n",
        "    try:\n",
        "      embedding_vector = word2vec[word]\n",
        "    except Exception :\n",
        "      pass\n",
        "\n",
        "    if embedding_vector is not None:\n",
        "        # Words not found in embedding index will be all-zeros.\n",
        "        # This includes the representation for \"padding\" and \"OOV\"\n",
        "        embedding_matrix[i] = embedding_vector\n",
        "        hits += 1\n",
        "    else:\n",
        "        misses += 1\n",
        "print(\"Converted %d words (%d misses)\" % (hits, misses))"
      ],
      "metadata": {
        "id": "3ZJX8kGTBlwe",
        "colab": {
          "base_uri": "https://localhost:8080/"
        },
        "outputId": "04a43cff-3bfb-40c1-b3b1-bda977196e04"
      },
      "id": "3ZJX8kGTBlwe",
      "execution_count": null,
      "outputs": [
        {
          "output_type": "stream",
          "name": "stdout",
          "text": [
            "Converted 11495 words (10438 misses)\n"
          ]
        }
      ]
    },
    {
      "cell_type": "code",
      "execution_count": null,
      "id": "716b2cc9",
      "metadata": {
        "colab": {
          "base_uri": "https://localhost:8080/"
        },
        "id": "716b2cc9",
        "outputId": "953c4677-3a58-4d2d-a999-6c572e28e7eb"
      },
      "outputs": [
        {
          "output_type": "stream",
          "name": "stdout",
          "text": [
            "Requirement already satisfied: keras_preprocessing in /usr/local/lib/python3.10/dist-packages (1.1.2)\n",
            "Requirement already satisfied: numpy>=1.9.1 in /usr/local/lib/python3.10/dist-packages (from keras_preprocessing) (1.23.5)\n",
            "Requirement already satisfied: six>=1.9.0 in /usr/local/lib/python3.10/dist-packages (from keras_preprocessing) (1.16.0)\n"
          ]
        }
      ],
      "source": [
        "! pip install keras_preprocessing"
      ]
    },
    {
      "cell_type": "code",
      "execution_count": null,
      "id": "c178e1a2",
      "metadata": {
        "id": "c178e1a2"
      },
      "outputs": [],
      "source": [
        "#Creating tag to index\n",
        "import sklearn\n",
        "\n",
        "tag2idx = {t: i for i, t in enumerate(tags)}\n",
        "\n",
        "# Vocabulary Key:tag_index -> Value:Label/Tag\n",
        "idx2tag = {i: w for w, i in tag2idx.items()}"
      ]
    },
    {
      "cell_type": "code",
      "source": [
        "def get_df(data, max_len, tag2idx, tokenizer):\n",
        "  df = {'data':[], 'labels':[]}\n",
        "  for sentence in data:\n",
        "    inputs = [w[0] for w in sentence]\n",
        "    outputs = [w[1] for w in sentence]\n",
        "    inputs = tokenizer.texts_to_sequences([inputs])[0]\n",
        "\n",
        "    padded_inputs = [inputs[i] if i< len(inputs) else 0 for i in range(max_len)]\n",
        "    padded_labels = [[0 for i in range(len(tag2idx))] for j in range(max_len)]\n",
        "    for i in range(len(outputs)):\n",
        "      padded_labels[i][tag2idx[outputs[i]]] = 1\n",
        "\n",
        "    df['data'].append(padded_inputs)\n",
        "    df['labels'].append(padded_labels)\n",
        "  return np.array(df['data']), np.array(df['labels'])\n",
        "\n",
        "train_sentences, train_labels = get_df(train_data, max_len, tag2idx,crf_tokenizer)\n",
        "test_sentences, test_labels = get_df(test_data, max_len, tag2idx,crf_tokenizer)"
      ],
      "metadata": {
        "id": "vzWks0hk2qk9"
      },
      "id": "vzWks0hk2qk9",
      "execution_count": null,
      "outputs": []
    },
    {
      "cell_type": "code",
      "execution_count": null,
      "id": "0c507caf",
      "metadata": {
        "colab": {
          "base_uri": "https://localhost:8080/"
        },
        "id": "0c507caf",
        "outputId": "0bf7fe8c-0f21-43be-baae-975271a37b42"
      },
      "outputs": [
        {
          "output_type": "stream",
          "name": "stdout",
          "text": [
            "Requirement already satisfied: tensorflow_addons in /usr/local/lib/python3.10/dist-packages (0.21.0)\n",
            "Requirement already satisfied: packaging in /usr/local/lib/python3.10/dist-packages (from tensorflow_addons) (23.1)\n",
            "Requirement already satisfied: typeguard<3.0.0,>=2.7 in /usr/local/lib/python3.10/dist-packages (from tensorflow_addons) (2.13.3)\n"
          ]
        }
      ],
      "source": [
        "  ! pip install tensorflow_addons"
      ]
    },
    {
      "cell_type": "code",
      "execution_count": null,
      "id": "378873b2",
      "metadata": {
        "colab": {
          "base_uri": "https://localhost:8080/"
        },
        "id": "378873b2",
        "outputId": "d037e546-dc76-42b0-c411-76f898dec30d"
      },
      "outputs": [
        {
          "output_type": "stream",
          "name": "stderr",
          "text": [
            "/usr/local/lib/python3.10/dist-packages/tensorflow_addons/utils/tfa_eol_msg.py:23: UserWarning: \n",
            "\n",
            "TensorFlow Addons (TFA) has ended development and introduction of new features.\n",
            "TFA has entered a minimal maintenance and release mode until a planned end of life in May 2024.\n",
            "Please modify downstream libraries to take dependencies from other repositories in our TensorFlow community (e.g. Keras, Keras-CV, and Keras-NLP). \n",
            "\n",
            "For more information see: https://github.com/tensorflow/addons/issues/2807 \n",
            "\n",
            "  warnings.warn(\n"
          ]
        },
        {
          "output_type": "stream",
          "name": "stdout",
          "text": [
            "Model: \"model\"\n",
            "_________________________________________________________________\n",
            " Layer (type)                Output Shape              Param #   \n",
            "=================================================================\n",
            " input_1 (InputLayer)        [(None, 39)]              0         \n",
            "                                                                 \n",
            " embedding (Embedding)       (None, 39, 200)           4386800   \n",
            "                                                                 \n",
            " bidirectional (Bidirection  (None, 39, 100)           100400    \n",
            " al)                                                             \n",
            "                                                                 \n",
            " bidirectional_1 (Bidirecti  (None, 39, 100)           60400     \n",
            " onal)                                                           \n",
            "                                                                 \n",
            " time_distributed (TimeDist  (None, 39, 25)            2525      \n",
            " ributed)                                                        \n",
            "                                                                 \n",
            " crf (CRF)                   [(None, 39),              1100      \n",
            "                              (None, 39, 22),                    \n",
            "                              (None,),                           \n",
            "                              (22, 22)]                          \n",
            "                                                                 \n",
            "=================================================================\n",
            "Total params: 4551225 (17.36 MB)\n",
            "Trainable params: 4551225 (17.36 MB)\n",
            "Non-trainable params: 0 (0.00 Byte)\n",
            "_________________________________________________________________\n"
          ]
        }
      ],
      "source": [
        "from tensorflow.keras.models import Model\n",
        "from tensorflow.keras.layers import Input, LSTM, Embedding, Dense, TimeDistributed, Dropout, Bidirectional\n",
        "from tensorflow_addons.utils.types import FloatTensorLike, TensorLike\n",
        "from tensorflow_addons.layers import CRF\n",
        "from tensorflow_addons.losses import SigmoidFocalCrossEntropy\n",
        "from tensorflow_addons.optimizers import AdamW\n",
        "\n",
        "\n",
        "\n",
        "def build_model():\n",
        "  # Model definition\n",
        "  input = Input(shape=(max_len,))\n",
        "\n",
        "  # Get embeddings\n",
        "  embeddings = Embedding(\n",
        "      input_dim = embedding_matrix.shape[0],\n",
        "      output_dim = embedding_dim,\n",
        "      input_length=max_len,\n",
        "      mask_zero=True,\n",
        "      embeddings_initializer = tf.keras.initializers.Constant(embedding_matrix)\n",
        "       )(input)\n",
        "\n",
        "  # variational biLSTM\n",
        "  output_sequences = Bidirectional(LSTM(units=50, return_sequences=True))(embeddings)\n",
        "  #output_sequences = Bidirectional(LSTM(units=100, return_sequences=True))(output_sequences)\n",
        "  # Stacking\n",
        "  output_sequences = Bidirectional(LSTM(units=50, return_sequences=True))(output_sequences)\n",
        "\n",
        "  # Adding more non-linearity\n",
        "  dense_out = TimeDistributed(Dense(25, activation=\"relu\"))(output_sequences)\n",
        "\n",
        "  # CRF layer\n",
        "  #mask = Input(shape=(max_len,), dtype=tf.bool)\n",
        "  crf = CRF(len(tags), name='crf')\n",
        "  predicted_sequence, potentials, sequence_length, crf_kernel = crf(dense_out)\n",
        "\n",
        "  model = Model(input, potentials)\n",
        "  model.compile(\n",
        "      optimizer=AdamW(weight_decay=0.001),\n",
        "      loss= SigmoidFocalCrossEntropy()) # Sigmoid focal cross entropy loss\n",
        "\n",
        "  return model\n",
        "\n",
        "model = build_model()\n",
        "\n",
        "# Checkpointing\n",
        "save_model = tf.keras.callbacks.ModelCheckpoint(filepath='ner_crf.h5',\n",
        "  monitor='val_loss',\n",
        "  save_weights_only=True,\n",
        "  save_best_only=True,\n",
        "  verbose=1\n",
        ")\n",
        "\n",
        "# Early stopping\n",
        "es = tf.keras.callbacks.EarlyStopping(monitor='val_loss', verbose=1, patience=10)\n",
        "\n",
        "callbacks = [save_model, es]\n",
        "\n",
        "model.summary()"
      ]
    },
    {
      "cell_type": "code",
      "execution_count": null,
      "id": "57164426",
      "metadata": {
        "colab": {
          "base_uri": "https://localhost:8080/"
        },
        "id": "57164426",
        "outputId": "573108b4-a3af-45fa-d8a7-a9c7d46dd49f"
      },
      "outputs": [
        {
          "output_type": "stream",
          "name": "stdout",
          "text": [
            "Epoch 1/400\n"
          ]
        },
        {
          "output_type": "stream",
          "name": "stderr",
          "text": [
            "WARNING:tensorflow:Gradients do not exist for variables ['chain_kernel:0'] when minimizing the loss. If you're using `model.compile()`, did you forget to provide a `loss` argument?\n",
            "WARNING:tensorflow:Gradients do not exist for variables ['chain_kernel:0'] when minimizing the loss. If you're using `model.compile()`, did you forget to provide a `loss` argument?\n"
          ]
        },
        {
          "output_type": "stream",
          "name": "stdout",
          "text": [
            "75/75 [==============================] - ETA: 0s - loss: 0.0885\n",
            "Epoch 1: val_loss improved from inf to 0.08759, saving model to ner_crf.h5\n",
            "75/75 [==============================] - 42s 185ms/step - loss: 0.0885 - val_loss: 0.0876\n",
            "Epoch 2/400\n",
            "75/75 [==============================] - ETA: 0s - loss: 0.0409\n",
            "Epoch 2: val_loss improved from 0.08759 to 0.06704, saving model to ner_crf.h5\n",
            "75/75 [==============================] - 3s 36ms/step - loss: 0.0409 - val_loss: 0.0670\n",
            "Epoch 3/400\n",
            "73/75 [============================>.] - ETA: 0s - loss: 0.0318\n",
            "Epoch 3: val_loss improved from 0.06704 to 0.04613, saving model to ner_crf.h5\n",
            "75/75 [==============================] - 3s 36ms/step - loss: 0.0316 - val_loss: 0.0461\n",
            "Epoch 4/400\n",
            "75/75 [==============================] - ETA: 0s - loss: 0.0261\n",
            "Epoch 4: val_loss improved from 0.04613 to 0.04235, saving model to ner_crf.h5\n",
            "75/75 [==============================] - 4s 49ms/step - loss: 0.0261 - val_loss: 0.0423\n",
            "Epoch 5/400\n",
            "74/75 [============================>.] - ETA: 0s - loss: 0.0222\n",
            "Epoch 5: val_loss improved from 0.04235 to 0.04114, saving model to ner_crf.h5\n",
            "75/75 [==============================] - 3s 35ms/step - loss: 0.0223 - val_loss: 0.0411\n",
            "Epoch 6/400\n",
            "74/75 [============================>.] - ETA: 0s - loss: 0.0184\n",
            "Epoch 6: val_loss did not improve from 0.04114\n",
            "75/75 [==============================] - 3s 34ms/step - loss: 0.0184 - val_loss: 0.0419\n",
            "Epoch 7/400\n",
            "75/75 [==============================] - ETA: 0s - loss: 0.0156\n",
            "Epoch 7: val_loss did not improve from 0.04114\n",
            "75/75 [==============================] - 3s 35ms/step - loss: 0.0156 - val_loss: 0.0518\n",
            "Epoch 8/400\n",
            "75/75 [==============================] - ETA: 0s - loss: 0.0136\n",
            "Epoch 8: val_loss did not improve from 0.04114\n",
            "75/75 [==============================] - 3s 39ms/step - loss: 0.0136 - val_loss: 0.0569\n",
            "Epoch 9/400\n",
            "75/75 [==============================] - ETA: 0s - loss: 0.0121\n",
            "Epoch 9: val_loss did not improve from 0.04114\n",
            "75/75 [==============================] - 3s 45ms/step - loss: 0.0121 - val_loss: 0.0692\n",
            "Epoch 10/400\n",
            "74/75 [============================>.] - ETA: 0s - loss: 0.0112\n",
            "Epoch 10: val_loss did not improve from 0.04114\n",
            "75/75 [==============================] - 3s 35ms/step - loss: 0.0112 - val_loss: 0.1077\n",
            "Epoch 11/400\n",
            "74/75 [============================>.] - ETA: 0s - loss: 0.0105\n",
            "Epoch 11: val_loss did not improve from 0.04114\n",
            "75/75 [==============================] - 3s 34ms/step - loss: 0.0105 - val_loss: 0.1210\n",
            "Epoch 12/400\n",
            "74/75 [============================>.] - ETA: 0s - loss: 0.0099\n",
            "Epoch 12: val_loss did not improve from 0.04114\n",
            "75/75 [==============================] - 3s 36ms/step - loss: 0.0099 - val_loss: 0.1419\n",
            "Epoch 13/400\n",
            "74/75 [============================>.] - ETA: 0s - loss: 0.0094\n",
            "Epoch 13: val_loss did not improve from 0.04114\n",
            "75/75 [==============================] - 4s 49ms/step - loss: 0.0094 - val_loss: 0.1616\n",
            "Epoch 14/400\n",
            "74/75 [============================>.] - ETA: 0s - loss: 0.0092\n",
            "Epoch 14: val_loss did not improve from 0.04114\n",
            "75/75 [==============================] - 3s 35ms/step - loss: 0.0092 - val_loss: 0.1478\n",
            "Epoch 15/400\n",
            "74/75 [============================>.] - ETA: 0s - loss: 0.0089\n",
            "Epoch 15: val_loss did not improve from 0.04114\n",
            "75/75 [==============================] - 3s 41ms/step - loss: 0.0089 - val_loss: 0.1743\n",
            "Epoch 15: early stopping\n"
          ]
        }
      ],
      "source": [
        "history = model.fit(\n",
        "  train_sentences,\n",
        "  train_labels,\n",
        "  epochs = 400,\n",
        "  validation_data=(test_sentences, test_labels),\n",
        "  callbacks=callbacks,\n",
        "  shuffle=True\n",
        ")"
      ]
    },
    {
      "cell_type": "code",
      "source": [
        "model.load_weights('ner_crf.h5')\n",
        "crf_model = tf.keras.Model(inputs = model.input, outputs = [model.output, model.get_layer('crf').output, model.input])"
      ],
      "metadata": {
        "id": "BDnIoEPCqbNi"
      },
      "id": "BDnIoEPCqbNi",
      "execution_count": null,
      "outputs": []
    },
    {
      "cell_type": "code",
      "execution_count": null,
      "id": "8cd7d007",
      "metadata": {
        "colab": {
          "base_uri": "https://localhost:8080/",
          "height": 430
        },
        "id": "8cd7d007",
        "outputId": "f11457ac-7549-4e2a-bcbf-0fa2ac1500ba"
      },
      "outputs": [
        {
          "output_type": "display_data",
          "data": {
            "text/plain": [
              "<Figure size 640x480 with 1 Axes>"
            ],
            "image/png": "[encoded data removed]"
          },
          "metadata": {}
        }
      ],
      "source": [
        "from matplotlib import pyplot\n",
        "\n",
        "pyplot.plot(history.history['loss'], label='train')\n",
        "pyplot.plot(history.history['val_loss'], label='test')\n",
        "pyplot.legend()\n",
        "pyplot.show()"
      ]
    },
    {
      "cell_type": "code",
      "execution_count": null,
      "id": "32f5f0ec",
      "metadata": {
        "colab": {
          "base_uri": "https://localhost:8080/",
          "height": 750
        },
        "id": "32f5f0ec",
        "outputId": "b0bd502b-fcbf-4c06-ad1e-54d5230e4972"
      },
      "outputs": [
        {
          "output_type": "stream",
          "name": "stdout",
          "text": [
            "121/121 [==============================] - 6s 8ms/step\n"
          ]
        },
        {
          "output_type": "display_data",
          "data": {
            "text/plain": [
              "<Figure size 1000x800 with 1 Axes>"
            ],
            "image/png": "[encoded data removed]"
          },
          "metadata": {}
        }
      ],
      "source": [
        "import seaborn as sns\n",
        "import matplotlib.pyplot as plt\n",
        "from sklearn.metrics import confusion_matrix\n",
        "import numpy as np\n",
        "\n",
        "# Make predictions on the test set\n",
        "predictions = model.predict(test_sentences)\n",
        "\n",
        "# Convert predictions to POS tags\n",
        "predicted_tags = np.argmax(predictions, axis=-1)\n",
        "predicted_tags = [[idx2tag[tag] for tag in sample] for sample in predicted_tags]\n",
        "\n",
        "# Flatten the predicted and true POS tag sequences\n",
        "flatten_predicted = [tag for sample in predicted_tags for tag in sample]\n",
        "flatten_true = [idx2tag[np.argmax(tag)] for sample in test_labels for tag in sample]\n",
        "\n",
        "# Get unique tags from the true and predicted sequences\n",
        "unique_tags = list(set(flatten_true + flatten_predicted))\n",
        "\n",
        "# Compute the confusion matrix\n",
        "cm = confusion_matrix(flatten_true, flatten_predicted, labels=unique_tags)\n",
        "\n",
        "# Create a DataFrame for the confusion matrix\n",
        "cm_df = pd.DataFrame(cm, index=unique_tags, columns=unique_tags)\n",
        "\n",
        "# Set up the plot\n",
        "plt.figure(figsize=(10, 8))\n",
        "sns.set(font_scale=1.2)\n",
        "\n",
        "# Plot the confusion matrix as a heatmap\n",
        "sns.heatmap(cm_df, annot=True, cmap=\"Blues\", fmt=\"d\", cbar=False)\n",
        "\n",
        "# Customize the plot\n",
        "plt.title(\"Confusion Matrix\")\n",
        "plt.xlabel(\"Predicted Label\")\n",
        "plt.ylabel(\"True Label\")\n",
        "plt.xticks(rotation=45, ha=\"right\")\n",
        "plt.yticks(rotation=0)\n",
        "\n",
        "# Show the plot\n",
        "plt.show()"
      ]
    },
    {
      "cell_type": "code",
      "execution_count": null,
      "id": "968e2c54",
      "metadata": {
        "colab": {
          "base_uri": "https://localhost:8080/"
        },
        "id": "968e2c54",
        "outputId": "1b6c4240-474c-483b-ecc4-8397009804b9"
      },
      "outputs": [
        {
          "output_type": "stream",
          "name": "stderr",
          "text": [
            "/usr/local/lib/python3.10/dist-packages/sklearn/metrics/_classification.py:1344: UndefinedMetricWarning: Recall and F-score are ill-defined and being set to 0.0 in labels with no true samples. Use `zero_division` parameter to control this behavior.\n",
            "  _warn_prf(average, modifier, msg_start, len(result))\n",
            "/usr/local/lib/python3.10/dist-packages/sklearn/metrics/_classification.py:1344: UndefinedMetricWarning: Recall and F-score are ill-defined and being set to 0.0 in labels with no true samples. Use `zero_division` parameter to control this behavior.\n",
            "  _warn_prf(average, modifier, msg_start, len(result))\n"
          ]
        },
        {
          "output_type": "stream",
          "name": "stdout",
          "text": [
            "Classification Report:\n",
            "                 precision    recall  f1-score   support\n",
            "\n",
            " B-sportsteam       0.00      0.00      0.00         0\n",
            "    B-product       0.00      0.00      0.00         0\n",
            "   B-facility       0.00      0.00      0.00         0\n",
            " I-sportsteam       0.00      0.00      0.00         0\n",
            "I-musicartist       0.00      0.00      0.00         0\n",
            "    I-geo-loc       0.00      0.00      0.00         0\n",
            "    B-geo-loc       0.00      0.07      0.00        30\n",
            "     B-tvshow       0.00      0.00      0.00         0\n",
            "            O       1.00      0.37      0.54    150052\n",
            "    I-product       0.00      0.00      0.00         0\n",
            "      B-other       0.00      0.00      0.00         0\n",
            "B-musicartist       0.00      0.00      0.00         0\n",
            "      I-movie       0.00      0.00      0.00         0\n",
            "      B-movie       0.00      0.00      0.00         0\n",
            "     B-person       0.00      0.33      0.00         3\n",
            "      I-other       0.00      0.00      0.00         3\n",
            "    I-company       0.00      0.00      0.00         0\n",
            "     I-person       0.06      0.33      0.11        58\n",
            "            N       0.00      0.00      0.00         0\n",
            "    B-company       0.00      0.00      0.00         0\n",
            "     I-tvshow       0.00      0.00      0.00         0\n",
            "   I-facility       0.00      0.00      0.00         4\n",
            "\n",
            "     accuracy                           0.37    150150\n",
            "    macro avg       0.05      0.05      0.03    150150\n",
            " weighted avg       1.00      0.37      0.54    150150\n",
            "\n"
          ]
        },
        {
          "output_type": "stream",
          "name": "stderr",
          "text": [
            "/usr/local/lib/python3.10/dist-packages/sklearn/metrics/_classification.py:1344: UndefinedMetricWarning: Recall and F-score are ill-defined and being set to 0.0 in labels with no true samples. Use `zero_division` parameter to control this behavior.\n",
            "  _warn_prf(average, modifier, msg_start, len(result))\n"
          ]
        }
      ],
      "source": [
        "from sklearn.metrics import classification_report\n",
        "print(\"Classification Report:\\n \", classification_report(flatten_predicted, flatten_true, labels=unique_tags))"
      ]
    },
    {
      "cell_type": "markdown",
      "source": [
        "### BERT(Transformers)"
      ],
      "metadata": {
        "id": "RTqkAdMUhhcG"
      },
      "id": "RTqkAdMUhhcG"
    },
    {
      "cell_type": "code",
      "execution_count": null,
      "id": "ba74afcb",
      "metadata": {
        "colab": {
          "base_uri": "https://localhost:8080/"
        },
        "id": "ba74afcb",
        "outputId": "6da4e99e-4401-4cea-e7ce-da4c1e78f63d"
      },
      "outputs": [
        {
          "output_type": "stream",
          "name": "stdout",
          "text": [
            "Collecting transformers\n",
            "  Downloading transformers-4.33.1-py3-none-any.whl (7.6 MB)\n",
            "\u001b[2K     \u001b[90m━━━━━━━━━━━━━━━━━━━━━━━━━━━━━━━━━━━━━━━━\u001b[0m \u001b[32m7.6/7.6 MB\u001b[0m \u001b[31m26.7 MB/s\u001b[0m eta \u001b[36m0:00:00\u001b[0m\n",
            "\u001b[?25hRequirement already satisfied: filelock in /usr/local/lib/python3.10/dist-packages (from transformers) (3.12.2)\n",
            "Collecting huggingface-hub<1.0,>=0.15.1 (from transformers)\n",
            "  Downloading huggingface_hub-0.17.1-py3-none-any.whl (294 kB)\n",
            "\u001b[2K     \u001b[90m━━━━━━━━━━━━━━━━━━━━━━━━━━━━━━━━━━━━━━\u001b[0m \u001b[32m294.8/294.8 kB\u001b[0m \u001b[31m34.8 MB/s\u001b[0m eta \u001b[36m0:00:00\u001b[0m\n",
            "\u001b[?25hRequirement already satisfied: numpy>=1.17 in /usr/local/lib/python3.10/dist-packages (from transformers) (1.23.5)\n",
            "Requirement already satisfied: packaging>=20.0 in /usr/local/lib/python3.10/dist-packages (from transformers) (23.1)\n",
            "Requirement already satisfied: pyyaml>=5.1 in /usr/local/lib/python3.10/dist-packages (from transformers) (6.0.1)\n",
            "Requirement already satisfied: regex!=2019.12.17 in /usr/local/lib/python3.10/dist-packages (from transformers) (2023.6.3)\n",
            "Requirement already satisfied: requests in /usr/local/lib/python3.10/dist-packages (from transformers) (2.31.0)\n",
            "Collecting tokenizers!=0.11.3,<0.14,>=0.11.1 (from transformers)\n",
            "  Downloading tokenizers-0.13.3-cp310-cp310-manylinux_2_17_x86_64.manylinux2014_x86_64.whl (7.8 MB)\n",
            "\u001b[2K     \u001b[90m━━━━━━━━━━━━━━━━━━━━━━━━━━━━━━━━━━━━━━━━\u001b[0m \u001b[32m7.8/7.8 MB\u001b[0m \u001b[31m62.7 MB/s\u001b[0m eta \u001b[36m0:00:00\u001b[0m\n",
            "\u001b[?25hCollecting safetensors>=0.3.1 (from transformers)\n",
            "  Downloading safetensors-0.3.3-cp310-cp310-manylinux_2_17_x86_64.manylinux2014_x86_64.whl (1.3 MB)\n",
            "\u001b[2K     \u001b[90m━━━━━━━━━━━━━━━━━━━━━━━━━━━━━━━━━━━━━━━━\u001b[0m \u001b[32m1.3/1.3 MB\u001b[0m \u001b[31m67.9 MB/s\u001b[0m eta \u001b[36m0:00:00\u001b[0m\n",
            "\u001b[?25hRequirement already satisfied: tqdm>=4.27 in /usr/local/lib/python3.10/dist-packages (from transformers) (4.66.1)\n",
            "Requirement already satisfied: fsspec in /usr/local/lib/python3.10/dist-packages (from huggingface-hub<1.0,>=0.15.1->transformers) (2023.6.0)\n",
            "Requirement already satisfied: typing-extensions>=3.7.4.3 in /usr/local/lib/python3.10/dist-packages (from huggingface-hub<1.0,>=0.15.1->transformers) (4.5.0)\n",
            "Requirement already satisfied: charset-normalizer<4,>=2 in /usr/local/lib/python3.10/dist-packages (from requests->transformers) (3.2.0)\n",
            "Requirement already satisfied: idna<4,>=2.5 in /usr/local/lib/python3.10/dist-packages (from requests->transformers) (3.4)\n",
            "Requirement already satisfied: urllib3<3,>=1.21.1 in /usr/local/lib/python3.10/dist-packages (from requests->transformers) (2.0.4)\n",
            "Requirement already satisfied: certifi>=2017.4.17 in /usr/local/lib/python3.10/dist-packages (from requests->transformers) (2023.7.22)\n",
            "Installing collected packages: tokenizers, safetensors, huggingface-hub, transformers\n",
            "Successfully installed huggingface-hub-0.17.1 safetensors-0.3.3 tokenizers-0.13.3 transformers-4.33.1\n",
            "Requirement already satisfied: plotly in /usr/local/lib/python3.10/dist-packages (5.15.0)\n",
            "Requirement already satisfied: tenacity>=6.2.0 in /usr/local/lib/python3.10/dist-packages (from plotly) (8.2.3)\n",
            "Requirement already satisfied: packaging in /usr/local/lib/python3.10/dist-packages (from plotly) (23.1)\n"
          ]
        }
      ],
      "source": [
        "! pip install transformers\n",
        "! pip install plotly"
      ]
    },
    {
      "cell_type": "code",
      "execution_count": null,
      "id": "b9eafe40",
      "metadata": {
        "id": "b9eafe40"
      },
      "outputs": [],
      "source": [
        "import numpy as np\n",
        "import pandas as pd\n",
        "import plotly.express as px\n",
        "import matplotlib.pyplot as plt\n",
        "from tqdm import tqdm\n",
        "\n",
        "import tensorflow as tf\n",
        "from tensorflow.keras.callbacks import EarlyStopping\n",
        "\n",
        "import transformers\n",
        "from transformers import BertTokenizerFast\n",
        "from transformers import TFBertModel\n",
        "from transformers import AutoTokenizer\n",
        "\n",
        "from sklearn import preprocessing\n",
        "from sklearn.model_selection import train_test_split"
      ]
    },
    {
      "cell_type": "code",
      "source": [
        "Model = 'bert-base-uncased'\n",
        "tokenizer = AutoTokenizer.from_pretrained(Model)"
      ],
      "metadata": {
        "colab": {
          "base_uri": "https://localhost:8080/",
          "height": 145,
          "referenced_widgets": [
            "46a1d7e850ab479eb271d26947e90708",
            "7c0cbb84c80a49799adef860e619709a",
            "8679af09eaea479b9535e628aa893007",
            "e22e42692f674d139f1679c18d418be3",
            "45cf778c0b794ed5931f05121fa98aff",
            "a1733e1ccb1b4782b800cdc8a64384b9",
            "e2c919587c3140fdb42d0bf073341685",
            "2d35514c8af24025b99b1661f9763fa6",
            "8b0193b77b2746d58846f1ea858d13be",
            "5db680978205462ab2a3c9bb60309cc4",
            "8b140a3d034f43a7a93002a17ea38b90",
            "ccca4050e300491e95bbffd482577ab7",
            "b6b5ae0bddb74f799906d8fdb2131031",
            "5072e29192e3484199e3067cf704c9ed",
            "c1941ef550284dbb996069bd615b5504",
            "f06d0bfd22ff4c68af712817cdbc62e7",
            "aed0d21d2d66402486bebb1998520882",
            "e30cc684ac8d45f0be9cf719c9715c94",
            "d7c31f2e15564863b986b84337e10d1d",
            "fcdc19d81d244299af3fd1b17cecaeb0",
            "366c2c14ffff4c0283618d43e8848536",
            "5ebce17cce19442ba3ca6510b7ee1e36",
            "c77b08240a7f4e8ebc62498112effb5b",
            "92ec1d7693df4c17bd12372ac7e1f497",
            "bce157ce9fe644419f14489a56793306",
            "735345e0df7d48dc9768d4b4bd280db5",
            "de1ad0aeeb594962850cd7949329de92",
            "37fbef6421254b14aa833dd26d127c52",
            "06ab3bee1cba4aea9be0273a00d28a93",
            "be7cab43b2ca4180aedf9b0793aab963",
            "be3585b3aa66418299062457802e3fac",
            "fcf0d085dd664b9c81db665655f120b5",
            "7fba9636dc3649faab269ddb00c09de3",
            "823a5a1ff5ff41b691810512d68d8aa4",
            "fb9ab9a0f87a47468fd5d862e55e7733",
            "02381ffaa07540ba96ff224b3a1e5577",
            "cd5e82889d4345fa92d148c3c7f1e34c",
            "5d21f79824ac48d1a899a9b65e3c1b0f",
            "365e425958b7451097b63b25e2192529",
            "ffc3b07919654ae8805e06de65348d5d",
            "5b7906191c89476faee812b0bcdab9ec",
            "1e23e64f263942f6a775be53544e879e",
            "b10a16ffacaa48da9674a01e51910d52",
            "c64ad44b97ed45cdaab3e91fb047da7c"
          ]
        },
        "id": "alggl-TLPqiG",
        "outputId": "b49abf47-bfcd-4b89-f59a-7dfb50756cbe"
      },
      "id": "alggl-TLPqiG",
      "execution_count": null,
      "outputs": [
        {
          "output_type": "display_data",
          "data": {
            "text/plain": [
              "Downloading (…)okenizer_config.json:   0%|          | 0.00/28.0 [00:00<?, ?B/s]"
            ],
            "application/vnd.jupyter.widget-view+json": {
              "version_major": 2,
              "version_minor": 0,
              "model_id": "46a1d7e850ab479eb271d26947e90708"
            }
          },
          "metadata": {}
        },
        {
          "output_type": "display_data",
          "data": {
            "text/plain": [
              "Downloading (…)lve/main/config.json:   0%|          | 0.00/570 [00:00<?, ?B/s]"
            ],
            "application/vnd.jupyter.widget-view+json": {
              "version_major": 2,
              "version_minor": 0,
              "model_id": "ccca4050e300491e95bbffd482577ab7"
            }
          },
          "metadata": {}
        },
        {
          "output_type": "display_data",
          "data": {
            "text/plain": [
              "Downloading (…)solve/main/vocab.txt:   0%|          | 0.00/232k [00:00<?, ?B/s]"
            ],
            "application/vnd.jupyter.widget-view+json": {
              "version_major": 2,
              "version_minor": 0,
              "model_id": "c77b08240a7f4e8ebc62498112effb5b"
            }
          },
          "metadata": {}
        },
        {
          "output_type": "display_data",
          "data": {
            "text/plain": [
              "Downloading (…)/main/tokenizer.json:   0%|          | 0.00/466k [00:00<?, ?B/s]"
            ],
            "application/vnd.jupyter.widget-view+json": {
              "version_major": 2,
              "version_minor": 0,
              "model_id": "823a5a1ff5ff41b691810512d68d8aa4"
            }
          },
          "metadata": {}
        }
      ]
    },
    {
      "cell_type": "code",
      "source": [
        "  sample = train_data[10] #Random tokenized sample\n",
        "  for token, tag in sample:\n",
        "    for subtoken in tokenizer(token)['input_ids'][1:-1]:\n",
        "      print(token, subtoken)"
      ],
      "metadata": {
        "colab": {
          "base_uri": "https://localhost:8080/"
        },
        "id": "d442wecJQ17D",
        "outputId": "c1c3582e-5927-46db-f5e5-d333af3268bc"
      },
      "id": "d442wecJQ17D",
      "execution_count": null,
      "outputs": [
        {
          "output_type": "stream",
          "name": "stdout",
          "text": [
            "RT 19387\n",
            "@Hatshepsutely 1030\n",
            "@Hatshepsutely 16717\n",
            "@Hatshepsutely 5369\n",
            "@Hatshepsutely 4523\n",
            "@Hatshepsutely 10421\n",
            "@Hatshepsutely 2135\n",
            ": 1024\n",
            "@adamlambert 1030\n",
            "@adamlambert 4205\n",
            "@adamlambert 10278\n",
            "@adamlambert 8296\n",
            "please 3531\n",
            ", 1010\n",
            "oh 2821\n",
            "please 3531\n",
            "wear 4929\n",
            "the 1996\n",
            "infamous 14429\n",
            "beach 3509\n",
            "hat 6045\n",
            "tonight 3892\n",
            "during 2076\n",
            "your 2115\n",
            "encore 19493\n",
            "( 1006\n",
            "in 1999\n",
            "lieu 22470\n",
            "of 1997\n",
            "a 1037\n",
            "rasta 20710\n",
            "rasta 2696\n",
            "wig) 24405\n",
            "wig) 1007\n",
            ". 1012\n",
            "&lt; 1004\n",
            "&lt; 8318\n",
            "&lt; 1025\n",
            "3333 21211\n",
            "3333 2509\n"
          ]
        }
      ]
    },
    {
      "cell_type": "code",
      "source": [
        "def tokenize_sample(sample):\n",
        "\n",
        "  #sentence, tags = sample # unpack the sample tuple\n",
        "  #tokens = tokenizer.tokenize(sentence) # split the sentence into tokens\n",
        "  subtokens = [] # initialize an empty list for subtokens\n",
        "  subtags = [] # initialize an empty list for subtags\n",
        "  #for token, tag in zip(tokens, tags): # iterate over the tokens and tags\n",
        "  for sentence in sample:\n",
        "    for token, tag in sentence:\n",
        "      for subtoken in tokenizer(token)['input_ids'][1:-1]:\n",
        "        if token.startswith('##'): # check if the token is a subword\n",
        "          subtokens.append(token) # append the token to the subtokens list\n",
        "          subtags.append('X') # append a special tag 'X' to the subtags list\n",
        "        else: # otherwise, the token is a word\n",
        "          subtokens.append(token) # append the token to the subtokens list\n",
        "          subtags.append(tag) # append the tag to the subtags list\n",
        "  subtoken_ids = tokenizer.convert_tokens_to_ids(subtokens) # convert the subtokens to numerical IDs\n",
        "  return list(zip(subtoken_ids, subtags)) # return a list of tuples of subtoken IDs and tags"
      ],
      "metadata": {
        "id": "AHcjcq0yhaNb"
      },
      "id": "AHcjcq0yhaNb",
      "execution_count": null,
      "outputs": []
    },
    {
      "cell_type": "code",
      "source": [
        "def tokenize_sample(sample):\n",
        "  seq = [(subtoken, tag) for token, tag in sample\n",
        "         for subtoken in tokenizer(token.lower())['input_ids'][1:-1]]\n",
        "  return [(3, 'O')] + seq + [(4, 'O')]\n"
      ],
      "metadata": {
        "id": "-wE8lPbCVO66"
      },
      "id": "-wE8lPbCVO66",
      "execution_count": null,
      "outputs": []
    },
    {
      "cell_type": "code",
      "source": [
        "def preprocess(samples, tag2id):\n",
        "  tokenized_samples = list(map(tokenize_sample, samples))\n",
        "  max_len = max(map(len, tokenized_samples))\n",
        "\n",
        "  X_input_ids = np.zeros((len(samples), max_len), dtype = np.int32)\n",
        "\n",
        "  X_input_masks = np.zeros((len(samples), max_len), dtype = np.int32)\n",
        "\n",
        "  y =  np.zeros((len(samples),max_len), dtype = np.int32)\n",
        "\n",
        "  for i, sentence in enumerate(tokenized_samples):\n",
        "    for j in range(len(sentence)):\n",
        "      X_input_masks[i,j] = 1\n",
        "    for j, (subtoken_id, tag) in enumerate(sentence):\n",
        "      X_input_ids[i,j] = subtoken_id\n",
        "      y[i,j] = tag2id[tag]\n",
        "  return (X_input_ids, X_input_masks), y\n",
        "\n",
        "X_train, y_train = preprocess(train_data, tag2idx)\n",
        "X_test, y_test = preprocess(test_data, tag2idx)\n"
      ],
      "metadata": {
        "id": "I7ZnWDmtSFRy"
      },
      "id": "I7ZnWDmtSFRy",
      "execution_count": null,
      "outputs": []
    },
    {
      "cell_type": "code",
      "source": [
        "#Loading model\n",
        "from transformers import AutoConfig, TFAutoModelForTokenClassification\n",
        "\n",
        "config = AutoConfig.from_pretrained(Model, num_labels=len(tags), id2tag = idx2tag, tag2id = tag2idx)\n",
        "model = TFAutoModelForTokenClassification.from_pretrained(Model, config = config)\n",
        "model.summary()"
      ],
      "metadata": {
        "colab": {
          "base_uri": "https://localhost:8080/",
          "height": 399,
          "referenced_widgets": [
            "c1832d2b773e4b83aaef05c6cb82cc6d",
            "c8dab41736c4465389be7e3a388fecc5",
            "93230fcefc7d46cbb16d4be3e852a0b1",
            "d440ea0ffa6f4e378711a13d58e1ee9b",
            "b91b9d467eb64c148046e4ce8d67bd00",
            "a3bbd678d9ac48bb863895101c352703",
            "b80b04b222734375bd09f3ccdb2d7191",
            "99d72e42c44d48f0b0e58f4839118ad7",
            "b3e2d0f833644fdbbe6a9c4028942211",
            "eb4c1943597f47d7983049f9095e178a",
            "78c5d8cd222e47fdaa188695eeae2db0"
          ]
        },
        "id": "65Oz2SZUgEOi",
        "outputId": "bd1610a5-79b6-4fb0-9523-4088537e452a"
      },
      "id": "65Oz2SZUgEOi",
      "execution_count": null,
      "outputs": [
        {
          "output_type": "display_data",
          "data": {
            "text/plain": [
              "Downloading model.safetensors:   0%|          | 0.00/440M [00:00<?, ?B/s]"
            ],
            "application/vnd.jupyter.widget-view+json": {
              "version_major": 2,
              "version_minor": 0,
              "model_id": "c1832d2b773e4b83aaef05c6cb82cc6d"
            }
          },
          "metadata": {}
        },
        {
          "output_type": "stream",
          "name": "stderr",
          "text": [
            "All PyTorch model weights were used when initializing TFBertForTokenClassification.\n",
            "\n",
            "Some weights or buffers of the TF 2.0 model TFBertForTokenClassification were not initialized from the PyTorch model and are newly initialized: ['classifier.weight', 'classifier.bias']\n",
            "You should probably TRAIN this model on a down-stream task to be able to use it for predictions and inference.\n"
          ]
        },
        {
          "output_type": "stream",
          "name": "stdout",
          "text": [
            "Model: \"tf_bert_for_token_classification\"\n",
            "_________________________________________________________________\n",
            " Layer (type)                Output Shape              Param #   \n",
            "=================================================================\n",
            " bert (TFBertMainLayer)      multiple                  108891648 \n",
            "                                                                 \n",
            " dropout_37 (Dropout)        multiple                  0         \n",
            "                                                                 \n",
            " classifier (Dense)          multiple                  16918     \n",
            "                                                                 \n",
            "=================================================================\n",
            "Total params: 108908566 (415.45 MB)\n",
            "Trainable params: 108908566 (415.45 MB)\n",
            "Non-trainable params: 0 (0.00 Byte)\n",
            "_________________________________________________________________\n"
          ]
        }
      ]
    },
    {
      "cell_type": "code",
      "source": [
        "#Fitting the model\n",
        "optimizer = tf.keras.optimizers.Adam(learning_rate = 0.0001)\n",
        "loss = tf.keras.losses.SparseCategoricalCrossentropy(from_logits = True)\n",
        "metric = tf.keras.metrics.SparseCategoricalAccuracy('accuracy')\n",
        "batch_size = 32\n",
        "model.compile(optimizer = optimizer , loss = loss, metrics = metric)\n",
        "\n",
        "history = model.fit(X_train, y_train, validation_split = 0.2, epochs = 10, batch_size = batch_size)"
      ],
      "metadata": {
        "colab": {
          "base_uri": "https://localhost:8080/"
        },
        "id": "njDNniYYh0Ia",
        "outputId": "c12d9f69-ec49-4daa-85ca-f87f219eec7e"
      },
      "id": "njDNniYYh0Ia",
      "execution_count": null,
      "outputs": [
        {
          "output_type": "stream",
          "name": "stdout",
          "text": [
            "Epoch 1/10\n",
            "60/60 [==============================] - 104s 617ms/step - loss: 0.3641 - accuracy: 0.9018 - val_loss: 0.1195 - val_accuracy: 0.9815\n",
            "Epoch 2/10\n",
            "60/60 [==============================] - 37s 624ms/step - loss: 0.0957 - accuracy: 0.9810 - val_loss: 0.0814 - val_accuracy: 0.9823\n",
            "Epoch 3/10\n",
            "60/60 [==============================] - 33s 557ms/step - loss: 0.0663 - accuracy: 0.9844 - val_loss: 0.0754 - val_accuracy: 0.9832\n",
            "Epoch 4/10\n",
            "60/60 [==============================] - 35s 587ms/step - loss: 0.0473 - accuracy: 0.9888 - val_loss: 0.0691 - val_accuracy: 0.9843\n",
            "Epoch 5/10\n",
            "60/60 [==============================] - 36s 593ms/step - loss: 0.0324 - accuracy: 0.9919 - val_loss: 0.0682 - val_accuracy: 0.9854\n",
            "Epoch 6/10\n",
            "60/60 [==============================] - 35s 585ms/step - loss: 0.0230 - accuracy: 0.9946 - val_loss: 0.0686 - val_accuracy: 0.9873\n",
            "Epoch 7/10\n",
            "60/60 [==============================] - 35s 591ms/step - loss: 0.0145 - accuracy: 0.9968 - val_loss: 0.0707 - val_accuracy: 0.9869\n",
            "Epoch 8/10\n",
            "60/60 [==============================] - 33s 546ms/step - loss: 0.0105 - accuracy: 0.9978 - val_loss: 0.0787 - val_accuracy: 0.9855\n",
            "Epoch 9/10\n",
            "60/60 [==============================] - 35s 587ms/step - loss: 0.0072 - accuracy: 0.9986 - val_loss: 0.0724 - val_accuracy: 0.9868\n",
            "Epoch 10/10\n",
            "60/60 [==============================] - 35s 587ms/step - loss: 0.0057 - accuracy: 0.9990 - val_loss: 0.0804 - val_accuracy: 0.9862\n"
          ]
        }
      ]
    },
    {
      "cell_type": "markdown",
      "source": [
        "\n",
        "*   Let's have a side by side view of true labels and model predictions\n",
        "*   Arrange as an array of tuple(token, true label, model prediction)\n",
        "\n"
      ],
      "metadata": {
        "id": "79B8-Mmwlag-"
      },
      "id": "79B8-Mmwlag-"
    },
    {
      "cell_type": "code",
      "source": [
        "def aggregate(sample, predictions):\n",
        "  results = []\n",
        "  i = 1\n",
        "  for token, y_true in sample:\n",
        "    nr_subtoken = len(tokenizer(token.lower())['input_ids']) -2\n",
        "    pred = predictions[i:i+nr_subtoken]\n",
        "    i += nr_subtoken\n",
        "    y_pred =  tags[np.argmax(np.sum(pred, axis = 0))]\n",
        "    results.append((token, y_true, y_pred))\n",
        "  return results\n",
        "\n",
        "y_probs = model.predict(X_test)[0]\n",
        "predictions = [aggregate(sample, predictions) for sample, predictions in zip(test_data, y_probs)]\n"
      ],
      "metadata": {
        "colab": {
          "base_uri": "https://localhost:8080/"
        },
        "id": "oWgkcSsNiVdj",
        "outputId": "083c643c-4b1f-4ce8-f16d-e6dfca27c12a"
      },
      "id": "oWgkcSsNiVdj",
      "execution_count": null,
      "outputs": [
        {
          "output_type": "stream",
          "name": "stdout",
          "text": [
            "121/121 [==============================] - 47s 357ms/step\n"
          ]
        }
      ]
    },
    {
      "cell_type": "code",
      "source": [
        "for i in range(10, 15):\n",
        "  print(predictions[i])"
      ],
      "metadata": {
        "colab": {
          "base_uri": "https://localhost:8080/"
        },
        "id": "nxU6UU48nq3r",
        "outputId": "aa21ced3-f174-46f4-cb0e-7848225271f9"
      },
      "id": "nxU6UU48nq3r",
      "execution_count": null,
      "outputs": [
        {
          "output_type": "stream",
          "name": "stdout",
          "text": [
            "[('I', 'O', 'O'), ('drive', 'O', 'O'), ('by', 'O', 'O'), ('that', 'O', 'O'), ('motel', 'O', 'O'), ('almost', 'O', 'O'), ('every', 'O', 'O'), ('night', 'O', 'O'), ('.', 'O', 'O'), ('#MesaShooting', 'O', 'O')]\n",
            "[('Apple', 'B-product', 'B-product'), ('MacBook', 'I-product', 'I-product'), ('Pro', 'I-product', 'I-product'), ('A1278', 'I-product', 'I-product'), ('13.3', 'I-product', 'O'), ('\"', 'I-product', 'O'), ('Laptop', 'I-product', 'O'), ('-', 'I-product', 'O'), ('MD101LL/A', 'I-product', 'O'), ('(', 'O', 'O'), ('June', 'O', 'O'), (',', 'O', 'O'), ('2012', 'O', 'O'), (')', 'O', 'O'), ('-', 'O', 'O'), ('Full', 'O', 'O'), ('read', 'O', 'O'), ('by', 'O', 'O'), ('eBay', 'B-company', 'B-company'), ('http://t.co/2zgQ99nmuf', 'O', 'O'), ('http://t.co/eQmogqqABK', 'O', 'O')]\n",
            "[('Tuff', 'B-musicartist', 'B-other'), ('Culture', 'I-musicartist', 'I-other'), ('-', 'O', 'O'), ('Destiny', 'B-product', 'B-other'), ('EP', 'O', 'O'), ('(', 'O', 'O'), ('PAR', 'O', 'O'), ('042', 'O', 'O'), ('FORTHCOMING', 'O', 'O'), ('27th', 'O', 'O'), ('JULY', 'O', 'O'), ('VIA', 'O', 'O'), ('JUNO', 'B-product', 'B-other'), (')', 'O', 'O'), ('Tracklist', 'O', 'O'), (':', 'O', 'O'), ('Destiny', 'B-product', 'B-other'), ('Questions', 'B-product', 'O'), ('Theres', 'B-product', 'O'), ('No', 'I-product', 'O'), ('...', 'O', 'O'), ('http://t.co/X7nL8DiREK', 'O', 'O')]\n",
            "[('December', 'O', 'O'), ('23', 'O', 'O'), (',', 'O', 'O'), ('2015', 'O', 'O'), ('at', 'O', 'O'), ('03:44', 'O', 'O'), ('PM', 'O', 'O'), ('#if24', 'O', 'O'), ('#s8', 'O', 'O')]\n",
            "[('RT', 'O', 'O'), ('@YahooDrSaturday', 'O', 'O'), (':', 'O', 'O'), ('This', 'O', 'O'), ('is', 'O', 'O'), ('how', 'O', 'O'), ('Arkansas', 'B-sportsteam', 'B-geo-loc'), ('crazily', 'O', 'O'), ('converted', 'O', 'O'), ('4th', 'O', 'O'), ('and', 'O', 'O'), ('25', 'O', 'O'), ('in', 'O', 'O'), ('OT', 'O', 'O'), ('.', 'O', 'O'), ('What', 'O', 'O'), ('a', 'O', 'O'), ('lateral', 'O', 'O'), ('!', 'O', 'O'), ('https://t.co/ylALEACWe8', 'O', 'O')]\n"
          ]
        }
      ]
    },
    {
      "cell_type": "code",
      "source": [
        "model.save_pretrained('output/NER_pretrained')"
      ],
      "metadata": {
        "id": "EZXXO77UqvP-"
      },
      "id": "EZXXO77UqvP-",
      "execution_count": null,
      "outputs": []
    },
    {
      "cell_type": "markdown",
      "source": [
        "### Comparision"
      ],
      "metadata": {
        "id": "XHJ2O7PWrL43"
      },
      "id": "XHJ2O7PWrL43"
    },
    {
      "cell_type": "code",
      "source": [
        "def tokenize_bert(sentence):\n",
        "  sentence_tokens = tokenizer(sentence.split(' '))['input_ids']\n",
        "  ner_tokens = [3]  #Start token\n",
        "  for word_token in sentence_tokens:\n",
        "    ner_tokens.extend(word_token[1:-1])\n",
        "  ner_tokens += [4] #End token\n",
        "  return ner_tokens"
      ],
      "metadata": {
        "id": "2WbXW8bVrLH6"
      },
      "id": "2WbXW8bVrLH6",
      "execution_count": null,
      "outputs": []
    },
    {
      "cell_type": "code",
      "source": [
        "sentence = 'apple macbook pro is the best laptop in the word'\n",
        "\n",
        "#Bert_tokenization\n",
        "bert_token = tokenize_bert(sentence)\n",
        "\n",
        "#CRF_tokenization\n",
        "crf_tokens = crf_tokenizer.texts_to_sequences([sentence])"
      ],
      "metadata": {
        "id": "bErwcOe6rAHO"
      },
      "id": "bErwcOe6rAHO",
      "execution_count": null,
      "outputs": []
    },
    {
      "cell_type": "code",
      "source": [
        "def align_labels_to_input(sentence, predictions):\n",
        "  sentence_token = sentence.lower().split(\" \")\n",
        "  results = []\n",
        "\n",
        "  i = 1\n",
        "  for token in sentence_token:\n",
        "    nr_subtoken = len(tokenizer(token)['input_ids']) -2\n",
        "    pred = predictions[i:i+nr_subtoken]\n",
        "    i += nr_subtoken\n",
        "    y_pred =  idx2tag[np.argmax(np.sum(pred, axis = 0))]\n",
        "    results.append((token, y_pred))\n",
        "  return results\n",
        "\n",
        "bert_logits = model.predict([bert_token], verbose = 0).logits\n",
        "align_labels_to_input(sentence, bert_logits[0])"
      ],
      "metadata": {
        "colab": {
          "base_uri": "https://localhost:8080/"
        },
        "id": "UrpcL7cfD82r",
        "outputId": "65adedca-dbc0-4e7f-a8c4-1c7449f2bdbb"
      },
      "id": "UrpcL7cfD82r",
      "execution_count": null,
      "outputs": [
        {
          "output_type": "execute_result",
          "data": {
            "text/plain": [
              "[('apple', 'B-product'),\n",
              " ('macbook', 'I-product'),\n",
              " ('pro', 'I-product'),\n",
              " ('is', 'O'),\n",
              " ('the', 'O'),\n",
              " ('best', 'O'),\n",
              " ('laptop', 'O'),\n",
              " ('in', 'O'),\n",
              " ('the', 'O'),\n",
              " ('word', 'O')]"
            ]
          },
          "metadata": {},
          "execution_count": 37
        }
      ]
    },
    {
      "cell_type": "code",
      "source": [
        "#CRF output\n",
        "from pprint import pprint\n",
        "\n",
        "crf_padded_tokens = [[crf_tokens[0][x] if x < len(crf_tokens[0]) else 0 for x in range(39)]]\n",
        "crf_preds, _, _, _ = crf_model.predict(crf_padded_tokens, verbose = 0)[1]\n",
        "\n",
        "crf_preds = [idx2tag[x] for x in crf_preds[0]]  # Convert indices into predictions\n",
        "\n",
        "#Get alligned input with labels\n",
        "input_word_tokens = [crf_tokenizer.sequences_to_texts([[x]])[0] for x in crf_padded_tokens[0]]\n",
        "\n",
        "#Only printing non_padded tokens with their labels\n",
        "pprint(list(zip(input_word_tokens[:len(crf_tokens[0])], crf_preds[:len(crf_tokens[0])])))"
      ],
      "metadata": {
        "colab": {
          "base_uri": "https://localhost:8080/"
        },
        "id": "ZW2MSkdMjGUk",
        "outputId": "ee0689a7-d79a-4783-b3ca-00e97a9b4455"
      },
      "id": "ZW2MSkdMjGUk",
      "execution_count": null,
      "outputs": [
        {
          "output_type": "stream",
          "name": "stdout",
          "text": [
            "[('apple', 'O'),\n",
            " ('macbook', 'I-product'),\n",
            " ('pro', 'B-product'),\n",
            " ('is', 'B-musicartist'),\n",
            " ('the', 'O'),\n",
            " ('best', 'O'),\n",
            " ('laptop', 'O'),\n",
            " ('in', 'O'),\n",
            " ('the', 'B-person'),\n",
            " ('word', 'O')]\n"
          ]
        }
      ]
    },
    {
      "cell_type": "markdown",
      "source": [
        "## Questions and Answers:\n",
        "\n",
        "1. Defining the problem statements and where can this and modifications of this be used?\n",
        "\n",
        "  Ans:\n",
        "\n",
        "  Problem statement:\n",
        "  NER: Twitter wants to automatically tag and analyze tweets for better understanding of the trends and topics without being dependent on the hashtags that the users use.\n",
        "\n",
        "  Leveraging the data of twitter, train models that will be able to identify the various named entities.\n",
        "  \n",
        "  NER can be used for various applications, such as:\n",
        "\n",
        "  •  Content classification: to understand the content themes and categories based on the named entities.\n",
        "\n",
        "  •  Question answering: to find the best answer based on the relevant entities in a question and a text.\n",
        "\n",
        "  •  Information retrieval: to improve the search results by using the named entities as keywords or filters.\n",
        "\n",
        "  •  Machine translation: to improve the quality and accuracy of machine translation by identifying and preserving the named entities in the source and target languages.\n",
        "\n",
        "  •  Data analysis: to extract and organize data from various sources and use them for further analysis and visualization.\n",
        "\n",
        "2. Explain the data format (conll bio format).\n",
        "\n",
        " Ans:  The CoNLL BIO format, often referred to simply as the BIO format, is a commonly used data format for representing annotated sequences, such as named entity recognition (NER) or part-of-speech tagging tasks. It stands for \"Begin, Inside, Outside\" and is an extension of the CoNLL format used for tabular data.\n",
        "\n",
        "  In the BIO format, each token in a sequence is assigned a tag that indicates its role in a specific\n",
        "  task (e.g., identifying named entities in text). The format uses the following labels:\n",
        "\n",
        "  B-label: Indicates the beginning of an entity of the specified label.\n",
        "  I-label: Indicates an inside (or intermediate) token of an entity of the specified label.\n",
        "  O: Indicates a token that is outside of any entity.\n",
        "  label: Represents an entity that spans a single token.\n",
        "\n",
        "3. What other ner data annotation formats are available and how are they different.\n",
        "\n",
        "  Ans: Apart from the CoNLL BIO format, several other data annotation formats are used for Named Entity Recognition (NER). Each format has its own characteristics and purposes. Here are a few other NER data annotation formats:\n",
        "\n",
        "  **IOB (Inside-Outside-Beginning):**\n",
        "\n",
        "  Similar to BIO format, but instead of \"B-\" and \"I-\" prefixes, it uses \"I-\" and \"O-\".\n",
        "  \"I-\" marks tokens inside an entity, \"O-\" marks tokens outside of any entity, and \"B-\" marks the beginning of an entity.\n",
        "\n",
        "  **IOB2 (Inside-Outside-Beginning 2):**\n",
        "\n",
        "  A variation of the IOB format.\n",
        "  It uses \"B-\" for the beginning of an entity, and \"I-\" for both inside tokens and the inside of consecutive entities.\n",
        "\n",
        "  **IOBES (Inside-Outside-Beginning-End-Single):**\n",
        "\n",
        "  An extension of IOB that includes additional tags for the end of an entity (\"E-\") and single-token entities (\"S-\").\n",
        "\n",
        "  **BIOUL (Beginning, Inside, Outside, Unit, Last):**\n",
        "\n",
        "  Similar to BIO, but with additional tags.\n",
        "  \"U-\" is used for single-token entities, and \"L-\" marks the last token of an entity.\n",
        "\n",
        "  **Brackets Annotation:**\n",
        "\n",
        "  Entities are marked using brackets, with the entity label followed by the text span.\n",
        "  For example: \"[ORG Microsoft] released [DATE Windows 10] .\"\n",
        "\n",
        "  **XML or HTML Annotation:**\n",
        "\n",
        "  Entities are annotated using XML or HTML tags within the text.\n",
        "  For example:\n",
        "  xml\n",
        "  Copy code\n",
        "  <text> <ORG>Microsoft</ORG> released <DATE>Windows 10</DATE> . </text>\n",
        "  \n",
        "  **Standoff Annotation:**\n",
        "\n",
        "  Annotations are stored separately from the text in an annotation file.\n",
        "  The text file and annotation file are linked using character offsets or unique identifiers.\n",
        "\n",
        "  **Brat Annotation Format:**\n",
        "\n",
        "  Used by the Brat annotation tool.\n",
        "  Combines standoff annotation with an indexing mechanism for faster access.\n",
        "\n",
        "  The choice of annotation format depends on factors such as the annotation tool being used, compatibility with downstream processing, and personal preference. BIO and its variations (IOB, IOB2, IOBES) are commonly used due to their simplicity and compatibility with many machine learning frameworks.\n",
        "\n",
        "4. Why do we need tokenization of the data in our case\n",
        "\n",
        "  Ans: Tokenization is a crucial preprocessing step in Natural Language Processing (NLP) that involves breaking down a text into individual units, usually words or subwords. In the context of Named Entity Recognition (NER), tokenization is essential for several reasons:\n",
        "\n",
        "  **Isolating Entities:** NER aims to identify and classify named entities within a text. Tokenization helps in isolating individual words or subwords, making it easier to recognize where an entity starts and ends.\n",
        "\n",
        "  **Segmenting Text:** Text often contains punctuation marks, spaces, and special characters. Tokenization segments the text into meaningful units that can be individually analyzed.\n",
        "\n",
        "  **Standardization:** Tokenization ensures that the text is standardized into a format that machine learning models can process consistently. Each token can be assigned a specific label or feature, which is necessary for training a model.\n",
        "\n",
        "5. What other models can you use for this task\n",
        "\n",
        "  Ans: We can use models like BiLSTM, CNN and Flair for this NER task.\n",
        "\n",
        "6. Did early stopping have any effect on the training and results.\n",
        "\n",
        "  Ans: Yes, early stopping can have a significant effect on the training and results of neural networks. Early stopping can help to prevent overfitting, which is when the model learns the noise in the training data and performs poorly on new data. By monitoring the performance of the model on a validation set during training, early stopping can stop the training process when the model starts to lose generalization ability.\n",
        "\n",
        "7. How does the BERT model expect a pair of sentences to be processed?\n",
        "\n",
        "  Ans: The BERT model expects a pair of sentences to be processed in a specific way. The sentences are concatenated with a special token [SEP] between them, and another special token [CLS] is added at the beginning of the sequence. The tokens are then converted into numerical IDs using a vocabulary file, and a segment embedding is added to indicate which sentence each token belongs to. Additionally, a positional embedding is added to capture the order of the tokens. The resulting sequence of embeddings is then fed into the BERT model as input.\n",
        "\n",
        "8. Why choose Attention based models over Recurrent based ones?\n",
        "\n",
        "  Ans: • Attention based models use attention to focus on relevant parts of the input or output sequence.\n",
        "\n",
        "  •  Recurrent based models process the input or output sequence one token at a time.\n",
        "\n",
        "  •  Attention based models are faster, better at long-term dependencies, and more interpretable than recurrent based models.\n",
        "\n",
        "9. Differentiate BERT and simple transformers\n",
        "\n",
        "  Ans: • BERT is a pre-trained model that uses the encoder part of the transformer and can be fine-tuned for natural language understanding tasks. BERT is bidirectional and trained on masked language modeling and next sentence prediction .\n",
        "\n",
        "  •  Simple transformers is a library that provides an easy interface for training and evaluating various transformer-based models, including BERT and others. Simple transformers also supports natural language generation tasks .\n",
        "\n",
        "  •  BERT and simple transformers differ in their abstraction, complexity, flexibility, convenience, and performance. BERT requires more coding and customization, while simple transformers provides more default options and speed. The performance may depend on the task, data, and parameters.\n"
      ],
      "metadata": {
        "id": "3HOH4BxBebV4"
      },
      "id": "3HOH4BxBebV4"
    },
    {
      "cell_type": "code",
      "source": [],
      "metadata": {
        "id": "U4w9ImUEHxLi"
      },
      "id": "U4w9ImUEHxLi",
      "execution_count": null,
      "outputs": []
    }
  ],
  "metadata": {
    "kernelspec": {
      "display_name": "Python 3",
      "name": "python3"
    },
    "language_info": {
      "codemirror_mode": {
        "name": "ipython",
        "version": 3
      },
      "file_extension": ".py",
      "mimetype": "text/x-python",
      "name": "python",
      "nbconvert_exporter": "python",
      "pygments_lexer": "ipython3",
      "version": "3.9.7"
    },
    "colab": {
      "provenance": [],
      "gpuType": "T4"
    },
    "accelerator": "GPU",
    "widgets": {
      "application/vnd.jupyter.widget-state+json": {
        "46a1d7e850ab479eb271d26947e90708": {
          "model_module": "@jupyter-widgets/controls",
          "model_name": "HBoxModel",
          "model_module_version": "1.5.0",
          "state": {
            "_dom_classes": [],
            "_model_module": "@jupyter-widgets/controls",
            "_model_module_version": "1.5.0",
            "_model_name": "HBoxModel",
            "_view_count": null,
            "_view_module": "@jupyter-widgets/controls",
            "_view_module_version": "1.5.0",
            "_view_name": "HBoxView",
            "box_style": "",
            "children": [
              "IPY_MODEL_7c0cbb84c80a49799adef860e619709a",
              "IPY_MODEL_8679af09eaea479b9535e628aa893007",
              "IPY_MODEL_e22e42692f674d139f1679c18d418be3"
            ],
            "layout": "IPY_MODEL_45cf778c0b794ed5931f05121fa98aff"
          }
        },
        "7c0cbb84c80a49799adef860e619709a": {
          "model_module": "@jupyter-widgets/controls",
          "model_name": "HTMLModel",
          "model_module_version": "1.5.0",
          "state": {
            "_dom_classes": [],
            "_model_module": "@jupyter-widgets/controls",
            "_model_module_version": "1.5.0",
            "_model_name": "HTMLModel",
            "_view_count": null,
            "_view_module": "@jupyter-widgets/controls",
            "_view_module_version": "1.5.0",
            "_view_name": "HTMLView",
            "description": "",
            "description_tooltip": null,
            "layout": "IPY_MODEL_a1733e1ccb1b4782b800cdc8a64384b9",
            "placeholder": "​",
            "style": "IPY_MODEL_e2c919587c3140fdb42d0bf073341685",
            "value": "Downloading (…)okenizer_config.json: 100%"
          }
        },
        "8679af09eaea479b9535e628aa893007": {
          "model_module": "@jupyter-widgets/controls",
          "model_name": "FloatProgressModel",
          "model_module_version": "1.5.0",
          "state": {
            "_dom_classes": [],
            "_model_module": "@jupyter-widgets/controls",
            "_model_module_version": "1.5.0",
            "_model_name": "FloatProgressModel",
            "_view_count": null,
            "_view_module": "@jupyter-widgets/controls",
            "_view_module_version": "1.5.0",
            "_view_name": "ProgressView",
            "bar_style": "success",
            "description": "",
            "description_tooltip": null,
            "layout": "IPY_MODEL_2d35514c8af24025b99b1661f9763fa6",
            "max": 28,
            "min": 0,
            "orientation": "horizontal",
            "style": "IPY_MODEL_8b0193b77b2746d58846f1ea858d13be",
            "value": 28
          }
        },
        "e22e42692f674d139f1679c18d418be3": {
          "model_module": "@jupyter-widgets/controls",
          "model_name": "HTMLModel",
          "model_module_version": "1.5.0",
          "state": {
            "_dom_classes": [],
            "_model_module": "@jupyter-widgets/controls",
            "_model_module_version": "1.5.0",
            "_model_name": "HTMLModel",
            "_view_count": null,
            "_view_module": "@jupyter-widgets/controls",
            "_view_module_version": "1.5.0",
            "_view_name": "HTMLView",
            "description": "",
            "description_tooltip": null,
            "layout": "IPY_MODEL_5db680978205462ab2a3c9bb60309cc4",
            "placeholder": "​",
            "style": "IPY_MODEL_8b140a3d034f43a7a93002a17ea38b90",
            "value": " 28.0/28.0 [00:00&lt;00:00, 1.41kB/s]"
          }
        },
        "45cf778c0b794ed5931f05121fa98aff": {
          "model_module": "@jupyter-widgets/base",
          "model_name": "LayoutModel",
          "model_module_version": "1.2.0",
          "state": {
            "_model_module": "@jupyter-widgets/base",
            "_model_module_version": "1.2.0",
            "_model_name": "LayoutModel",
            "_view_count": null,
            "_view_module": "@jupyter-widgets/base",
            "_view_module_version": "1.2.0",
            "_view_name": "LayoutView",
            "align_content": null,
            "align_items": null,
            "align_self": null,
            "border": null,
            "bottom": null,
            "display": null,
            "flex": null,
            "flex_flow": null,
            "grid_area": null,
            "grid_auto_columns": null,
            "grid_auto_flow": null,
            "grid_auto_rows": null,
            "grid_column": null,
            "grid_gap": null,
            "grid_row": null,
            "grid_template_areas": null,
            "grid_template_columns": null,
            "grid_template_rows": null,
            "height": null,
            "justify_content": null,
            "justify_items": null,
            "left": null,
            "margin": null,
            "max_height": null,
            "max_width": null,
            "min_height": null,
            "min_width": null,
            "object_fit": null,
            "object_position": null,
            "order": null,
            "overflow": null,
            "overflow_x": null,
            "overflow_y": null,
            "padding": null,
            "right": null,
            "top": null,
            "visibility": null,
            "width": null
          }
        },
        "a1733e1ccb1b4782b800cdc8a64384b9": {
          "model_module": "@jupyter-widgets/base",
          "model_name": "LayoutModel",
          "model_module_version": "1.2.0",
          "state": {
            "_model_module": "@jupyter-widgets/base",
            "_model_module_version": "1.2.0",
            "_model_name": "LayoutModel",
            "_view_count": null,
            "_view_module": "@jupyter-widgets/base",
            "_view_module_version": "1.2.0",
            "_view_name": "LayoutView",
            "align_content": null,
            "align_items": null,
            "align_self": null,
            "border": null,
            "bottom": null,
            "display": null,
            "flex": null,
            "flex_flow": null,
            "grid_area": null,
            "grid_auto_columns": null,
            "grid_auto_flow": null,
            "grid_auto_rows": null,
            "grid_column": null,
            "grid_gap": null,
            "grid_row": null,
            "grid_template_areas": null,
            "grid_template_columns": null,
            "grid_template_rows": null,
            "height": null,
            "justify_content": null,
            "justify_items": null,
            "left": null,
            "margin": null,
            "max_height": null,
            "max_width": null,
            "min_height": null,
            "min_width": null,
            "object_fit": null,
            "object_position": null,
            "order": null,
            "overflow": null,
            "overflow_x": null,
            "overflow_y": null,
            "padding": null,
            "right": null,
            "top": null,
            "visibility": null,
            "width": null
          }
        },
        "e2c919587c3140fdb42d0bf073341685": {
          "model_module": "@jupyter-widgets/controls",
          "model_name": "DescriptionStyleModel",
          "model_module_version": "1.5.0",
          "state": {
            "_model_module": "@jupyter-widgets/controls",
            "_model_module_version": "1.5.0",
            "_model_name": "DescriptionStyleModel",
            "_view_count": null,
            "_view_module": "@jupyter-widgets/base",
            "_view_module_version": "1.2.0",
            "_view_name": "StyleView",
            "description_width": ""
          }
        },
        "2d35514c8af24025b99b1661f9763fa6": {
          "model_module": "@jupyter-widgets/base",
          "model_name": "LayoutModel",
          "model_module_version": "1.2.0",
          "state": {
            "_model_module": "@jupyter-widgets/base",
            "_model_module_version": "1.2.0",
            "_model_name": "LayoutModel",
            "_view_count": null,
            "_view_module": "@jupyter-widgets/base",
            "_view_module_version": "1.2.0",
            "_view_name": "LayoutView",
            "align_content": null,
            "align_items": null,
            "align_self": null,
            "border": null,
            "bottom": null,
            "display": null,
            "flex": null,
            "flex_flow": null,
            "grid_area": null,
            "grid_auto_columns": null,
            "grid_auto_flow": null,
            "grid_auto_rows": null,
            "grid_column": null,
            "grid_gap": null,
            "grid_row": null,
            "grid_template_areas": null,
            "grid_template_columns": null,
            "grid_template_rows": null,
            "height": null,
            "justify_content": null,
            "justify_items": null,
            "left": null,
            "margin": null,
            "max_height": null,
            "max_width": null,
            "min_height": null,
            "min_width": null,
            "object_fit": null,
            "object_position": null,
            "order": null,
            "overflow": null,
            "overflow_x": null,
            "overflow_y": null,
            "padding": null,
            "right": null,
            "top": null,
            "visibility": null,
            "width": null
          }
        },
        "8b0193b77b2746d58846f1ea858d13be": {
          "model_module": "@jupyter-widgets/controls",
          "model_name": "ProgressStyleModel",
          "model_module_version": "1.5.0",
          "state": {
            "_model_module": "@jupyter-widgets/controls",
            "_model_module_version": "1.5.0",
            "_model_name": "ProgressStyleModel",
            "_view_count": null,
            "_view_module": "@jupyter-widgets/base",
            "_view_module_version": "1.2.0",
            "_view_name": "StyleView",
            "bar_color": null,
            "description_width": ""
          }
        },
        "5db680978205462ab2a3c9bb60309cc4": {
          "model_module": "@jupyter-widgets/base",
          "model_name": "LayoutModel",
          "model_module_version": "1.2.0",
          "state": {
            "_model_module": "@jupyter-widgets/base",
            "_model_module_version": "1.2.0",
            "_model_name": "LayoutModel",
            "_view_count": null,
            "_view_module": "@jupyter-widgets/base",
            "_view_module_version": "1.2.0",
            "_view_name": "LayoutView",
            "align_content": null,
            "align_items": null,
            "align_self": null,
            "border": null,
            "bottom": null,
            "display": null,
            "flex": null,
            "flex_flow": null,
            "grid_area": null,
            "grid_auto_columns": null,
            "grid_auto_flow": null,
            "grid_auto_rows": null,
            "grid_column": null,
            "grid_gap": null,
            "grid_row": null,
            "grid_template_areas": null,
            "grid_template_columns": null,
            "grid_template_rows": null,
            "height": null,
            "justify_content": null,
            "justify_items": null,
            "left": null,
            "margin": null,
            "max_height": null,
            "max_width": null,
            "min_height": null,
            "min_width": null,
            "object_fit": null,
            "object_position": null,
            "order": null,
            "overflow": null,
            "overflow_x": null,
            "overflow_y": null,
            "padding": null,
            "right": null,
            "top": null,
            "visibility": null,
            "width": null
          }
        },
        "8b140a3d034f43a7a93002a17ea38b90": {
          "model_module": "@jupyter-widgets/controls",
          "model_name": "DescriptionStyleModel",
          "model_module_version": "1.5.0",
          "state": {
            "_model_module": "@jupyter-widgets/controls",
            "_model_module_version": "1.5.0",
            "_model_name": "DescriptionStyleModel",
            "_view_count": null,
            "_view_module": "@jupyter-widgets/base",
            "_view_module_version": "1.2.0",
            "_view_name": "StyleView",
            "description_width": ""
          }
        },
        "ccca4050e300491e95bbffd482577ab7": {
          "model_module": "@jupyter-widgets/controls",
          "model_name": "HBoxModel",
          "model_module_version": "1.5.0",
          "state": {
            "_dom_classes": [],
            "_model_module": "@jupyter-widgets/controls",
            "_model_module_version": "1.5.0",
            "_model_name": "HBoxModel",
            "_view_count": null,
            "_view_module": "@jupyter-widgets/controls",
            "_view_module_version": "1.5.0",
            "_view_name": "HBoxView",
            "box_style": "",
            "children": [
              "IPY_MODEL_b6b5ae0bddb74f799906d8fdb2131031",
              "IPY_MODEL_5072e29192e3484199e3067cf704c9ed",
              "IPY_MODEL_c1941ef550284dbb996069bd615b5504"
            ],
            "layout": "IPY_MODEL_f06d0bfd22ff4c68af712817cdbc62e7"
          }
        },
        "b6b5ae0bddb74f799906d8fdb2131031": {
          "model_module": "@jupyter-widgets/controls",
          "model_name": "HTMLModel",
          "model_module_version": "1.5.0",
          "state": {
            "_dom_classes": [],
            "_model_module": "@jupyter-widgets/controls",
            "_model_module_version": "1.5.0",
            "_model_name": "HTMLModel",
            "_view_count": null,
            "_view_module": "@jupyter-widgets/controls",
            "_view_module_version": "1.5.0",
            "_view_name": "HTMLView",
            "description": "",
            "description_tooltip": null,
            "layout": "IPY_MODEL_aed0d21d2d66402486bebb1998520882",
            "placeholder": "​",
            "style": "IPY_MODEL_e30cc684ac8d45f0be9cf719c9715c94",
            "value": "Downloading (…)lve/main/config.json: 100%"
          }
        },
        "5072e29192e3484199e3067cf704c9ed": {
          "model_module": "@jupyter-widgets/controls",
          "model_name": "FloatProgressModel",
          "model_module_version": "1.5.0",
          "state": {
            "_dom_classes": [],
            "_model_module": "@jupyter-widgets/controls",
            "_model_module_version": "1.5.0",
            "_model_name": "FloatProgressModel",
            "_view_count": null,
            "_view_module": "@jupyter-widgets/controls",
            "_view_module_version": "1.5.0",
            "_view_name": "ProgressView",
            "bar_style": "success",
            "description": "",
            "description_tooltip": null,
            "layout": "IPY_MODEL_d7c31f2e15564863b986b84337e10d1d",
            "max": 570,
            "min": 0,
            "orientation": "horizontal",
            "style": "IPY_MODEL_fcdc19d81d244299af3fd1b17cecaeb0",
            "value": 570
          }
        },
        "c1941ef550284dbb996069bd615b5504": {
          "model_module": "@jupyter-widgets/controls",
          "model_name": "HTMLModel",
          "model_module_version": "1.5.0",
          "state": {
            "_dom_classes": [],
            "_model_module": "@jupyter-widgets/controls",
            "_model_module_version": "1.5.0",
            "_model_name": "HTMLModel",
            "_view_count": null,
            "_view_module": "@jupyter-widgets/controls",
            "_view_module_version": "1.5.0",
            "_view_name": "HTMLView",
            "description": "",
            "description_tooltip": null,
            "layout": "IPY_MODEL_366c2c14ffff4c0283618d43e8848536",
            "placeholder": "​",
            "style": "IPY_MODEL_5ebce17cce19442ba3ca6510b7ee1e36",
            "value": " 570/570 [00:00&lt;00:00, 34.4kB/s]"
          }
        },
        "f06d0bfd22ff4c68af712817cdbc62e7": {
          "model_module": "@jupyter-widgets/base",
          "model_name": "LayoutModel",
          "model_module_version": "1.2.0",
          "state": {
            "_model_module": "@jupyter-widgets/base",
            "_model_module_version": "1.2.0",
            "_model_name": "LayoutModel",
            "_view_count": null,
            "_view_module": "@jupyter-widgets/base",
            "_view_module_version": "1.2.0",
            "_view_name": "LayoutView",
            "align_content": null,
            "align_items": null,
            "align_self": null,
            "border": null,
            "bottom": null,
            "display": null,
            "flex": null,
            "flex_flow": null,
            "grid_area": null,
            "grid_auto_columns": null,
            "grid_auto_flow": null,
            "grid_auto_rows": null,
            "grid_column": null,
            "grid_gap": null,
            "grid_row": null,
            "grid_template_areas": null,
            "grid_template_columns": null,
            "grid_template_rows": null,
            "height": null,
            "justify_content": null,
            "justify_items": null,
            "left": null,
            "margin": null,
            "max_height": null,
            "max_width": null,
            "min_height": null,
            "min_width": null,
            "object_fit": null,
            "object_position": null,
            "order": null,
            "overflow": null,
            "overflow_x": null,
            "overflow_y": null,
            "padding": null,
            "right": null,
            "top": null,
            "visibility": null,
            "width": null
          }
        },
        "aed0d21d2d66402486bebb1998520882": {
          "model_module": "@jupyter-widgets/base",
          "model_name": "LayoutModel",
          "model_module_version": "1.2.0",
          "state": {
            "_model_module": "@jupyter-widgets/base",
            "_model_module_version": "1.2.0",
            "_model_name": "LayoutModel",
            "_view_count": null,
            "_view_module": "@jupyter-widgets/base",
            "_view_module_version": "1.2.0",
            "_view_name": "LayoutView",
            "align_content": null,
            "align_items": null,
            "align_self": null,
            "border": null,
            "bottom": null,
            "display": null,
            "flex": null,
            "flex_flow": null,
            "grid_area": null,
            "grid_auto_columns": null,
            "grid_auto_flow": null,
            "grid_auto_rows": null,
            "grid_column": null,
            "grid_gap": null,
            "grid_row": null,
            "grid_template_areas": null,
            "grid_template_columns": null,
            "grid_template_rows": null,
            "height": null,
            "justify_content": null,
            "justify_items": null,
            "left": null,
            "margin": null,
            "max_height": null,
            "max_width": null,
            "min_height": null,
            "min_width": null,
            "object_fit": null,
            "object_position": null,
            "order": null,
            "overflow": null,
            "overflow_x": null,
            "overflow_y": null,
            "padding": null,
            "right": null,
            "top": null,
            "visibility": null,
            "width": null
          }
        },
        "e30cc684ac8d45f0be9cf719c9715c94": {
          "model_module": "@jupyter-widgets/controls",
          "model_name": "DescriptionStyleModel",
          "model_module_version": "1.5.0",
          "state": {
            "_model_module": "@jupyter-widgets/controls",
            "_model_module_version": "1.5.0",
            "_model_name": "DescriptionStyleModel",
            "_view_count": null,
            "_view_module": "@jupyter-widgets/base",
            "_view_module_version": "1.2.0",
            "_view_name": "StyleView",
            "description_width": ""
          }
        },
        "d7c31f2e15564863b986b84337e10d1d": {
          "model_module": "@jupyter-widgets/base",
          "model_name": "LayoutModel",
          "model_module_version": "1.2.0",
          "state": {
            "_model_module": "@jupyter-widgets/base",
            "_model_module_version": "1.2.0",
            "_model_name": "LayoutModel",
            "_view_count": null,
            "_view_module": "@jupyter-widgets/base",
            "_view_module_version": "1.2.0",
            "_view_name": "LayoutView",
            "align_content": null,
            "align_items": null,
            "align_self": null,
            "border": null,
            "bottom": null,
            "display": null,
            "flex": null,
            "flex_flow": null,
            "grid_area": null,
            "grid_auto_columns": null,
            "grid_auto_flow": null,
            "grid_auto_rows": null,
            "grid_column": null,
            "grid_gap": null,
            "grid_row": null,
            "grid_template_areas": null,
            "grid_template_columns": null,
            "grid_template_rows": null,
            "height": null,
            "justify_content": null,
            "justify_items": null,
            "left": null,
            "margin": null,
            "max_height": null,
            "max_width": null,
            "min_height": null,
            "min_width": null,
            "object_fit": null,
            "object_position": null,
            "order": null,
            "overflow": null,
            "overflow_x": null,
            "overflow_y": null,
            "padding": null,
            "right": null,
            "top": null,
            "visibility": null,
            "width": null
          }
        },
        "fcdc19d81d244299af3fd1b17cecaeb0": {
          "model_module": "@jupyter-widgets/controls",
          "model_name": "ProgressStyleModel",
          "model_module_version": "1.5.0",
          "state": {
            "_model_module": "@jupyter-widgets/controls",
            "_model_module_version": "1.5.0",
            "_model_name": "ProgressStyleModel",
            "_view_count": null,
            "_view_module": "@jupyter-widgets/base",
            "_view_module_version": "1.2.0",
            "_view_name": "StyleView",
            "bar_color": null,
            "description_width": ""
          }
        },
        "366c2c14ffff4c0283618d43e8848536": {
          "model_module": "@jupyter-widgets/base",
          "model_name": "LayoutModel",
          "model_module_version": "1.2.0",
          "state": {
            "_model_module": "@jupyter-widgets/base",
            "_model_module_version": "1.2.0",
            "_model_name": "LayoutModel",
            "_view_count": null,
            "_view_module": "@jupyter-widgets/base",
            "_view_module_version": "1.2.0",
            "_view_name": "LayoutView",
            "align_content": null,
            "align_items": null,
            "align_self": null,
            "border": null,
            "bottom": null,
            "display": null,
            "flex": null,
            "flex_flow": null,
            "grid_area": null,
            "grid_auto_columns": null,
            "grid_auto_flow": null,
            "grid_auto_rows": null,
            "grid_column": null,
            "grid_gap": null,
            "grid_row": null,
            "grid_template_areas": null,
            "grid_template_columns": null,
            "grid_template_rows": null,
            "height": null,
            "justify_content": null,
            "justify_items": null,
            "left": null,
            "margin": null,
            "max_height": null,
            "max_width": null,
            "min_height": null,
            "min_width": null,
            "object_fit": null,
            "object_position": null,
            "order": null,
            "overflow": null,
            "overflow_x": null,
            "overflow_y": null,
            "padding": null,
            "right": null,
            "top": null,
            "visibility": null,
            "width": null
          }
        },
        "5ebce17cce19442ba3ca6510b7ee1e36": {
          "model_module": "@jupyter-widgets/controls",
          "model_name": "DescriptionStyleModel",
          "model_module_version": "1.5.0",
          "state": {
            "_model_module": "@jupyter-widgets/controls",
            "_model_module_version": "1.5.0",
            "_model_name": "DescriptionStyleModel",
            "_view_count": null,
            "_view_module": "@jupyter-widgets/base",
            "_view_module_version": "1.2.0",
            "_view_name": "StyleView",
            "description_width": ""
          }
        },
        "c77b08240a7f4e8ebc62498112effb5b": {
          "model_module": "@jupyter-widgets/controls",
          "model_name": "HBoxModel",
          "model_module_version": "1.5.0",
          "state": {
            "_dom_classes": [],
            "_model_module": "@jupyter-widgets/controls",
            "_model_module_version": "1.5.0",
            "_model_name": "HBoxModel",
            "_view_count": null,
            "_view_module": "@jupyter-widgets/controls",
            "_view_module_version": "1.5.0",
            "_view_name": "HBoxView",
            "box_style": "",
            "children": [
              "IPY_MODEL_92ec1d7693df4c17bd12372ac7e1f497",
              "IPY_MODEL_bce157ce9fe644419f14489a56793306",
              "IPY_MODEL_735345e0df7d48dc9768d4b4bd280db5"
            ],
            "layout": "IPY_MODEL_de1ad0aeeb594962850cd7949329de92"
          }
        },
        "92ec1d7693df4c17bd12372ac7e1f497": {
          "model_module": "@jupyter-widgets/controls",
          "model_name": "HTMLModel",
          "model_module_version": "1.5.0",
          "state": {
            "_dom_classes": [],
            "_model_module": "@jupyter-widgets/controls",
            "_model_module_version": "1.5.0",
            "_model_name": "HTMLModel",
            "_view_count": null,
            "_view_module": "@jupyter-widgets/controls",
            "_view_module_version": "1.5.0",
            "_view_name": "HTMLView",
            "description": "",
            "description_tooltip": null,
            "layout": "IPY_MODEL_37fbef6421254b14aa833dd26d127c52",
            "placeholder": "​",
            "style": "IPY_MODEL_06ab3bee1cba4aea9be0273a00d28a93",
            "value": "Downloading (…)solve/main/vocab.txt: 100%"
          }
        },
        "bce157ce9fe644419f14489a56793306": {
          "model_module": "@jupyter-widgets/controls",
          "model_name": "FloatProgressModel",
          "model_module_version": "1.5.0",
          "state": {
            "_dom_classes": [],
            "_model_module": "@jupyter-widgets/controls",
            "_model_module_version": "1.5.0",
            "_model_name": "FloatProgressModel",
            "_view_count": null,
            "_view_module": "@jupyter-widgets/controls",
            "_view_module_version": "1.5.0",
            "_view_name": "ProgressView",
            "bar_style": "success",
            "description": "",
            "description_tooltip": null,
            "layout": "IPY_MODEL_be7cab43b2ca4180aedf9b0793aab963",
            "max": 231508,
            "min": 0,
            "orientation": "horizontal",
            "style": "IPY_MODEL_be3585b3aa66418299062457802e3fac",
            "value": 231508
          }
        },
        "735345e0df7d48dc9768d4b4bd280db5": {
          "model_module": "@jupyter-widgets/controls",
          "model_name": "HTMLModel",
          "model_module_version": "1.5.0",
          "state": {
            "_dom_classes": [],
            "_model_module": "@jupyter-widgets/controls",
            "_model_module_version": "1.5.0",
            "_model_name": "HTMLModel",
            "_view_count": null,
            "_view_module": "@jupyter-widgets/controls",
            "_view_module_version": "1.5.0",
            "_view_name": "HTMLView",
            "description": "",
            "description_tooltip": null,
            "layout": "IPY_MODEL_fcf0d085dd664b9c81db665655f120b5",
            "placeholder": "​",
            "style": "IPY_MODEL_7fba9636dc3649faab269ddb00c09de3",
            "value": " 232k/232k [00:00&lt;00:00, 3.23MB/s]"
          }
        },
        "de1ad0aeeb594962850cd7949329de92": {
          "model_module": "@jupyter-widgets/base",
          "model_name": "LayoutModel",
          "model_module_version": "1.2.0",
          "state": {
            "_model_module": "@jupyter-widgets/base",
            "_model_module_version": "1.2.0",
            "_model_name": "LayoutModel",
            "_view_count": null,
            "_view_module": "@jupyter-widgets/base",
            "_view_module_version": "1.2.0",
            "_view_name": "LayoutView",
            "align_content": null,
            "align_items": null,
            "align_self": null,
            "border": null,
            "bottom": null,
            "display": null,
            "flex": null,
            "flex_flow": null,
            "grid_area": null,
            "grid_auto_columns": null,
            "grid_auto_flow": null,
            "grid_auto_rows": null,
            "grid_column": null,
            "grid_gap": null,
            "grid_row": null,
            "grid_template_areas": null,
            "grid_template_columns": null,
            "grid_template_rows": null,
            "height": null,
            "justify_content": null,
            "justify_items": null,
            "left": null,
            "margin": null,
            "max_height": null,
            "max_width": null,
            "min_height": null,
            "min_width": null,
            "object_fit": null,
            "object_position": null,
            "order": null,
            "overflow": null,
            "overflow_x": null,
            "overflow_y": null,
            "padding": null,
            "right": null,
            "top": null,
            "visibility": null,
            "width": null
          }
        },
        "37fbef6421254b14aa833dd26d127c52": {
          "model_module": "@jupyter-widgets/base",
          "model_name": "LayoutModel",
          "model_module_version": "1.2.0",
          "state": {
            "_model_module": "@jupyter-widgets/base",
            "_model_module_version": "1.2.0",
            "_model_name": "LayoutModel",
            "_view_count": null,
            "_view_module": "@jupyter-widgets/base",
            "_view_module_version": "1.2.0",
            "_view_name": "LayoutView",
            "align_content": null,
            "align_items": null,
            "align_self": null,
            "border": null,
            "bottom": null,
            "display": null,
            "flex": null,
            "flex_flow": null,
            "grid_area": null,
            "grid_auto_columns": null,
            "grid_auto_flow": null,
            "grid_auto_rows": null,
            "grid_column": null,
            "grid_gap": null,
            "grid_row": null,
            "grid_template_areas": null,
            "grid_template_columns": null,
            "grid_template_rows": null,
            "height": null,
            "justify_content": null,
            "justify_items": null,
            "left": null,
            "margin": null,
            "max_height": null,
            "max_width": null,
            "min_height": null,
            "min_width": null,
            "object_fit": null,
            "object_position": null,
            "order": null,
            "overflow": null,
            "overflow_x": null,
            "overflow_y": null,
            "padding": null,
            "right": null,
            "top": null,
            "visibility": null,
            "width": null
          }
        },
        "06ab3bee1cba4aea9be0273a00d28a93": {
          "model_module": "@jupyter-widgets/controls",
          "model_name": "DescriptionStyleModel",
          "model_module_version": "1.5.0",
          "state": {
            "_model_module": "@jupyter-widgets/controls",
            "_model_module_version": "1.5.0",
            "_model_name": "DescriptionStyleModel",
            "_view_count": null,
            "_view_module": "@jupyter-widgets/base",
            "_view_module_version": "1.2.0",
            "_view_name": "StyleView",
            "description_width": ""
          }
        },
        "be7cab43b2ca4180aedf9b0793aab963": {
          "model_module": "@jupyter-widgets/base",
          "model_name": "LayoutModel",
          "model_module_version": "1.2.0",
          "state": {
            "_model_module": "@jupyter-widgets/base",
            "_model_module_version": "1.2.0",
            "_model_name": "LayoutModel",
            "_view_count": null,
            "_view_module": "@jupyter-widgets/base",
            "_view_module_version": "1.2.0",
            "_view_name": "LayoutView",
            "align_content": null,
            "align_items": null,
            "align_self": null,
            "border": null,
            "bottom": null,
            "display": null,
            "flex": null,
            "flex_flow": null,
            "grid_area": null,
            "grid_auto_columns": null,
            "grid_auto_flow": null,
            "grid_auto_rows": null,
            "grid_column": null,
            "grid_gap": null,
            "grid_row": null,
            "grid_template_areas": null,
            "grid_template_columns": null,
            "grid_template_rows": null,
            "height": null,
            "justify_content": null,
            "justify_items": null,
            "left": null,
            "margin": null,
            "max_height": null,
            "max_width": null,
            "min_height": null,
            "min_width": null,
            "object_fit": null,
            "object_position": null,
            "order": null,
            "overflow": null,
            "overflow_x": null,
            "overflow_y": null,
            "padding": null,
            "right": null,
            "top": null,
            "visibility": null,
            "width": null
          }
        },
        "be3585b3aa66418299062457802e3fac": {
          "model_module": "@jupyter-widgets/controls",
          "model_name": "ProgressStyleModel",
          "model_module_version": "1.5.0",
          "state": {
            "_model_module": "@jupyter-widgets/controls",
            "_model_module_version": "1.5.0",
            "_model_name": "ProgressStyleModel",
            "_view_count": null,
            "_view_module": "@jupyter-widgets/base",
            "_view_module_version": "1.2.0",
            "_view_name": "StyleView",
            "bar_color": null,
            "description_width": ""
          }
        },
        "fcf0d085dd664b9c81db665655f120b5": {
          "model_module": "@jupyter-widgets/base",
          "model_name": "LayoutModel",
          "model_module_version": "1.2.0",
          "state": {
            "_model_module": "@jupyter-widgets/base",
            "_model_module_version": "1.2.0",
            "_model_name": "LayoutModel",
            "_view_count": null,
            "_view_module": "@jupyter-widgets/base",
            "_view_module_version": "1.2.0",
            "_view_name": "LayoutView",
            "align_content": null,
            "align_items": null,
            "align_self": null,
            "border": null,
            "bottom": null,
            "display": null,
            "flex": null,
            "flex_flow": null,
            "grid_area": null,
            "grid_auto_columns": null,
            "grid_auto_flow": null,
            "grid_auto_rows": null,
            "grid_column": null,
            "grid_gap": null,
            "grid_row": null,
            "grid_template_areas": null,
            "grid_template_columns": null,
            "grid_template_rows": null,
            "height": null,
            "justify_content": null,
            "justify_items": null,
            "left": null,
            "margin": null,
            "max_height": null,
            "max_width": null,
            "min_height": null,
            "min_width": null,
            "object_fit": null,
            "object_position": null,
            "order": null,
            "overflow": null,
            "overflow_x": null,
            "overflow_y": null,
            "padding": null,
            "right": null,
            "top": null,
            "visibility": null,
            "width": null
          }
        },
        "7fba9636dc3649faab269ddb00c09de3": {
          "model_module": "@jupyter-widgets/controls",
          "model_name": "DescriptionStyleModel",
          "model_module_version": "1.5.0",
          "state": {
            "_model_module": "@jupyter-widgets/controls",
            "_model_module_version": "1.5.0",
            "_model_name": "DescriptionStyleModel",
            "_view_count": null,
            "_view_module": "@jupyter-widgets/base",
            "_view_module_version": "1.2.0",
            "_view_name": "StyleView",
            "description_width": ""
          }
        },
        "823a5a1ff5ff41b691810512d68d8aa4": {
          "model_module": "@jupyter-widgets/controls",
          "model_name": "HBoxModel",
          "model_module_version": "1.5.0",
          "state": {
            "_dom_classes": [],
            "_model_module": "@jupyter-widgets/controls",
            "_model_module_version": "1.5.0",
            "_model_name": "HBoxModel",
            "_view_count": null,
            "_view_module": "@jupyter-widgets/controls",
            "_view_module_version": "1.5.0",
            "_view_name": "HBoxView",
            "box_style": "",
            "children": [
              "IPY_MODEL_fb9ab9a0f87a47468fd5d862e55e7733",
              "IPY_MODEL_02381ffaa07540ba96ff224b3a1e5577",
              "IPY_MODEL_cd5e82889d4345fa92d148c3c7f1e34c"
            ],
            "layout": "IPY_MODEL_5d21f79824ac48d1a899a9b65e3c1b0f"
          }
        },
        "fb9ab9a0f87a47468fd5d862e55e7733": {
          "model_module": "@jupyter-widgets/controls",
          "model_name": "HTMLModel",
          "model_module_version": "1.5.0",
          "state": {
            "_dom_classes": [],
            "_model_module": "@jupyter-widgets/controls",
            "_model_module_version": "1.5.0",
            "_model_name": "HTMLModel",
            "_view_count": null,
            "_view_module": "@jupyter-widgets/controls",
            "_view_module_version": "1.5.0",
            "_view_name": "HTMLView",
            "description": "",
            "description_tooltip": null,
            "layout": "IPY_MODEL_365e425958b7451097b63b25e2192529",
            "placeholder": "​",
            "style": "IPY_MODEL_ffc3b07919654ae8805e06de65348d5d",
            "value": "Downloading (…)/main/tokenizer.json: 100%"
          }
        },
        "02381ffaa07540ba96ff224b3a1e5577": {
          "model_module": "@jupyter-widgets/controls",
          "model_name": "FloatProgressModel",
          "model_module_version": "1.5.0",
          "state": {
            "_dom_classes": [],
            "_model_module": "@jupyter-widgets/controls",
            "_model_module_version": "1.5.0",
            "_model_name": "FloatProgressModel",
            "_view_count": null,
            "_view_module": "@jupyter-widgets/controls",
            "_view_module_version": "1.5.0",
            "_view_name": "ProgressView",
            "bar_style": "success",
            "description": "",
            "description_tooltip": null,
            "layout": "IPY_MODEL_5b7906191c89476faee812b0bcdab9ec",
            "max": 466062,
            "min": 0,
            "orientation": "horizontal",
            "style": "IPY_MODEL_1e23e64f263942f6a775be53544e879e",
            "value": 466062
          }
        },
        "cd5e82889d4345fa92d148c3c7f1e34c": {
          "model_module": "@jupyter-widgets/controls",
          "model_name": "HTMLModel",
          "model_module_version": "1.5.0",
          "state": {
            "_dom_classes": [],
            "_model_module": "@jupyter-widgets/controls",
            "_model_module_version": "1.5.0",
            "_model_name": "HTMLModel",
            "_view_count": null,
            "_view_module": "@jupyter-widgets/controls",
            "_view_module_version": "1.5.0",
            "_view_name": "HTMLView",
            "description": "",
            "description_tooltip": null,
            "layout": "IPY_MODEL_b10a16ffacaa48da9674a01e51910d52",
            "placeholder": "​",
            "style": "IPY_MODEL_c64ad44b97ed45cdaab3e91fb047da7c",
            "value": " 466k/466k [00:00&lt;00:00, 3.51MB/s]"
          }
        },
        "5d21f79824ac48d1a899a9b65e3c1b0f": {
          "model_module": "@jupyter-widgets/base",
          "model_name": "LayoutModel",
          "model_module_version": "1.2.0",
          "state": {
            "_model_module": "@jupyter-widgets/base",
            "_model_module_version": "1.2.0",
            "_model_name": "LayoutModel",
            "_view_count": null,
            "_view_module": "@jupyter-widgets/base",
            "_view_module_version": "1.2.0",
            "_view_name": "LayoutView",
            "align_content": null,
            "align_items": null,
            "align_self": null,
            "border": null,
            "bottom": null,
            "display": null,
            "flex": null,
            "flex_flow": null,
            "grid_area": null,
            "grid_auto_columns": null,
            "grid_auto_flow": null,
            "grid_auto_rows": null,
            "grid_column": null,
            "grid_gap": null,
            "grid_row": null,
            "grid_template_areas": null,
            "grid_template_columns": null,
            "grid_template_rows": null,
            "height": null,
            "justify_content": null,
            "justify_items": null,
            "left": null,
            "margin": null,
            "max_height": null,
            "max_width": null,
            "min_height": null,
            "min_width": null,
            "object_fit": null,
            "object_position": null,
            "order": null,
            "overflow": null,
            "overflow_x": null,
            "overflow_y": null,
            "padding": null,
            "right": null,
            "top": null,
            "visibility": null,
            "width": null
          }
        },
        "365e425958b7451097b63b25e2192529": {
          "model_module": "@jupyter-widgets/base",
          "model_name": "LayoutModel",
          "model_module_version": "1.2.0",
          "state": {
            "_model_module": "@jupyter-widgets/base",
            "_model_module_version": "1.2.0",
            "_model_name": "LayoutModel",
            "_view_count": null,
            "_view_module": "@jupyter-widgets/base",
            "_view_module_version": "1.2.0",
            "_view_name": "LayoutView",
            "align_content": null,
            "align_items": null,
            "align_self": null,
            "border": null,
            "bottom": null,
            "display": null,
            "flex": null,
            "flex_flow": null,
            "grid_area": null,
            "grid_auto_columns": null,
            "grid_auto_flow": null,
            "grid_auto_rows": null,
            "grid_column": null,
            "grid_gap": null,
            "grid_row": null,
            "grid_template_areas": null,
            "grid_template_columns": null,
            "grid_template_rows": null,
            "height": null,
            "justify_content": null,
            "justify_items": null,
            "left": null,
            "margin": null,
            "max_height": null,
            "max_width": null,
            "min_height": null,
            "min_width": null,
            "object_fit": null,
            "object_position": null,
            "order": null,
            "overflow": null,
            "overflow_x": null,
            "overflow_y": null,
            "padding": null,
            "right": null,
            "top": null,
            "visibility": null,
            "width": null
          }
        },
        "ffc3b07919654ae8805e06de65348d5d": {
          "model_module": "@jupyter-widgets/controls",
          "model_name": "DescriptionStyleModel",
          "model_module_version": "1.5.0",
          "state": {
            "_model_module": "@jupyter-widgets/controls",
            "_model_module_version": "1.5.0",
            "_model_name": "DescriptionStyleModel",
            "_view_count": null,
            "_view_module": "@jupyter-widgets/base",
            "_view_module_version": "1.2.0",
            "_view_name": "StyleView",
            "description_width": ""
          }
        },
        "5b7906191c89476faee812b0bcdab9ec": {
          "model_module": "@jupyter-widgets/base",
          "model_name": "LayoutModel",
          "model_module_version": "1.2.0",
          "state": {
            "_model_module": "@jupyter-widgets/base",
            "_model_module_version": "1.2.0",
            "_model_name": "LayoutModel",
            "_view_count": null,
            "_view_module": "@jupyter-widgets/base",
            "_view_module_version": "1.2.0",
            "_view_name": "LayoutView",
            "align_content": null,
            "align_items": null,
            "align_self": null,
            "border": null,
            "bottom": null,
            "display": null,
            "flex": null,
            "flex_flow": null,
            "grid_area": null,
            "grid_auto_columns": null,
            "grid_auto_flow": null,
            "grid_auto_rows": null,
            "grid_column": null,
            "grid_gap": null,
            "grid_row": null,
            "grid_template_areas": null,
            "grid_template_columns": null,
            "grid_template_rows": null,
            "height": null,
            "justify_content": null,
            "justify_items": null,
            "left": null,
            "margin": null,
            "max_height": null,
            "max_width": null,
            "min_height": null,
            "min_width": null,
            "object_fit": null,
            "object_position": null,
            "order": null,
            "overflow": null,
            "overflow_x": null,
            "overflow_y": null,
            "padding": null,
            "right": null,
            "top": null,
            "visibility": null,
            "width": null
          }
        },
        "1e23e64f263942f6a775be53544e879e": {
          "model_module": "@jupyter-widgets/controls",
          "model_name": "ProgressStyleModel",
          "model_module_version": "1.5.0",
          "state": {
            "_model_module": "@jupyter-widgets/controls",
            "_model_module_version": "1.5.0",
            "_model_name": "ProgressStyleModel",
            "_view_count": null,
            "_view_module": "@jupyter-widgets/base",
            "_view_module_version": "1.2.0",
            "_view_name": "StyleView",
            "bar_color": null,
            "description_width": ""
          }
        },
        "b10a16ffacaa48da9674a01e51910d52": {
          "model_module": "@jupyter-widgets/base",
          "model_name": "LayoutModel",
          "model_module_version": "1.2.0",
          "state": {
            "_model_module": "@jupyter-widgets/base",
            "_model_module_version": "1.2.0",
            "_model_name": "LayoutModel",
            "_view_count": null,
            "_view_module": "@jupyter-widgets/base",
            "_view_module_version": "1.2.0",
            "_view_name": "LayoutView",
            "align_content": null,
            "align_items": null,
            "align_self": null,
            "border": null,
            "bottom": null,
            "display": null,
            "flex": null,
            "flex_flow": null,
            "grid_area": null,
            "grid_auto_columns": null,
            "grid_auto_flow": null,
            "grid_auto_rows": null,
            "grid_column": null,
            "grid_gap": null,
            "grid_row": null,
            "grid_template_areas": null,
            "grid_template_columns": null,
            "grid_template_rows": null,
            "height": null,
            "justify_content": null,
            "justify_items": null,
            "left": null,
            "margin": null,
            "max_height": null,
            "max_width": null,
            "min_height": null,
            "min_width": null,
            "object_fit": null,
            "object_position": null,
            "order": null,
            "overflow": null,
            "overflow_x": null,
            "overflow_y": null,
            "padding": null,
            "right": null,
            "top": null,
            "visibility": null,
            "width": null
          }
        },
        "c64ad44b97ed45cdaab3e91fb047da7c": {
          "model_module": "@jupyter-widgets/controls",
          "model_name": "DescriptionStyleModel",
          "model_module_version": "1.5.0",
          "state": {
            "_model_module": "@jupyter-widgets/controls",
            "_model_module_version": "1.5.0",
            "_model_name": "DescriptionStyleModel",
            "_view_count": null,
            "_view_module": "@jupyter-widgets/base",
            "_view_module_version": "1.2.0",
            "_view_name": "StyleView",
            "description_width": ""
          }
        },
        "c1832d2b773e4b83aaef05c6cb82cc6d": {
          "model_module": "@jupyter-widgets/controls",
          "model_name": "HBoxModel",
          "model_module_version": "1.5.0",
          "state": {
            "_dom_classes": [],
            "_model_module": "@jupyter-widgets/controls",
            "_model_module_version": "1.5.0",
            "_model_name": "HBoxModel",
            "_view_count": null,
            "_view_module": "@jupyter-widgets/controls",
            "_view_module_version": "1.5.0",
            "_view_name": "HBoxView",
            "box_style": "",
            "children": [
              "IPY_MODEL_c8dab41736c4465389be7e3a388fecc5",
              "IPY_MODEL_93230fcefc7d46cbb16d4be3e852a0b1",
              "IPY_MODEL_d440ea0ffa6f4e378711a13d58e1ee9b"
            ],
            "layout": "IPY_MODEL_b91b9d467eb64c148046e4ce8d67bd00"
          }
        },
        "c8dab41736c4465389be7e3a388fecc5": {
          "model_module": "@jupyter-widgets/controls",
          "model_name": "HTMLModel",
          "model_module_version": "1.5.0",
          "state": {
            "_dom_classes": [],
            "_model_module": "@jupyter-widgets/controls",
            "_model_module_version": "1.5.0",
            "_model_name": "HTMLModel",
            "_view_count": null,
            "_view_module": "@jupyter-widgets/controls",
            "_view_module_version": "1.5.0",
            "_view_name": "HTMLView",
            "description": "",
            "description_tooltip": null,
            "layout": "IPY_MODEL_a3bbd678d9ac48bb863895101c352703",
            "placeholder": "​",
            "style": "IPY_MODEL_b80b04b222734375bd09f3ccdb2d7191",
            "value": "Downloading model.safetensors: 100%"
          }
        },
        "93230fcefc7d46cbb16d4be3e852a0b1": {
          "model_module": "@jupyter-widgets/controls",
          "model_name": "FloatProgressModel",
          "model_module_version": "1.5.0",
          "state": {
            "_dom_classes": [],
            "_model_module": "@jupyter-widgets/controls",
            "_model_module_version": "1.5.0",
            "_model_name": "FloatProgressModel",
            "_view_count": null,
            "_view_module": "@jupyter-widgets/controls",
            "_view_module_version": "1.5.0",
            "_view_name": "ProgressView",
            "bar_style": "success",
            "description": "",
            "description_tooltip": null,
            "layout": "IPY_MODEL_99d72e42c44d48f0b0e58f4839118ad7",
            "max": 440449768,
            "min": 0,
            "orientation": "horizontal",
            "style": "IPY_MODEL_b3e2d0f833644fdbbe6a9c4028942211",
            "value": 440449768
          }
        },
        "d440ea0ffa6f4e378711a13d58e1ee9b": {
          "model_module": "@jupyter-widgets/controls",
          "model_name": "HTMLModel",
          "model_module_version": "1.5.0",
          "state": {
            "_dom_classes": [],
            "_model_module": "@jupyter-widgets/controls",
            "_model_module_version": "1.5.0",
            "_model_name": "HTMLModel",
            "_view_count": null,
            "_view_module": "@jupyter-widgets/controls",
            "_view_module_version": "1.5.0",
            "_view_name": "HTMLView",
            "description": "",
            "description_tooltip": null,
            "layout": "IPY_MODEL_eb4c1943597f47d7983049f9095e178a",
            "placeholder": "​",
            "style": "IPY_MODEL_78c5d8cd222e47fdaa188695eeae2db0",
            "value": " 440M/440M [00:03&lt;00:00, 165MB/s]"
          }
        },
        "b91b9d467eb64c148046e4ce8d67bd00": {
          "model_module": "@jupyter-widgets/base",
          "model_name": "LayoutModel",
          "model_module_version": "1.2.0",
          "state": {
            "_model_module": "@jupyter-widgets/base",
            "_model_module_version": "1.2.0",
            "_model_name": "LayoutModel",
            "_view_count": null,
            "_view_module": "@jupyter-widgets/base",
            "_view_module_version": "1.2.0",
            "_view_name": "LayoutView",
            "align_content": null,
            "align_items": null,
            "align_self": null,
            "border": null,
            "bottom": null,
            "display": null,
            "flex": null,
            "flex_flow": null,
            "grid_area": null,
            "grid_auto_columns": null,
            "grid_auto_flow": null,
            "grid_auto_rows": null,
            "grid_column": null,
            "grid_gap": null,
            "grid_row": null,
            "grid_template_areas": null,
            "grid_template_columns": null,
            "grid_template_rows": null,
            "height": null,
            "justify_content": null,
            "justify_items": null,
            "left": null,
            "margin": null,
            "max_height": null,
            "max_width": null,
            "min_height": null,
            "min_width": null,
            "object_fit": null,
            "object_position": null,
            "order": null,
            "overflow": null,
            "overflow_x": null,
            "overflow_y": null,
            "padding": null,
            "right": null,
            "top": null,
            "visibility": null,
            "width": null
          }
        },
        "a3bbd678d9ac48bb863895101c352703": {
          "model_module": "@jupyter-widgets/base",
          "model_name": "LayoutModel",
          "model_module_version": "1.2.0",
          "state": {
            "_model_module": "@jupyter-widgets/base",
            "_model_module_version": "1.2.0",
            "_model_name": "LayoutModel",
            "_view_count": null,
            "_view_module": "@jupyter-widgets/base",
            "_view_module_version": "1.2.0",
            "_view_name": "LayoutView",
            "align_content": null,
            "align_items": null,
            "align_self": null,
            "border": null,
            "bottom": null,
            "display": null,
            "flex": null,
            "flex_flow": null,
            "grid_area": null,
            "grid_auto_columns": null,
            "grid_auto_flow": null,
            "grid_auto_rows": null,
            "grid_column": null,
            "grid_gap": null,
            "grid_row": null,
            "grid_template_areas": null,
            "grid_template_columns": null,
            "grid_template_rows": null,
            "height": null,
            "justify_content": null,
            "justify_items": null,
            "left": null,
            "margin": null,
            "max_height": null,
            "max_width": null,
            "min_height": null,
            "min_width": null,
            "object_fit": null,
            "object_position": null,
            "order": null,
            "overflow": null,
            "overflow_x": null,
            "overflow_y": null,
            "padding": null,
            "right": null,
            "top": null,
            "visibility": null,
            "width": null
          }
        },
        "b80b04b222734375bd09f3ccdb2d7191": {
          "model_module": "@jupyter-widgets/controls",
          "model_name": "DescriptionStyleModel",
          "model_module_version": "1.5.0",
          "state": {
            "_model_module": "@jupyter-widgets/controls",
            "_model_module_version": "1.5.0",
            "_model_name": "DescriptionStyleModel",
            "_view_count": null,
            "_view_module": "@jupyter-widgets/base",
            "_view_module_version": "1.2.0",
            "_view_name": "StyleView",
            "description_width": ""
          }
        },
        "99d72e42c44d48f0b0e58f4839118ad7": {
          "model_module": "@jupyter-widgets/base",
          "model_name": "LayoutModel",
          "model_module_version": "1.2.0",
          "state": {
            "_model_module": "@jupyter-widgets/base",
            "_model_module_version": "1.2.0",
            "_model_name": "LayoutModel",
            "_view_count": null,
            "_view_module": "@jupyter-widgets/base",
            "_view_module_version": "1.2.0",
            "_view_name": "LayoutView",
            "align_content": null,
            "align_items": null,
            "align_self": null,
            "border": null,
            "bottom": null,
            "display": null,
            "flex": null,
            "flex_flow": null,
            "grid_area": null,
            "grid_auto_columns": null,
            "grid_auto_flow": null,
            "grid_auto_rows": null,
            "grid_column": null,
            "grid_gap": null,
            "grid_row": null,
            "grid_template_areas": null,
            "grid_template_columns": null,
            "grid_template_rows": null,
            "height": null,
            "justify_content": null,
            "justify_items": null,
            "left": null,
            "margin": null,
            "max_height": null,
            "max_width": null,
            "min_height": null,
            "min_width": null,
            "object_fit": null,
            "object_position": null,
            "order": null,
            "overflow": null,
            "overflow_x": null,
            "overflow_y": null,
            "padding": null,
            "right": null,
            "top": null,
            "visibility": null,
            "width": null
          }
        },
        "b3e2d0f833644fdbbe6a9c4028942211": {
          "model_module": "@jupyter-widgets/controls",
          "model_name": "ProgressStyleModel",
          "model_module_version": "1.5.0",
          "state": {
            "_model_module": "@jupyter-widgets/controls",
            "_model_module_version": "1.5.0",
            "_model_name": "ProgressStyleModel",
            "_view_count": null,
            "_view_module": "@jupyter-widgets/base",
            "_view_module_version": "1.2.0",
            "_view_name": "StyleView",
            "bar_color": null,
            "description_width": ""
          }
        },
        "eb4c1943597f47d7983049f9095e178a": {
          "model_module": "@jupyter-widgets/base",
          "model_name": "LayoutModel",
          "model_module_version": "1.2.0",
          "state": {
            "_model_module": "@jupyter-widgets/base",
            "_model_module_version": "1.2.0",
            "_model_name": "LayoutModel",
            "_view_count": null,
            "_view_module": "@jupyter-widgets/base",
            "_view_module_version": "1.2.0",
            "_view_name": "LayoutView",
            "align_content": null,
            "align_items": null,
            "align_self": null,
            "border": null,
            "bottom": null,
            "display": null,
            "flex": null,
            "flex_flow": null,
            "grid_area": null,
            "grid_auto_columns": null,
            "grid_auto_flow": null,
            "grid_auto_rows": null,
            "grid_column": null,
            "grid_gap": null,
            "grid_row": null,
            "grid_template_areas": null,
            "grid_template_columns": null,
            "grid_template_rows": null,
            "height": null,
            "justify_content": null,
            "justify_items": null,
            "left": null,
            "margin": null,
            "max_height": null,
            "max_width": null,
            "min_height": null,
            "min_width": null,
            "object_fit": null,
            "object_position": null,
            "order": null,
            "overflow": null,
            "overflow_x": null,
            "overflow_y": null,
            "padding": null,
            "right": null,
            "top": null,
            "visibility": null,
            "width": null
          }
        },
        "78c5d8cd222e47fdaa188695eeae2db0": {
          "model_module": "@jupyter-widgets/controls",
          "model_name": "DescriptionStyleModel",
          "model_module_version": "1.5.0",
          "state": {
            "_model_module": "@jupyter-widgets/controls",
            "_model_module_version": "1.5.0",
            "_model_name": "DescriptionStyleModel",
            "_view_count": null,
            "_view_module": "@jupyter-widgets/base",
            "_view_module_version": "1.2.0",
            "_view_name": "StyleView",
            "description_width": ""
          }
        }
      }
    }
  },
  "nbformat": 4,
  "nbformat_minor": 5
}