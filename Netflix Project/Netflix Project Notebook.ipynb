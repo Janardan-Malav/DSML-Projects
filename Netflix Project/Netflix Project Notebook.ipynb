{
 "cells": [
  {
   "cell_type": "markdown",
   "id": "246e9d8b",
   "metadata": {},
   "source": [
    "### Problem Statement\n",
    "Analyze the data provided by Netflix and generate insights that could help Netflix deciding which type of shows/movies to produce and how they can grow the business in different countries"
   ]
  },
  {
   "cell_type": "code",
   "execution_count": 1,
   "id": "094748fc",
   "metadata": {},
   "outputs": [],
   "source": [
    "import numpy as np\n",
    "import pandas as pd\n",
    "import matplotlib.pyplot as plt\n",
    "import seaborn as sns"
   ]
  },
  {
   "cell_type": "code",
   "execution_count": 2,
   "id": "489ded46",
   "metadata": {},
   "outputs": [],
   "source": [
    "df = pd.read_csv(\"C:/Users/USER/Downloads/netflix.csv\")"
   ]
  },
  {
   "cell_type": "code",
   "execution_count": 3,
   "id": "4d7aee51",
   "metadata": {},
   "outputs": [
    {
     "name": "stdout",
     "output_type": "stream",
     "text": [
      "<class 'pandas.core.frame.DataFrame'>\n",
      "RangeIndex: 8807 entries, 0 to 8806\n",
      "Data columns (total 12 columns):\n",
      " #   Column        Non-Null Count  Dtype \n",
      "---  ------        --------------  ----- \n",
      " 0   show_id       8807 non-null   object\n",
      " 1   type          8807 non-null   object\n",
      " 2   title         8807 non-null   object\n",
      " 3   director      6173 non-null   object\n",
      " 4   cast          7982 non-null   object\n",
      " 5   country       7976 non-null   object\n",
      " 6   date_added    8797 non-null   object\n",
      " 7   release_year  8807 non-null   int64 \n",
      " 8   rating        8803 non-null   object\n",
      " 9   duration      8804 non-null   object\n",
      " 10  listed_in     8807 non-null   object\n",
      " 11  description   8807 non-null   object\n",
      "dtypes: int64(1), object(11)\n",
      "memory usage: 825.8+ KB\n"
     ]
    }
   ],
   "source": [
    "df.info()"
   ]
  },
  {
   "cell_type": "code",
   "execution_count": 4,
   "id": "198f5544",
   "metadata": {},
   "outputs": [
    {
     "data": {
      "text/plain": [
       "(8807, 12)"
      ]
     },
     "execution_count": 4,
     "metadata": {},
     "output_type": "execute_result"
    }
   ],
   "source": [
    "df.shape "
   ]
  },
  {
   "cell_type": "code",
   "execution_count": 5,
   "id": "0949718d",
   "metadata": {},
   "outputs": [
    {
     "data": {
      "text/html": [
       "<div>\n",
       "<style scoped>\n",
       "    .dataframe tbody tr th:only-of-type {\n",
       "        vertical-align: middle;\n",
       "    }\n",
       "\n",
       "    .dataframe tbody tr th {\n",
       "        vertical-align: top;\n",
       "    }\n",
       "\n",
       "    .dataframe thead th {\n",
       "        text-align: right;\n",
       "    }\n",
       "</style>\n",
       "<table border=\"1\" class=\"dataframe\">\n",
       "  <thead>\n",
       "    <tr style=\"text-align: right;\">\n",
       "      <th></th>\n",
       "      <th>show_id</th>\n",
       "      <th>type</th>\n",
       "      <th>title</th>\n",
       "      <th>director</th>\n",
       "      <th>cast</th>\n",
       "      <th>country</th>\n",
       "      <th>date_added</th>\n",
       "      <th>release_year</th>\n",
       "      <th>rating</th>\n",
       "      <th>duration</th>\n",
       "      <th>listed_in</th>\n",
       "      <th>description</th>\n",
       "    </tr>\n",
       "  </thead>\n",
       "  <tbody>\n",
       "    <tr>\n",
       "      <th>count</th>\n",
       "      <td>8807</td>\n",
       "      <td>8807</td>\n",
       "      <td>8807</td>\n",
       "      <td>6173</td>\n",
       "      <td>7982</td>\n",
       "      <td>7976</td>\n",
       "      <td>8797</td>\n",
       "      <td>8807.000000</td>\n",
       "      <td>8803</td>\n",
       "      <td>8804</td>\n",
       "      <td>8807</td>\n",
       "      <td>8807</td>\n",
       "    </tr>\n",
       "    <tr>\n",
       "      <th>unique</th>\n",
       "      <td>8807</td>\n",
       "      <td>2</td>\n",
       "      <td>8807</td>\n",
       "      <td>4528</td>\n",
       "      <td>7692</td>\n",
       "      <td>748</td>\n",
       "      <td>1767</td>\n",
       "      <td>NaN</td>\n",
       "      <td>17</td>\n",
       "      <td>220</td>\n",
       "      <td>514</td>\n",
       "      <td>8775</td>\n",
       "    </tr>\n",
       "    <tr>\n",
       "      <th>top</th>\n",
       "      <td>s1</td>\n",
       "      <td>Movie</td>\n",
       "      <td>Dick Johnson Is Dead</td>\n",
       "      <td>Rajiv Chilaka</td>\n",
       "      <td>David Attenborough</td>\n",
       "      <td>United States</td>\n",
       "      <td>January 1, 2020</td>\n",
       "      <td>NaN</td>\n",
       "      <td>TV-MA</td>\n",
       "      <td>1 Season</td>\n",
       "      <td>Dramas, International Movies</td>\n",
       "      <td>Paranormal activity at a lush, abandoned prope...</td>\n",
       "    </tr>\n",
       "    <tr>\n",
       "      <th>freq</th>\n",
       "      <td>1</td>\n",
       "      <td>6131</td>\n",
       "      <td>1</td>\n",
       "      <td>19</td>\n",
       "      <td>19</td>\n",
       "      <td>2818</td>\n",
       "      <td>109</td>\n",
       "      <td>NaN</td>\n",
       "      <td>3207</td>\n",
       "      <td>1793</td>\n",
       "      <td>362</td>\n",
       "      <td>4</td>\n",
       "    </tr>\n",
       "    <tr>\n",
       "      <th>mean</th>\n",
       "      <td>NaN</td>\n",
       "      <td>NaN</td>\n",
       "      <td>NaN</td>\n",
       "      <td>NaN</td>\n",
       "      <td>NaN</td>\n",
       "      <td>NaN</td>\n",
       "      <td>NaN</td>\n",
       "      <td>2014.180198</td>\n",
       "      <td>NaN</td>\n",
       "      <td>NaN</td>\n",
       "      <td>NaN</td>\n",
       "      <td>NaN</td>\n",
       "    </tr>\n",
       "    <tr>\n",
       "      <th>std</th>\n",
       "      <td>NaN</td>\n",
       "      <td>NaN</td>\n",
       "      <td>NaN</td>\n",
       "      <td>NaN</td>\n",
       "      <td>NaN</td>\n",
       "      <td>NaN</td>\n",
       "      <td>NaN</td>\n",
       "      <td>8.819312</td>\n",
       "      <td>NaN</td>\n",
       "      <td>NaN</td>\n",
       "      <td>NaN</td>\n",
       "      <td>NaN</td>\n",
       "    </tr>\n",
       "    <tr>\n",
       "      <th>min</th>\n",
       "      <td>NaN</td>\n",
       "      <td>NaN</td>\n",
       "      <td>NaN</td>\n",
       "      <td>NaN</td>\n",
       "      <td>NaN</td>\n",
       "      <td>NaN</td>\n",
       "      <td>NaN</td>\n",
       "      <td>1925.000000</td>\n",
       "      <td>NaN</td>\n",
       "      <td>NaN</td>\n",
       "      <td>NaN</td>\n",
       "      <td>NaN</td>\n",
       "    </tr>\n",
       "    <tr>\n",
       "      <th>25%</th>\n",
       "      <td>NaN</td>\n",
       "      <td>NaN</td>\n",
       "      <td>NaN</td>\n",
       "      <td>NaN</td>\n",
       "      <td>NaN</td>\n",
       "      <td>NaN</td>\n",
       "      <td>NaN</td>\n",
       "      <td>2013.000000</td>\n",
       "      <td>NaN</td>\n",
       "      <td>NaN</td>\n",
       "      <td>NaN</td>\n",
       "      <td>NaN</td>\n",
       "    </tr>\n",
       "    <tr>\n",
       "      <th>50%</th>\n",
       "      <td>NaN</td>\n",
       "      <td>NaN</td>\n",
       "      <td>NaN</td>\n",
       "      <td>NaN</td>\n",
       "      <td>NaN</td>\n",
       "      <td>NaN</td>\n",
       "      <td>NaN</td>\n",
       "      <td>2017.000000</td>\n",
       "      <td>NaN</td>\n",
       "      <td>NaN</td>\n",
       "      <td>NaN</td>\n",
       "      <td>NaN</td>\n",
       "    </tr>\n",
       "    <tr>\n",
       "      <th>75%</th>\n",
       "      <td>NaN</td>\n",
       "      <td>NaN</td>\n",
       "      <td>NaN</td>\n",
       "      <td>NaN</td>\n",
       "      <td>NaN</td>\n",
       "      <td>NaN</td>\n",
       "      <td>NaN</td>\n",
       "      <td>2019.000000</td>\n",
       "      <td>NaN</td>\n",
       "      <td>NaN</td>\n",
       "      <td>NaN</td>\n",
       "      <td>NaN</td>\n",
       "    </tr>\n",
       "    <tr>\n",
       "      <th>max</th>\n",
       "      <td>NaN</td>\n",
       "      <td>NaN</td>\n",
       "      <td>NaN</td>\n",
       "      <td>NaN</td>\n",
       "      <td>NaN</td>\n",
       "      <td>NaN</td>\n",
       "      <td>NaN</td>\n",
       "      <td>2021.000000</td>\n",
       "      <td>NaN</td>\n",
       "      <td>NaN</td>\n",
       "      <td>NaN</td>\n",
       "      <td>NaN</td>\n",
       "    </tr>\n",
       "  </tbody>\n",
       "</table>\n",
       "</div>"
      ],
      "text/plain": [
       "       show_id   type                 title       director  \\\n",
       "count     8807   8807                  8807           6173   \n",
       "unique    8807      2                  8807           4528   \n",
       "top         s1  Movie  Dick Johnson Is Dead  Rajiv Chilaka   \n",
       "freq         1   6131                     1             19   \n",
       "mean       NaN    NaN                   NaN            NaN   \n",
       "std        NaN    NaN                   NaN            NaN   \n",
       "min        NaN    NaN                   NaN            NaN   \n",
       "25%        NaN    NaN                   NaN            NaN   \n",
       "50%        NaN    NaN                   NaN            NaN   \n",
       "75%        NaN    NaN                   NaN            NaN   \n",
       "max        NaN    NaN                   NaN            NaN   \n",
       "\n",
       "                      cast        country       date_added  release_year  \\\n",
       "count                 7982           7976             8797   8807.000000   \n",
       "unique                7692            748             1767           NaN   \n",
       "top     David Attenborough  United States  January 1, 2020           NaN   \n",
       "freq                    19           2818              109           NaN   \n",
       "mean                   NaN            NaN              NaN   2014.180198   \n",
       "std                    NaN            NaN              NaN      8.819312   \n",
       "min                    NaN            NaN              NaN   1925.000000   \n",
       "25%                    NaN            NaN              NaN   2013.000000   \n",
       "50%                    NaN            NaN              NaN   2017.000000   \n",
       "75%                    NaN            NaN              NaN   2019.000000   \n",
       "max                    NaN            NaN              NaN   2021.000000   \n",
       "\n",
       "       rating  duration                     listed_in  \\\n",
       "count    8803      8804                          8807   \n",
       "unique     17       220                           514   \n",
       "top     TV-MA  1 Season  Dramas, International Movies   \n",
       "freq     3207      1793                           362   \n",
       "mean      NaN       NaN                           NaN   \n",
       "std       NaN       NaN                           NaN   \n",
       "min       NaN       NaN                           NaN   \n",
       "25%       NaN       NaN                           NaN   \n",
       "50%       NaN       NaN                           NaN   \n",
       "75%       NaN       NaN                           NaN   \n",
       "max       NaN       NaN                           NaN   \n",
       "\n",
       "                                              description  \n",
       "count                                                8807  \n",
       "unique                                               8775  \n",
       "top     Paranormal activity at a lush, abandoned prope...  \n",
       "freq                                                    4  \n",
       "mean                                                  NaN  \n",
       "std                                                   NaN  \n",
       "min                                                   NaN  \n",
       "25%                                                   NaN  \n",
       "50%                                                   NaN  \n",
       "75%                                                   NaN  \n",
       "max                                                   NaN  "
      ]
     },
     "execution_count": 5,
     "metadata": {},
     "output_type": "execute_result"
    }
   ],
   "source": [
    "df.describe(include='all')"
   ]
  },
  {
   "cell_type": "code",
   "execution_count": 6,
   "id": "17eaabd2",
   "metadata": {},
   "outputs": [
    {
     "data": {
      "text/plain": [
       "show_id            0\n",
       "type               0\n",
       "title              0\n",
       "director        2634\n",
       "cast             825\n",
       "country          831\n",
       "date_added        10\n",
       "release_year       0\n",
       "rating             4\n",
       "duration           3\n",
       "listed_in          0\n",
       "description        0\n",
       "dtype: int64"
      ]
     },
     "execution_count": 6,
     "metadata": {},
     "output_type": "execute_result"
    }
   ],
   "source": [
    "df.isnull().sum()"
   ]
  },
  {
   "cell_type": "code",
   "execution_count": 7,
   "id": "e1a65e12",
   "metadata": {},
   "outputs": [
    {
     "data": {
      "text/plain": [
       "<AxesSubplot:>"
      ]
     },
     "execution_count": 7,
     "metadata": {},
     "output_type": "execute_result"
    },
    {
     "data": {
      "image/png": "[encoded data removed]",
      "text/plain": [
       "<Figure size 432x288 with 2 Axes>"
      ]
     },
     "metadata": {
      "needs_background": "light"
     },
     "output_type": "display_data"
    }
   ],
   "source": [
    "sns.heatmap(df.isnull()) #In the heatmap white colour shows the missing values"
   ]
  },
  {
   "cell_type": "code",
   "execution_count": 8,
   "id": "fb10de34",
   "metadata": {},
   "outputs": [
    {
     "data": {
      "text/plain": [
       "show_id         8807\n",
       "type               2\n",
       "title           8807\n",
       "director        4528\n",
       "cast            7692\n",
       "country          748\n",
       "date_added      1767\n",
       "release_year      74\n",
       "rating            17\n",
       "duration         220\n",
       "listed_in        514\n",
       "description     8775\n",
       "dtype: int64"
      ]
     },
     "execution_count": 8,
     "metadata": {},
     "output_type": "execute_result"
    }
   ],
   "source": [
    "df.nunique()"
   ]
  },
  {
   "cell_type": "markdown",
   "id": "7b9a188a",
   "metadata": {},
   "source": [
    "## Fill in Missing Values and Adjust Data Types"
   ]
  },
  {
   "cell_type": "code",
   "execution_count": 9,
   "id": "f4008bde",
   "metadata": {},
   "outputs": [],
   "source": [
    "df = df.fillna({'rating':'unavailable', 'director':'unavailable', 'cast':'unavailable', 'country':'unavailable'})"
   ]
  },
  {
   "cell_type": "code",
   "execution_count": 10,
   "id": "bc2637ba",
   "metadata": {},
   "outputs": [
    {
     "data": {
      "text/html": [
       "<div>\n",
       "<style scoped>\n",
       "    .dataframe tbody tr th:only-of-type {\n",
       "        vertical-align: middle;\n",
       "    }\n",
       "\n",
       "    .dataframe tbody tr th {\n",
       "        vertical-align: top;\n",
       "    }\n",
       "\n",
       "    .dataframe thead th {\n",
       "        text-align: right;\n",
       "    }\n",
       "</style>\n",
       "<table border=\"1\" class=\"dataframe\">\n",
       "  <thead>\n",
       "    <tr style=\"text-align: right;\">\n",
       "      <th></th>\n",
       "      <th>show_id</th>\n",
       "      <th>type</th>\n",
       "      <th>title</th>\n",
       "      <th>director</th>\n",
       "      <th>cast</th>\n",
       "      <th>country</th>\n",
       "      <th>date_added</th>\n",
       "      <th>release_year</th>\n",
       "      <th>rating</th>\n",
       "      <th>duration</th>\n",
       "      <th>listed_in</th>\n",
       "      <th>description</th>\n",
       "    </tr>\n",
       "  </thead>\n",
       "  <tbody>\n",
       "    <tr>\n",
       "      <th>5541</th>\n",
       "      <td>s5542</td>\n",
       "      <td>Movie</td>\n",
       "      <td>Louis C.K. 2017</td>\n",
       "      <td>Louis C.K.</td>\n",
       "      <td>Louis C.K.</td>\n",
       "      <td>United States</td>\n",
       "      <td>April 4, 2017</td>\n",
       "      <td>2017</td>\n",
       "      <td>74 min</td>\n",
       "      <td>NaN</td>\n",
       "      <td>Movies</td>\n",
       "      <td>Louis C.K. muses on religion, eternal love, gi...</td>\n",
       "    </tr>\n",
       "    <tr>\n",
       "      <th>5794</th>\n",
       "      <td>s5795</td>\n",
       "      <td>Movie</td>\n",
       "      <td>Louis C.K.: Hilarious</td>\n",
       "      <td>Louis C.K.</td>\n",
       "      <td>Louis C.K.</td>\n",
       "      <td>United States</td>\n",
       "      <td>September 16, 2016</td>\n",
       "      <td>2010</td>\n",
       "      <td>84 min</td>\n",
       "      <td>NaN</td>\n",
       "      <td>Movies</td>\n",
       "      <td>Emmy-winning comedy writer Louis C.K. brings h...</td>\n",
       "    </tr>\n",
       "    <tr>\n",
       "      <th>5813</th>\n",
       "      <td>s5814</td>\n",
       "      <td>Movie</td>\n",
       "      <td>Louis C.K.: Live at the Comedy Store</td>\n",
       "      <td>Louis C.K.</td>\n",
       "      <td>Louis C.K.</td>\n",
       "      <td>United States</td>\n",
       "      <td>August 15, 2016</td>\n",
       "      <td>2015</td>\n",
       "      <td>66 min</td>\n",
       "      <td>NaN</td>\n",
       "      <td>Movies</td>\n",
       "      <td>The comic puts his trademark hilarious/thought...</td>\n",
       "    </tr>\n",
       "  </tbody>\n",
       "</table>\n",
       "</div>"
      ],
      "text/plain": [
       "     show_id   type                                 title    director  \\\n",
       "5541   s5542  Movie                       Louis C.K. 2017  Louis C.K.   \n",
       "5794   s5795  Movie                 Louis C.K.: Hilarious  Louis C.K.   \n",
       "5813   s5814  Movie  Louis C.K.: Live at the Comedy Store  Louis C.K.   \n",
       "\n",
       "            cast        country          date_added  release_year  rating  \\\n",
       "5541  Louis C.K.  United States       April 4, 2017          2017  74 min   \n",
       "5794  Louis C.K.  United States  September 16, 2016          2010  84 min   \n",
       "5813  Louis C.K.  United States     August 15, 2016          2015  66 min   \n",
       "\n",
       "     duration listed_in                                        description  \n",
       "5541      NaN    Movies  Louis C.K. muses on religion, eternal love, gi...  \n",
       "5794      NaN    Movies  Emmy-winning comedy writer Louis C.K. brings h...  \n",
       "5813      NaN    Movies  The comic puts his trademark hilarious/thought...  "
      ]
     },
     "execution_count": 10,
     "metadata": {},
     "output_type": "execute_result"
    }
   ],
   "source": [
    "df[df.duration.isnull()]"
   ]
  },
  {
   "cell_type": "markdown",
   "id": "e90192df",
   "metadata": {},
   "source": [
    "#### The missing values of duration are all movies by Louis C.K. Here it appears the actual duration was input into rating column, so the solution is to move the rating data into duration and fill the rating values with unavailable as other null values "
   ]
  },
  {
   "cell_type": "code",
   "execution_count": 11,
   "id": "3e97db82",
   "metadata": {},
   "outputs": [
    {
     "data": {
      "text/html": [
       "<div>\n",
       "<style scoped>\n",
       "    .dataframe tbody tr th:only-of-type {\n",
       "        vertical-align: middle;\n",
       "    }\n",
       "\n",
       "    .dataframe tbody tr th {\n",
       "        vertical-align: top;\n",
       "    }\n",
       "\n",
       "    .dataframe thead th {\n",
       "        text-align: right;\n",
       "    }\n",
       "</style>\n",
       "<table border=\"1\" class=\"dataframe\">\n",
       "  <thead>\n",
       "    <tr style=\"text-align: right;\">\n",
       "      <th></th>\n",
       "      <th>show_id</th>\n",
       "      <th>type</th>\n",
       "      <th>title</th>\n",
       "      <th>director</th>\n",
       "      <th>cast</th>\n",
       "      <th>country</th>\n",
       "      <th>date_added</th>\n",
       "      <th>release_year</th>\n",
       "      <th>rating</th>\n",
       "      <th>duration</th>\n",
       "      <th>listed_in</th>\n",
       "      <th>description</th>\n",
       "    </tr>\n",
       "  </thead>\n",
       "  <tbody>\n",
       "    <tr>\n",
       "      <th>5541</th>\n",
       "      <td>s5542</td>\n",
       "      <td>Movie</td>\n",
       "      <td>Louis C.K. 2017</td>\n",
       "      <td>Louis C.K.</td>\n",
       "      <td>Louis C.K.</td>\n",
       "      <td>United States</td>\n",
       "      <td>April 4, 2017</td>\n",
       "      <td>2017</td>\n",
       "      <td>74 min</td>\n",
       "      <td>NaN</td>\n",
       "      <td>Movies</td>\n",
       "      <td>Louis C.K. muses on religion, eternal love, gi...</td>\n",
       "    </tr>\n",
       "    <tr>\n",
       "      <th>5794</th>\n",
       "      <td>s5795</td>\n",
       "      <td>Movie</td>\n",
       "      <td>Louis C.K.: Hilarious</td>\n",
       "      <td>Louis C.K.</td>\n",
       "      <td>Louis C.K.</td>\n",
       "      <td>United States</td>\n",
       "      <td>September 16, 2016</td>\n",
       "      <td>2010</td>\n",
       "      <td>84 min</td>\n",
       "      <td>NaN</td>\n",
       "      <td>Movies</td>\n",
       "      <td>Emmy-winning comedy writer Louis C.K. brings h...</td>\n",
       "    </tr>\n",
       "    <tr>\n",
       "      <th>5813</th>\n",
       "      <td>s5814</td>\n",
       "      <td>Movie</td>\n",
       "      <td>Louis C.K.: Live at the Comedy Store</td>\n",
       "      <td>Louis C.K.</td>\n",
       "      <td>Louis C.K.</td>\n",
       "      <td>United States</td>\n",
       "      <td>August 15, 2016</td>\n",
       "      <td>2015</td>\n",
       "      <td>66 min</td>\n",
       "      <td>NaN</td>\n",
       "      <td>Movies</td>\n",
       "      <td>The comic puts his trademark hilarious/thought...</td>\n",
       "    </tr>\n",
       "  </tbody>\n",
       "</table>\n",
       "</div>"
      ],
      "text/plain": [
       "     show_id   type                                 title    director  \\\n",
       "5541   s5542  Movie                       Louis C.K. 2017  Louis C.K.   \n",
       "5794   s5795  Movie                 Louis C.K.: Hilarious  Louis C.K.   \n",
       "5813   s5814  Movie  Louis C.K.: Live at the Comedy Store  Louis C.K.   \n",
       "\n",
       "            cast        country          date_added  release_year  rating  \\\n",
       "5541  Louis C.K.  United States       April 4, 2017          2017  74 min   \n",
       "5794  Louis C.K.  United States  September 16, 2016          2010  84 min   \n",
       "5813  Louis C.K.  United States     August 15, 2016          2015  66 min   \n",
       "\n",
       "     duration listed_in                                        description  \n",
       "5541      NaN    Movies  Louis C.K. muses on religion, eternal love, gi...  \n",
       "5794      NaN    Movies  Emmy-winning comedy writer Louis C.K. brings h...  \n",
       "5813      NaN    Movies  The comic puts his trademark hilarious/thought...  "
      ]
     },
     "execution_count": 11,
     "metadata": {},
     "output_type": "execute_result"
    }
   ],
   "source": [
    "df[df['director']=='Louis C.K.']"
   ]
  },
  {
   "cell_type": "markdown",
   "id": "03d36768",
   "metadata": {},
   "source": [
    "#### Check to make sure there is no other content with the same director to avoid accidental overwirting"
   ]
  },
  {
   "cell_type": "code",
   "execution_count": 12,
   "id": "226dbb82",
   "metadata": {},
   "outputs": [
    {
     "data": {
      "text/html": [
       "<div>\n",
       "<style scoped>\n",
       "    .dataframe tbody tr th:only-of-type {\n",
       "        vertical-align: middle;\n",
       "    }\n",
       "\n",
       "    .dataframe tbody tr th {\n",
       "        vertical-align: top;\n",
       "    }\n",
       "\n",
       "    .dataframe thead th {\n",
       "        text-align: right;\n",
       "    }\n",
       "</style>\n",
       "<table border=\"1\" class=\"dataframe\">\n",
       "  <thead>\n",
       "    <tr style=\"text-align: right;\">\n",
       "      <th></th>\n",
       "      <th>show_id</th>\n",
       "      <th>type</th>\n",
       "      <th>title</th>\n",
       "      <th>director</th>\n",
       "      <th>cast</th>\n",
       "      <th>country</th>\n",
       "      <th>date_added</th>\n",
       "      <th>release_year</th>\n",
       "      <th>rating</th>\n",
       "      <th>duration</th>\n",
       "      <th>listed_in</th>\n",
       "      <th>description</th>\n",
       "    </tr>\n",
       "  </thead>\n",
       "  <tbody>\n",
       "    <tr>\n",
       "      <th>5541</th>\n",
       "      <td>s5542</td>\n",
       "      <td>Movie</td>\n",
       "      <td>Louis C.K. 2017</td>\n",
       "      <td>Louis C.K.</td>\n",
       "      <td>Louis C.K.</td>\n",
       "      <td>United States</td>\n",
       "      <td>April 4, 2017</td>\n",
       "      <td>2017</td>\n",
       "      <td>74 min</td>\n",
       "      <td>74 min</td>\n",
       "      <td>Movies</td>\n",
       "      <td>Louis C.K. muses on religion, eternal love, gi...</td>\n",
       "    </tr>\n",
       "    <tr>\n",
       "      <th>5794</th>\n",
       "      <td>s5795</td>\n",
       "      <td>Movie</td>\n",
       "      <td>Louis C.K.: Hilarious</td>\n",
       "      <td>Louis C.K.</td>\n",
       "      <td>Louis C.K.</td>\n",
       "      <td>United States</td>\n",
       "      <td>September 16, 2016</td>\n",
       "      <td>2010</td>\n",
       "      <td>84 min</td>\n",
       "      <td>84 min</td>\n",
       "      <td>Movies</td>\n",
       "      <td>Emmy-winning comedy writer Louis C.K. brings h...</td>\n",
       "    </tr>\n",
       "    <tr>\n",
       "      <th>5813</th>\n",
       "      <td>s5814</td>\n",
       "      <td>Movie</td>\n",
       "      <td>Louis C.K.: Live at the Comedy Store</td>\n",
       "      <td>Louis C.K.</td>\n",
       "      <td>Louis C.K.</td>\n",
       "      <td>United States</td>\n",
       "      <td>August 15, 2016</td>\n",
       "      <td>2015</td>\n",
       "      <td>66 min</td>\n",
       "      <td>66 min</td>\n",
       "      <td>Movies</td>\n",
       "      <td>The comic puts his trademark hilarious/thought...</td>\n",
       "    </tr>\n",
       "  </tbody>\n",
       "</table>\n",
       "</div>"
      ],
      "text/plain": [
       "     show_id   type                                 title    director  \\\n",
       "5541   s5542  Movie                       Louis C.K. 2017  Louis C.K.   \n",
       "5794   s5795  Movie                 Louis C.K.: Hilarious  Louis C.K.   \n",
       "5813   s5814  Movie  Louis C.K.: Live at the Comedy Store  Louis C.K.   \n",
       "\n",
       "            cast        country          date_added  release_year  rating  \\\n",
       "5541  Louis C.K.  United States       April 4, 2017          2017  74 min   \n",
       "5794  Louis C.K.  United States  September 16, 2016          2010  84 min   \n",
       "5813  Louis C.K.  United States     August 15, 2016          2015  66 min   \n",
       "\n",
       "     duration listed_in                                        description  \n",
       "5541   74 min    Movies  Louis C.K. muses on religion, eternal love, gi...  \n",
       "5794   84 min    Movies  Emmy-winning comedy writer Louis C.K. brings h...  \n",
       "5813   66 min    Movies  The comic puts his trademark hilarious/thought...  "
      ]
     },
     "execution_count": 12,
     "metadata": {},
     "output_type": "execute_result"
    }
   ],
   "source": [
    "df.loc[df['director']=='Louis C.K.', 'duration'] = df['rating']\n",
    "df[df['director']=='Louis C.K.']"
   ]
  },
  {
   "cell_type": "code",
   "execution_count": 13,
   "id": "73d0174a",
   "metadata": {},
   "outputs": [
    {
     "data": {
      "text/html": [
       "<div>\n",
       "<style scoped>\n",
       "    .dataframe tbody tr th:only-of-type {\n",
       "        vertical-align: middle;\n",
       "    }\n",
       "\n",
       "    .dataframe tbody tr th {\n",
       "        vertical-align: top;\n",
       "    }\n",
       "\n",
       "    .dataframe thead th {\n",
       "        text-align: right;\n",
       "    }\n",
       "</style>\n",
       "<table border=\"1\" class=\"dataframe\">\n",
       "  <thead>\n",
       "    <tr style=\"text-align: right;\">\n",
       "      <th></th>\n",
       "      <th>show_id</th>\n",
       "      <th>type</th>\n",
       "      <th>title</th>\n",
       "      <th>director</th>\n",
       "      <th>cast</th>\n",
       "      <th>country</th>\n",
       "      <th>date_added</th>\n",
       "      <th>release_year</th>\n",
       "      <th>rating</th>\n",
       "      <th>duration</th>\n",
       "      <th>listed_in</th>\n",
       "      <th>description</th>\n",
       "    </tr>\n",
       "  </thead>\n",
       "  <tbody>\n",
       "    <tr>\n",
       "      <th>5541</th>\n",
       "      <td>s5542</td>\n",
       "      <td>Movie</td>\n",
       "      <td>Louis C.K. 2017</td>\n",
       "      <td>Louis C.K.</td>\n",
       "      <td>Louis C.K.</td>\n",
       "      <td>United States</td>\n",
       "      <td>April 4, 2017</td>\n",
       "      <td>2017</td>\n",
       "      <td>unavailable</td>\n",
       "      <td>74 min</td>\n",
       "      <td>Movies</td>\n",
       "      <td>Louis C.K. muses on religion, eternal love, gi...</td>\n",
       "    </tr>\n",
       "    <tr>\n",
       "      <th>5794</th>\n",
       "      <td>s5795</td>\n",
       "      <td>Movie</td>\n",
       "      <td>Louis C.K.: Hilarious</td>\n",
       "      <td>Louis C.K.</td>\n",
       "      <td>Louis C.K.</td>\n",
       "      <td>United States</td>\n",
       "      <td>September 16, 2016</td>\n",
       "      <td>2010</td>\n",
       "      <td>unavailable</td>\n",
       "      <td>84 min</td>\n",
       "      <td>Movies</td>\n",
       "      <td>Emmy-winning comedy writer Louis C.K. brings h...</td>\n",
       "    </tr>\n",
       "    <tr>\n",
       "      <th>5813</th>\n",
       "      <td>s5814</td>\n",
       "      <td>Movie</td>\n",
       "      <td>Louis C.K.: Live at the Comedy Store</td>\n",
       "      <td>Louis C.K.</td>\n",
       "      <td>Louis C.K.</td>\n",
       "      <td>United States</td>\n",
       "      <td>August 15, 2016</td>\n",
       "      <td>2015</td>\n",
       "      <td>unavailable</td>\n",
       "      <td>66 min</td>\n",
       "      <td>Movies</td>\n",
       "      <td>The comic puts his trademark hilarious/thought...</td>\n",
       "    </tr>\n",
       "  </tbody>\n",
       "</table>\n",
       "</div>"
      ],
      "text/plain": [
       "     show_id   type                                 title    director  \\\n",
       "5541   s5542  Movie                       Louis C.K. 2017  Louis C.K.   \n",
       "5794   s5795  Movie                 Louis C.K.: Hilarious  Louis C.K.   \n",
       "5813   s5814  Movie  Louis C.K.: Live at the Comedy Store  Louis C.K.   \n",
       "\n",
       "            cast        country          date_added  release_year  \\\n",
       "5541  Louis C.K.  United States       April 4, 2017          2017   \n",
       "5794  Louis C.K.  United States  September 16, 2016          2010   \n",
       "5813  Louis C.K.  United States     August 15, 2016          2015   \n",
       "\n",
       "           rating duration listed_in  \\\n",
       "5541  unavailable   74 min    Movies   \n",
       "5794  unavailable   84 min    Movies   \n",
       "5813  unavailable   66 min    Movies   \n",
       "\n",
       "                                            description  \n",
       "5541  Louis C.K. muses on religion, eternal love, gi...  \n",
       "5794  Emmy-winning comedy writer Louis C.K. brings h...  \n",
       "5813  The comic puts his trademark hilarious/thought...  "
      ]
     },
     "execution_count": 13,
     "metadata": {},
     "output_type": "execute_result"
    }
   ],
   "source": [
    "df.loc[df['director']=='Louis C.K.', 'rating']='unavailable'\n",
    "df[df['director']=='Louis C.K.']"
   ]
  },
  {
   "cell_type": "code",
   "execution_count": 14,
   "id": "a517e7ef",
   "metadata": {},
   "outputs": [
    {
     "data": {
      "text/html": [
       "<div>\n",
       "<style scoped>\n",
       "    .dataframe tbody tr th:only-of-type {\n",
       "        vertical-align: middle;\n",
       "    }\n",
       "\n",
       "    .dataframe tbody tr th {\n",
       "        vertical-align: top;\n",
       "    }\n",
       "\n",
       "    .dataframe thead th {\n",
       "        text-align: right;\n",
       "    }\n",
       "</style>\n",
       "<table border=\"1\" class=\"dataframe\">\n",
       "  <thead>\n",
       "    <tr style=\"text-align: right;\">\n",
       "      <th></th>\n",
       "      <th>show_id</th>\n",
       "      <th>type</th>\n",
       "      <th>title</th>\n",
       "      <th>director</th>\n",
       "      <th>cast</th>\n",
       "      <th>country</th>\n",
       "      <th>date_added</th>\n",
       "      <th>release_year</th>\n",
       "      <th>rating</th>\n",
       "      <th>duration</th>\n",
       "      <th>listed_in</th>\n",
       "      <th>description</th>\n",
       "    </tr>\n",
       "  </thead>\n",
       "  <tbody>\n",
       "    <tr>\n",
       "      <th>0</th>\n",
       "      <td>s1</td>\n",
       "      <td>Movie</td>\n",
       "      <td>Dick Johnson Is Dead</td>\n",
       "      <td>Kirsten Johnson</td>\n",
       "      <td>unavailable</td>\n",
       "      <td>United States</td>\n",
       "      <td>2021-09-25</td>\n",
       "      <td>2020</td>\n",
       "      <td>PG-13</td>\n",
       "      <td>90 min</td>\n",
       "      <td>Documentaries</td>\n",
       "      <td>As her father nears the end of his life, filmm...</td>\n",
       "    </tr>\n",
       "    <tr>\n",
       "      <th>1</th>\n",
       "      <td>s2</td>\n",
       "      <td>TV Show</td>\n",
       "      <td>Blood &amp; Water</td>\n",
       "      <td>unavailable</td>\n",
       "      <td>Ama Qamata, Khosi Ngema, Gail Mabalane, Thaban...</td>\n",
       "      <td>South Africa</td>\n",
       "      <td>2021-09-24</td>\n",
       "      <td>2021</td>\n",
       "      <td>TV-MA</td>\n",
       "      <td>2 Seasons</td>\n",
       "      <td>International TV Shows, TV Dramas, TV Mysteries</td>\n",
       "      <td>After crossing paths at a party, a Cape Town t...</td>\n",
       "    </tr>\n",
       "    <tr>\n",
       "      <th>2</th>\n",
       "      <td>s3</td>\n",
       "      <td>TV Show</td>\n",
       "      <td>Ganglands</td>\n",
       "      <td>Julien Leclercq</td>\n",
       "      <td>Sami Bouajila, Tracy Gotoas, Samuel Jouy, Nabi...</td>\n",
       "      <td>unavailable</td>\n",
       "      <td>2021-09-24</td>\n",
       "      <td>2021</td>\n",
       "      <td>TV-MA</td>\n",
       "      <td>1 Season</td>\n",
       "      <td>Crime TV Shows, International TV Shows, TV Act...</td>\n",
       "      <td>To protect his family from a powerful drug lor...</td>\n",
       "    </tr>\n",
       "    <tr>\n",
       "      <th>3</th>\n",
       "      <td>s4</td>\n",
       "      <td>TV Show</td>\n",
       "      <td>Jailbirds New Orleans</td>\n",
       "      <td>unavailable</td>\n",
       "      <td>unavailable</td>\n",
       "      <td>unavailable</td>\n",
       "      <td>2021-09-24</td>\n",
       "      <td>2021</td>\n",
       "      <td>TV-MA</td>\n",
       "      <td>1 Season</td>\n",
       "      <td>Docuseries, Reality TV</td>\n",
       "      <td>Feuds, flirtations and toilet talk go down amo...</td>\n",
       "    </tr>\n",
       "    <tr>\n",
       "      <th>4</th>\n",
       "      <td>s5</td>\n",
       "      <td>TV Show</td>\n",
       "      <td>Kota Factory</td>\n",
       "      <td>unavailable</td>\n",
       "      <td>Mayur More, Jitendra Kumar, Ranjan Raj, Alam K...</td>\n",
       "      <td>India</td>\n",
       "      <td>2021-09-24</td>\n",
       "      <td>2021</td>\n",
       "      <td>TV-MA</td>\n",
       "      <td>2 Seasons</td>\n",
       "      <td>International TV Shows, Romantic TV Shows, TV ...</td>\n",
       "      <td>In a city of coaching centers known to train I...</td>\n",
       "    </tr>\n",
       "  </tbody>\n",
       "</table>\n",
       "</div>"
      ],
      "text/plain": [
       "  show_id     type                  title         director  \\\n",
       "0      s1    Movie   Dick Johnson Is Dead  Kirsten Johnson   \n",
       "1      s2  TV Show          Blood & Water      unavailable   \n",
       "2      s3  TV Show              Ganglands  Julien Leclercq   \n",
       "3      s4  TV Show  Jailbirds New Orleans      unavailable   \n",
       "4      s5  TV Show           Kota Factory      unavailable   \n",
       "\n",
       "                                                cast        country  \\\n",
       "0                                        unavailable  United States   \n",
       "1  Ama Qamata, Khosi Ngema, Gail Mabalane, Thaban...   South Africa   \n",
       "2  Sami Bouajila, Tracy Gotoas, Samuel Jouy, Nabi...    unavailable   \n",
       "3                                        unavailable    unavailable   \n",
       "4  Mayur More, Jitendra Kumar, Ranjan Raj, Alam K...          India   \n",
       "\n",
       "  date_added  release_year rating   duration  \\\n",
       "0 2021-09-25          2020  PG-13     90 min   \n",
       "1 2021-09-24          2021  TV-MA  2 Seasons   \n",
       "2 2021-09-24          2021  TV-MA   1 Season   \n",
       "3 2021-09-24          2021  TV-MA   1 Season   \n",
       "4 2021-09-24          2021  TV-MA  2 Seasons   \n",
       "\n",
       "                                           listed_in  \\\n",
       "0                                      Documentaries   \n",
       "1    International TV Shows, TV Dramas, TV Mysteries   \n",
       "2  Crime TV Shows, International TV Shows, TV Act...   \n",
       "3                             Docuseries, Reality TV   \n",
       "4  International TV Shows, Romantic TV Shows, TV ...   \n",
       "\n",
       "                                         description  \n",
       "0  As her father nears the end of his life, filmm...  \n",
       "1  After crossing paths at a party, a Cape Town t...  \n",
       "2  To protect his family from a powerful drug lor...  \n",
       "3  Feuds, flirtations and toilet talk go down amo...  \n",
       "4  In a city of coaching centers known to train I...  "
      ]
     },
     "execution_count": 14,
     "metadata": {},
     "output_type": "execute_result"
    }
   ],
   "source": [
    "df['date_added']=pd.to_datetime(df['date_added'])\n",
    "df.head()"
   ]
  },
  {
   "cell_type": "markdown",
   "id": "050be620",
   "metadata": {},
   "source": [
    "## Numerical and Visual Analysis"
   ]
  },
  {
   "cell_type": "code",
   "execution_count": 15,
   "id": "ed04de4e",
   "metadata": {},
   "outputs": [
    {
     "data": {
      "text/plain": [
       "2019.0    2016\n",
       "2020.0    1879\n",
       "2018.0    1649\n",
       "2021.0    1498\n",
       "2017.0    1188\n",
       "2016.0     429\n",
       "2015.0      82\n",
       "2014.0      24\n",
       "2011.0      13\n",
       "2013.0      11\n",
       "2012.0       3\n",
       "2009.0       2\n",
       "2008.0       2\n",
       "2010.0       1\n",
       "Name: date_added, dtype: int64"
      ]
     },
     "execution_count": 15,
     "metadata": {},
     "output_type": "execute_result"
    }
   ],
   "source": [
    "df['date_added'].dt.year.value_counts()"
   ]
  },
  {
   "cell_type": "code",
   "execution_count": 16,
   "id": "3eb611bc",
   "metadata": {},
   "outputs": [
    {
     "data": {
      "image/png": "[encoded data removed]",
      "text/plain": [
       "<Figure size 432x288 with 1 Axes>"
      ]
     },
     "metadata": {
      "needs_background": "light"
     },
     "output_type": "display_data"
    }
   ],
   "source": [
    "df['date_added'].dt.year.value_counts().plot(kind='bar') \n",
    "plt.title(\"No. of content added per year\")\n",
    "plt.show()"
   ]
  },
  {
   "cell_type": "markdown",
   "id": "3153ac59",
   "metadata": {},
   "source": [
    "#### We can infer from the above diagram, In the year 2019, highest nos. of content was added on netflix so with the trend more content can be added to keep the people engaged"
   ]
  },
  {
   "cell_type": "code",
   "execution_count": 17,
   "id": "70fd28f6",
   "metadata": {},
   "outputs": [
    {
     "data": {
      "text/plain": [
       "type\n",
       "Movie      6131\n",
       "TV Show    2676\n",
       "Name: type, dtype: int64"
      ]
     },
     "execution_count": 17,
     "metadata": {},
     "output_type": "execute_result"
    }
   ],
   "source": [
    "df.groupby('type').type.count()"
   ]
  },
  {
   "cell_type": "code",
   "execution_count": 18,
   "id": "49062226",
   "metadata": {
    "scrolled": true
   },
   "outputs": [
    {
     "data": {
      "text/plain": [
       "<AxesSubplot:xlabel='type', ylabel='count'>"
      ]
     },
     "execution_count": 18,
     "metadata": {},
     "output_type": "execute_result"
    },
    {
     "data": {
      "image/png": "[encoded data removed]",
      "text/plain": [
       "<Figure size 432x288 with 1 Axes>"
      ]
     },
     "metadata": {
      "needs_background": "light"
     },
     "output_type": "display_data"
    }
   ],
   "source": [
    "sns.countplot(data= df, x='type')"
   ]
  },
  {
   "cell_type": "markdown",
   "id": "e2f37475",
   "metadata": {},
   "source": [
    "#### On Netflix there are more number of Movies compared to TV shows"
   ]
  },
  {
   "cell_type": "code",
   "execution_count": 19,
   "id": "46ad5141",
   "metadata": {
    "scrolled": true
   },
   "outputs": [
    {
     "data": {
      "text/plain": [
       "United States     2818\n",
       "India              972\n",
       "unavailable        831\n",
       "United Kingdom     419\n",
       "Japan              245\n",
       "South Korea        199\n",
       "Canada             181\n",
       "Spain              145\n",
       "France             124\n",
       "Mexico             110\n",
       "Name: country, dtype: int64"
      ]
     },
     "execution_count": 19,
     "metadata": {},
     "output_type": "execute_result"
    }
   ],
   "source": [
    "df['country'].value_counts().head(10)"
   ]
  },
  {
   "cell_type": "code",
   "execution_count": 20,
   "id": "a2b56806",
   "metadata": {},
   "outputs": [
    {
     "data": {
      "image/png": "[encoded data removed]",
      "text/plain": [
       "<Figure size 864x432 with 1 Axes>"
      ]
     },
     "metadata": {
      "needs_background": "light"
     },
     "output_type": "display_data"
    }
   ],
   "source": [
    "plt.figure(figsize=(12,6))\n",
    "sns.countplot(y = 'country', order = df['country'].value_counts().index[0:10], data = df )\n",
    "plt.title(\"Country wise content on Netflix\")\n",
    "plt.show()"
   ]
  },
  {
   "cell_type": "markdown",
   "id": "f4e5176f",
   "metadata": {},
   "source": [
    "#### We can see united states is leading with highest no. of content followed by India"
   ]
  },
  {
   "cell_type": "code",
   "execution_count": 21,
   "id": "d1c832f5",
   "metadata": {},
   "outputs": [
    {
     "data": {
      "text/html": [
       "<div>\n",
       "<style scoped>\n",
       "    .dataframe tbody tr th:only-of-type {\n",
       "        vertical-align: middle;\n",
       "    }\n",
       "\n",
       "    .dataframe tbody tr th {\n",
       "        vertical-align: top;\n",
       "    }\n",
       "\n",
       "    .dataframe thead th {\n",
       "        text-align: right;\n",
       "    }\n",
       "</style>\n",
       "<table border=\"1\" class=\"dataframe\">\n",
       "  <thead>\n",
       "    <tr style=\"text-align: right;\">\n",
       "      <th></th>\n",
       "      <th>show_id</th>\n",
       "      <th>type</th>\n",
       "      <th>title</th>\n",
       "      <th>director</th>\n",
       "      <th>cast</th>\n",
       "      <th>country</th>\n",
       "      <th>date_added</th>\n",
       "      <th>release_year</th>\n",
       "      <th>rating</th>\n",
       "      <th>duration</th>\n",
       "      <th>listed_in</th>\n",
       "      <th>description</th>\n",
       "      <th>day_added</th>\n",
       "      <th>year_added</th>\n",
       "    </tr>\n",
       "  </thead>\n",
       "  <tbody>\n",
       "    <tr>\n",
       "      <th>0</th>\n",
       "      <td>s1</td>\n",
       "      <td>Movie</td>\n",
       "      <td>Dick Johnson Is Dead</td>\n",
       "      <td>Kirsten Johnson</td>\n",
       "      <td>unavailable</td>\n",
       "      <td>United States</td>\n",
       "      <td>2021-09-25</td>\n",
       "      <td>2020</td>\n",
       "      <td>PG-13</td>\n",
       "      <td>90 min</td>\n",
       "      <td>Documentaries</td>\n",
       "      <td>As her father nears the end of his life, filmm...</td>\n",
       "      <td>Saturday</td>\n",
       "      <td>2021.0</td>\n",
       "    </tr>\n",
       "    <tr>\n",
       "      <th>1</th>\n",
       "      <td>s2</td>\n",
       "      <td>TV Show</td>\n",
       "      <td>Blood &amp; Water</td>\n",
       "      <td>unavailable</td>\n",
       "      <td>Ama Qamata, Khosi Ngema, Gail Mabalane, Thaban...</td>\n",
       "      <td>South Africa</td>\n",
       "      <td>2021-09-24</td>\n",
       "      <td>2021</td>\n",
       "      <td>TV-MA</td>\n",
       "      <td>2 Seasons</td>\n",
       "      <td>International TV Shows, TV Dramas, TV Mysteries</td>\n",
       "      <td>After crossing paths at a party, a Cape Town t...</td>\n",
       "      <td>Friday</td>\n",
       "      <td>2021.0</td>\n",
       "    </tr>\n",
       "    <tr>\n",
       "      <th>2</th>\n",
       "      <td>s3</td>\n",
       "      <td>TV Show</td>\n",
       "      <td>Ganglands</td>\n",
       "      <td>Julien Leclercq</td>\n",
       "      <td>Sami Bouajila, Tracy Gotoas, Samuel Jouy, Nabi...</td>\n",
       "      <td>unavailable</td>\n",
       "      <td>2021-09-24</td>\n",
       "      <td>2021</td>\n",
       "      <td>TV-MA</td>\n",
       "      <td>1 Season</td>\n",
       "      <td>Crime TV Shows, International TV Shows, TV Act...</td>\n",
       "      <td>To protect his family from a powerful drug lor...</td>\n",
       "      <td>Friday</td>\n",
       "      <td>2021.0</td>\n",
       "    </tr>\n",
       "    <tr>\n",
       "      <th>3</th>\n",
       "      <td>s4</td>\n",
       "      <td>TV Show</td>\n",
       "      <td>Jailbirds New Orleans</td>\n",
       "      <td>unavailable</td>\n",
       "      <td>unavailable</td>\n",
       "      <td>unavailable</td>\n",
       "      <td>2021-09-24</td>\n",
       "      <td>2021</td>\n",
       "      <td>TV-MA</td>\n",
       "      <td>1 Season</td>\n",
       "      <td>Docuseries, Reality TV</td>\n",
       "      <td>Feuds, flirtations and toilet talk go down amo...</td>\n",
       "      <td>Friday</td>\n",
       "      <td>2021.0</td>\n",
       "    </tr>\n",
       "    <tr>\n",
       "      <th>4</th>\n",
       "      <td>s5</td>\n",
       "      <td>TV Show</td>\n",
       "      <td>Kota Factory</td>\n",
       "      <td>unavailable</td>\n",
       "      <td>Mayur More, Jitendra Kumar, Ranjan Raj, Alam K...</td>\n",
       "      <td>India</td>\n",
       "      <td>2021-09-24</td>\n",
       "      <td>2021</td>\n",
       "      <td>TV-MA</td>\n",
       "      <td>2 Seasons</td>\n",
       "      <td>International TV Shows, Romantic TV Shows, TV ...</td>\n",
       "      <td>In a city of coaching centers known to train I...</td>\n",
       "      <td>Friday</td>\n",
       "      <td>2021.0</td>\n",
       "    </tr>\n",
       "  </tbody>\n",
       "</table>\n",
       "</div>"
      ],
      "text/plain": [
       "  show_id     type                  title         director  \\\n",
       "0      s1    Movie   Dick Johnson Is Dead  Kirsten Johnson   \n",
       "1      s2  TV Show          Blood & Water      unavailable   \n",
       "2      s3  TV Show              Ganglands  Julien Leclercq   \n",
       "3      s4  TV Show  Jailbirds New Orleans      unavailable   \n",
       "4      s5  TV Show           Kota Factory      unavailable   \n",
       "\n",
       "                                                cast        country  \\\n",
       "0                                        unavailable  United States   \n",
       "1  Ama Qamata, Khosi Ngema, Gail Mabalane, Thaban...   South Africa   \n",
       "2  Sami Bouajila, Tracy Gotoas, Samuel Jouy, Nabi...    unavailable   \n",
       "3                                        unavailable    unavailable   \n",
       "4  Mayur More, Jitendra Kumar, Ranjan Raj, Alam K...          India   \n",
       "\n",
       "  date_added  release_year rating   duration  \\\n",
       "0 2021-09-25          2020  PG-13     90 min   \n",
       "1 2021-09-24          2021  TV-MA  2 Seasons   \n",
       "2 2021-09-24          2021  TV-MA   1 Season   \n",
       "3 2021-09-24          2021  TV-MA   1 Season   \n",
       "4 2021-09-24          2021  TV-MA  2 Seasons   \n",
       "\n",
       "                                           listed_in  \\\n",
       "0                                      Documentaries   \n",
       "1    International TV Shows, TV Dramas, TV Mysteries   \n",
       "2  Crime TV Shows, International TV Shows, TV Act...   \n",
       "3                             Docuseries, Reality TV   \n",
       "4  International TV Shows, Romantic TV Shows, TV ...   \n",
       "\n",
       "                                         description day_added  year_added  \n",
       "0  As her father nears the end of his life, filmm...  Saturday      2021.0  \n",
       "1  After crossing paths at a party, a Cape Town t...    Friday      2021.0  \n",
       "2  To protect his family from a powerful drug lor...    Friday      2021.0  \n",
       "3  Feuds, flirtations and toilet talk go down amo...    Friday      2021.0  \n",
       "4  In a city of coaching centers known to train I...    Friday      2021.0  "
      ]
     },
     "execution_count": 21,
     "metadata": {},
     "output_type": "execute_result"
    }
   ],
   "source": [
    "df['day_added']= df.date_added.dt.day_name()\n",
    "df['year_added']=df.date_added.dt.year\n",
    "df.head()"
   ]
  },
  {
   "cell_type": "code",
   "execution_count": 22,
   "id": "aa66a3ec",
   "metadata": {
    "scrolled": true
   },
   "outputs": [
    {
     "data": {
      "text/plain": [
       "Friday       2498\n",
       "Thursday     1396\n",
       "Wednesday    1288\n",
       "Tuesday      1197\n",
       "Monday        851\n",
       "Saturday      816\n",
       "Sunday        751\n",
       "Name: day_added, dtype: int64"
      ]
     },
     "execution_count": 22,
     "metadata": {},
     "output_type": "execute_result"
    }
   ],
   "source": [
    "df['day_added'].value_counts()"
   ]
  },
  {
   "cell_type": "code",
   "execution_count": 23,
   "id": "8cd2354b",
   "metadata": {},
   "outputs": [
    {
     "data": {
      "image/png": "[encoded data removed]",
      "text/plain": [
       "<Figure size 432x288 with 1 Axes>"
      ]
     },
     "metadata": {
      "needs_background": "light"
     },
     "output_type": "display_data"
    }
   ],
   "source": [
    "df['day_added'].value_counts().plot(kind='bar')\n",
    "plt.title(\"Day wise released Content on Netflix\")\n",
    "plt.ylabel(\"Count\")\n",
    "plt.show()"
   ]
  },
  {
   "cell_type": "markdown",
   "id": "6a6839bb",
   "metadata": {},
   "source": [
    "#### From the above insight, it can be said that friday is working well for Netflix"
   ]
  },
  {
   "cell_type": "code",
   "execution_count": 24,
   "id": "6b173c69",
   "metadata": {},
   "outputs": [
    {
     "data": {
      "text/html": [
       "<div>\n",
       "<style scoped>\n",
       "    .dataframe tbody tr th:only-of-type {\n",
       "        vertical-align: middle;\n",
       "    }\n",
       "\n",
       "    .dataframe tbody tr th {\n",
       "        vertical-align: top;\n",
       "    }\n",
       "\n",
       "    .dataframe thead th {\n",
       "        text-align: right;\n",
       "    }\n",
       "</style>\n",
       "<table border=\"1\" class=\"dataframe\">\n",
       "  <thead>\n",
       "    <tr style=\"text-align: right;\">\n",
       "      <th></th>\n",
       "      <th>show_id</th>\n",
       "      <th>type</th>\n",
       "      <th>title</th>\n",
       "      <th>director</th>\n",
       "      <th>cast</th>\n",
       "      <th>country</th>\n",
       "      <th>date_added</th>\n",
       "      <th>release_year</th>\n",
       "      <th>rating</th>\n",
       "      <th>duration</th>\n",
       "      <th>listed_in</th>\n",
       "      <th>description</th>\n",
       "      <th>day_added</th>\n",
       "      <th>year_added</th>\n",
       "      <th>minutes</th>\n",
       "      <th>unit</th>\n",
       "    </tr>\n",
       "  </thead>\n",
       "  <tbody>\n",
       "    <tr>\n",
       "      <th>0</th>\n",
       "      <td>s1</td>\n",
       "      <td>Movie</td>\n",
       "      <td>Dick Johnson Is Dead</td>\n",
       "      <td>Kirsten Johnson</td>\n",
       "      <td>unavailable</td>\n",
       "      <td>United States</td>\n",
       "      <td>2021-09-25</td>\n",
       "      <td>2020</td>\n",
       "      <td>PG-13</td>\n",
       "      <td>90 min</td>\n",
       "      <td>Documentaries</td>\n",
       "      <td>As her father nears the end of his life, filmm...</td>\n",
       "      <td>Saturday</td>\n",
       "      <td>2021.0</td>\n",
       "      <td>90</td>\n",
       "      <td>min</td>\n",
       "    </tr>\n",
       "    <tr>\n",
       "      <th>1</th>\n",
       "      <td>s2</td>\n",
       "      <td>TV Show</td>\n",
       "      <td>Blood &amp; Water</td>\n",
       "      <td>unavailable</td>\n",
       "      <td>Ama Qamata, Khosi Ngema, Gail Mabalane, Thaban...</td>\n",
       "      <td>South Africa</td>\n",
       "      <td>2021-09-24</td>\n",
       "      <td>2021</td>\n",
       "      <td>TV-MA</td>\n",
       "      <td>2 Seasons</td>\n",
       "      <td>International TV Shows, TV Dramas, TV Mysteries</td>\n",
       "      <td>After crossing paths at a party, a Cape Town t...</td>\n",
       "      <td>Friday</td>\n",
       "      <td>2021.0</td>\n",
       "      <td>2</td>\n",
       "      <td>Seasons</td>\n",
       "    </tr>\n",
       "    <tr>\n",
       "      <th>2</th>\n",
       "      <td>s3</td>\n",
       "      <td>TV Show</td>\n",
       "      <td>Ganglands</td>\n",
       "      <td>Julien Leclercq</td>\n",
       "      <td>Sami Bouajila, Tracy Gotoas, Samuel Jouy, Nabi...</td>\n",
       "      <td>unavailable</td>\n",
       "      <td>2021-09-24</td>\n",
       "      <td>2021</td>\n",
       "      <td>TV-MA</td>\n",
       "      <td>1 Season</td>\n",
       "      <td>Crime TV Shows, International TV Shows, TV Act...</td>\n",
       "      <td>To protect his family from a powerful drug lor...</td>\n",
       "      <td>Friday</td>\n",
       "      <td>2021.0</td>\n",
       "      <td>1</td>\n",
       "      <td>Season</td>\n",
       "    </tr>\n",
       "    <tr>\n",
       "      <th>3</th>\n",
       "      <td>s4</td>\n",
       "      <td>TV Show</td>\n",
       "      <td>Jailbirds New Orleans</td>\n",
       "      <td>unavailable</td>\n",
       "      <td>unavailable</td>\n",
       "      <td>unavailable</td>\n",
       "      <td>2021-09-24</td>\n",
       "      <td>2021</td>\n",
       "      <td>TV-MA</td>\n",
       "      <td>1 Season</td>\n",
       "      <td>Docuseries, Reality TV</td>\n",
       "      <td>Feuds, flirtations and toilet talk go down amo...</td>\n",
       "      <td>Friday</td>\n",
       "      <td>2021.0</td>\n",
       "      <td>1</td>\n",
       "      <td>Season</td>\n",
       "    </tr>\n",
       "    <tr>\n",
       "      <th>4</th>\n",
       "      <td>s5</td>\n",
       "      <td>TV Show</td>\n",
       "      <td>Kota Factory</td>\n",
       "      <td>unavailable</td>\n",
       "      <td>Mayur More, Jitendra Kumar, Ranjan Raj, Alam K...</td>\n",
       "      <td>India</td>\n",
       "      <td>2021-09-24</td>\n",
       "      <td>2021</td>\n",
       "      <td>TV-MA</td>\n",
       "      <td>2 Seasons</td>\n",
       "      <td>International TV Shows, Romantic TV Shows, TV ...</td>\n",
       "      <td>In a city of coaching centers known to train I...</td>\n",
       "      <td>Friday</td>\n",
       "      <td>2021.0</td>\n",
       "      <td>2</td>\n",
       "      <td>Seasons</td>\n",
       "    </tr>\n",
       "  </tbody>\n",
       "</table>\n",
       "</div>"
      ],
      "text/plain": [
       "  show_id     type                  title         director  \\\n",
       "0      s1    Movie   Dick Johnson Is Dead  Kirsten Johnson   \n",
       "1      s2  TV Show          Blood & Water      unavailable   \n",
       "2      s3  TV Show              Ganglands  Julien Leclercq   \n",
       "3      s4  TV Show  Jailbirds New Orleans      unavailable   \n",
       "4      s5  TV Show           Kota Factory      unavailable   \n",
       "\n",
       "                                                cast        country  \\\n",
       "0                                        unavailable  United States   \n",
       "1  Ama Qamata, Khosi Ngema, Gail Mabalane, Thaban...   South Africa   \n",
       "2  Sami Bouajila, Tracy Gotoas, Samuel Jouy, Nabi...    unavailable   \n",
       "3                                        unavailable    unavailable   \n",
       "4  Mayur More, Jitendra Kumar, Ranjan Raj, Alam K...          India   \n",
       "\n",
       "  date_added  release_year rating   duration  \\\n",
       "0 2021-09-25          2020  PG-13     90 min   \n",
       "1 2021-09-24          2021  TV-MA  2 Seasons   \n",
       "2 2021-09-24          2021  TV-MA   1 Season   \n",
       "3 2021-09-24          2021  TV-MA   1 Season   \n",
       "4 2021-09-24          2021  TV-MA  2 Seasons   \n",
       "\n",
       "                                           listed_in  \\\n",
       "0                                      Documentaries   \n",
       "1    International TV Shows, TV Dramas, TV Mysteries   \n",
       "2  Crime TV Shows, International TV Shows, TV Act...   \n",
       "3                             Docuseries, Reality TV   \n",
       "4  International TV Shows, Romantic TV Shows, TV ...   \n",
       "\n",
       "                                         description day_added  year_added  \\\n",
       "0  As her father nears the end of his life, filmm...  Saturday      2021.0   \n",
       "1  After crossing paths at a party, a Cape Town t...    Friday      2021.0   \n",
       "2  To protect his family from a powerful drug lor...    Friday      2021.0   \n",
       "3  Feuds, flirtations and toilet talk go down amo...    Friday      2021.0   \n",
       "4  In a city of coaching centers known to train I...    Friday      2021.0   \n",
       "\n",
       "   minutes     unit  \n",
       "0       90      min  \n",
       "1        2  Seasons  \n",
       "2        1   Season  \n",
       "3        1   Season  \n",
       "4        2  Seasons  "
      ]
     },
     "execution_count": 24,
     "metadata": {},
     "output_type": "execute_result"
    }
   ],
   "source": [
    "df[['minutes', 'unit']] = df.duration.str.split(' ', expand = True)\n",
    "df['minutes']= df['minutes'].astype('int64')\n",
    "df.head()\n"
   ]
  },
  {
   "cell_type": "code",
   "execution_count": 25,
   "id": "bdc707d7",
   "metadata": {},
   "outputs": [],
   "source": [
    "df_Movies = df[df['type']=='Movie']\n",
    "df_TV_Show = df[df['type']=='TV Show']\n"
   ]
  },
  {
   "cell_type": "code",
   "execution_count": 26,
   "id": "7247ccdf",
   "metadata": {},
   "outputs": [
    {
     "data": {
      "image/png": "[encoded data removed]",
      "text/plain": [
       "<Figure size 864x432 with 1 Axes>"
      ]
     },
     "metadata": {
      "needs_background": "light"
     },
     "output_type": "display_data"
    },
    {
     "data": {
      "image/png": "[encoded data removed]",
      "text/plain": [
       "<Figure size 864x432 with 1 Axes>"
      ]
     },
     "metadata": {
      "needs_background": "light"
     },
     "output_type": "display_data"
    }
   ],
   "source": [
    "plt.figure(figsize = (12,6))\n",
    "sns.countplot(y='country', order = df['country'].value_counts().index[0:10], data = df_Movies)\n",
    "plt.title(\"Top 10 countries producing movies in netflix\")\n",
    "plt.show()\n",
    "\n",
    "plt.figure(figsize = (12,6))\n",
    "sns.countplot(y='country', order = df['country'].value_counts().index[0:10], data = df_TV_Show)\n",
    "plt.title(\"Top 10 countries producing TV Shows in netflix\")\n",
    "plt.show()"
   ]
  },
  {
   "cell_type": "markdown",
   "id": "8618bd76",
   "metadata": {},
   "source": [
    "#### United states is producing highest no. of movies in Netflix followed by India. But in TV shows, United Kingdom is ahead of India."
   ]
  },
  {
   "cell_type": "code",
   "execution_count": 27,
   "id": "6907ae51",
   "metadata": {
    "scrolled": false
   },
   "outputs": [
    {
     "data": {
      "text/plain": [
       "99.56"
      ]
     },
     "execution_count": 27,
     "metadata": {},
     "output_type": "execute_result"
    }
   ],
   "source": [
    "round(df_Movies.minutes.mean(),2)"
   ]
  },
  {
   "cell_type": "markdown",
   "id": "84842bb9",
   "metadata": {},
   "source": [
    "#### The Avg Runtime of movies on Netflix is 100 mins approx."
   ]
  },
  {
   "cell_type": "code",
   "execution_count": 28,
   "id": "4f2caa77",
   "metadata": {
    "scrolled": false
   },
   "outputs": [
    {
     "data": {
      "text/plain": [
       "year_added\n",
       "2008.0     81.000000\n",
       "2009.0     66.500000\n",
       "2010.0     84.000000\n",
       "2011.0     93.461538\n",
       "2012.0     62.000000\n",
       "2013.0     83.500000\n",
       "2014.0     77.000000\n",
       "2015.0     83.571429\n",
       "2016.0     83.545455\n",
       "2017.0     95.654350\n",
       "2018.0    101.739693\n",
       "2019.0     99.923455\n",
       "2020.0    101.585670\n",
       "2021.0    102.839879\n",
       "Name: minutes, dtype: float64"
      ]
     },
     "execution_count": 28,
     "metadata": {},
     "output_type": "execute_result"
    }
   ],
   "source": [
    "df_Movies.groupby(['year_added'])[\"minutes\"].mean()"
   ]
  },
  {
   "cell_type": "code",
   "execution_count": 29,
   "id": "fe259a09",
   "metadata": {
    "scrolled": true
   },
   "outputs": [
    {
     "data": {
      "image/png": "[encoded data removed]",
      "text/plain": [
       "<Figure size 432x288 with 1 Axes>"
      ]
     },
     "metadata": {
      "needs_background": "light"
     },
     "output_type": "display_data"
    }
   ],
   "source": [
    "df_Movies.groupby(['year_added'])[\"minutes\"].mean().plot(kind='bar')\n",
    "plt.title(\"Avg runtime of movies per year\")\n",
    "plt.ylabel(\"Avg Runtime(in mins)\")\n",
    "plt.show()"
   ]
  },
  {
   "cell_type": "markdown",
   "id": "8afc1071",
   "metadata": {},
   "source": [
    "#### We can see the avg run time increasing with years so we can say if it's working fine the avg run time should be maintained at 100 minutes"
   ]
  },
  {
   "cell_type": "code",
   "execution_count": 30,
   "id": "fa8a667f",
   "metadata": {
    "scrolled": true
   },
   "outputs": [
    {
     "data": {
      "text/plain": [
       "United States     2058\n",
       "India              893\n",
       "unavailable        440\n",
       "United Kingdom     206\n",
       "Canada             122\n",
       "Spain               97\n",
       "Egypt               92\n",
       "Nigeria             86\n",
       "Indonesia           77\n",
       "Turkey              76\n",
       "Name: country, dtype: int64"
      ]
     },
     "execution_count": 30,
     "metadata": {},
     "output_type": "execute_result"
    }
   ],
   "source": [
    "df_Movies.country.value_counts().head(10)"
   ]
  },
  {
   "cell_type": "markdown",
   "id": "7d0825ca",
   "metadata": {},
   "source": [
    "#### From the above we can see 893 movies has been released in india by netflix till 2021"
   ]
  },
  {
   "cell_type": "code",
   "execution_count": 31,
   "id": "8f3fa6d6",
   "metadata": {},
   "outputs": [],
   "source": [
    "df['year_added'] = df.date_added.dt.year"
   ]
  },
  {
   "cell_type": "code",
   "execution_count": 32,
   "id": "9de8fd2b",
   "metadata": {},
   "outputs": [
    {
     "data": {
      "text/html": [
       "<div>\n",
       "<style scoped>\n",
       "    .dataframe tbody tr th:only-of-type {\n",
       "        vertical-align: middle;\n",
       "    }\n",
       "\n",
       "    .dataframe tbody tr th {\n",
       "        vertical-align: top;\n",
       "    }\n",
       "\n",
       "    .dataframe thead th {\n",
       "        text-align: right;\n",
       "    }\n",
       "</style>\n",
       "<table border=\"1\" class=\"dataframe\">\n",
       "  <thead>\n",
       "    <tr style=\"text-align: right;\">\n",
       "      <th></th>\n",
       "      <th>show_id</th>\n",
       "      <th>type</th>\n",
       "      <th>title</th>\n",
       "      <th>director</th>\n",
       "      <th>cast</th>\n",
       "      <th>country</th>\n",
       "      <th>date_added</th>\n",
       "      <th>release_year</th>\n",
       "      <th>rating</th>\n",
       "      <th>duration</th>\n",
       "      <th>listed_in</th>\n",
       "      <th>description</th>\n",
       "      <th>day_added</th>\n",
       "      <th>year_added</th>\n",
       "      <th>minutes</th>\n",
       "      <th>unit</th>\n",
       "    </tr>\n",
       "  </thead>\n",
       "  <tbody>\n",
       "    <tr>\n",
       "      <th>0</th>\n",
       "      <td>s1</td>\n",
       "      <td>Movie</td>\n",
       "      <td>Dick Johnson Is Dead</td>\n",
       "      <td>Kirsten Johnson</td>\n",
       "      <td>unavailable</td>\n",
       "      <td>United States</td>\n",
       "      <td>2021-09-25</td>\n",
       "      <td>2020</td>\n",
       "      <td>PG-13</td>\n",
       "      <td>90 min</td>\n",
       "      <td>Documentaries</td>\n",
       "      <td>As her father nears the end of his life, filmm...</td>\n",
       "      <td>Saturday</td>\n",
       "      <td>2021.0</td>\n",
       "      <td>90</td>\n",
       "      <td>min</td>\n",
       "    </tr>\n",
       "    <tr>\n",
       "      <th>1</th>\n",
       "      <td>s2</td>\n",
       "      <td>TV Show</td>\n",
       "      <td>Blood &amp; Water</td>\n",
       "      <td>unavailable</td>\n",
       "      <td>Ama Qamata, Khosi Ngema, Gail Mabalane, Thaban...</td>\n",
       "      <td>South Africa</td>\n",
       "      <td>2021-09-24</td>\n",
       "      <td>2021</td>\n",
       "      <td>TV-MA</td>\n",
       "      <td>2 Seasons</td>\n",
       "      <td>International TV Shows, TV Dramas, TV Mysteries</td>\n",
       "      <td>After crossing paths at a party, a Cape Town t...</td>\n",
       "      <td>Friday</td>\n",
       "      <td>2021.0</td>\n",
       "      <td>2</td>\n",
       "      <td>Seasons</td>\n",
       "    </tr>\n",
       "    <tr>\n",
       "      <th>2</th>\n",
       "      <td>s3</td>\n",
       "      <td>TV Show</td>\n",
       "      <td>Ganglands</td>\n",
       "      <td>Julien Leclercq</td>\n",
       "      <td>Sami Bouajila, Tracy Gotoas, Samuel Jouy, Nabi...</td>\n",
       "      <td>unavailable</td>\n",
       "      <td>2021-09-24</td>\n",
       "      <td>2021</td>\n",
       "      <td>TV-MA</td>\n",
       "      <td>1 Season</td>\n",
       "      <td>Crime TV Shows, International TV Shows, TV Act...</td>\n",
       "      <td>To protect his family from a powerful drug lor...</td>\n",
       "      <td>Friday</td>\n",
       "      <td>2021.0</td>\n",
       "      <td>1</td>\n",
       "      <td>Season</td>\n",
       "    </tr>\n",
       "    <tr>\n",
       "      <th>3</th>\n",
       "      <td>s4</td>\n",
       "      <td>TV Show</td>\n",
       "      <td>Jailbirds New Orleans</td>\n",
       "      <td>unavailable</td>\n",
       "      <td>unavailable</td>\n",
       "      <td>unavailable</td>\n",
       "      <td>2021-09-24</td>\n",
       "      <td>2021</td>\n",
       "      <td>TV-MA</td>\n",
       "      <td>1 Season</td>\n",
       "      <td>Docuseries, Reality TV</td>\n",
       "      <td>Feuds, flirtations and toilet talk go down amo...</td>\n",
       "      <td>Friday</td>\n",
       "      <td>2021.0</td>\n",
       "      <td>1</td>\n",
       "      <td>Season</td>\n",
       "    </tr>\n",
       "    <tr>\n",
       "      <th>4</th>\n",
       "      <td>s5</td>\n",
       "      <td>TV Show</td>\n",
       "      <td>Kota Factory</td>\n",
       "      <td>unavailable</td>\n",
       "      <td>Mayur More, Jitendra Kumar, Ranjan Raj, Alam K...</td>\n",
       "      <td>India</td>\n",
       "      <td>2021-09-24</td>\n",
       "      <td>2021</td>\n",
       "      <td>TV-MA</td>\n",
       "      <td>2 Seasons</td>\n",
       "      <td>International TV Shows, Romantic TV Shows, TV ...</td>\n",
       "      <td>In a city of coaching centers known to train I...</td>\n",
       "      <td>Friday</td>\n",
       "      <td>2021.0</td>\n",
       "      <td>2</td>\n",
       "      <td>Seasons</td>\n",
       "    </tr>\n",
       "  </tbody>\n",
       "</table>\n",
       "</div>"
      ],
      "text/plain": [
       "  show_id     type                  title         director  \\\n",
       "0      s1    Movie   Dick Johnson Is Dead  Kirsten Johnson   \n",
       "1      s2  TV Show          Blood & Water      unavailable   \n",
       "2      s3  TV Show              Ganglands  Julien Leclercq   \n",
       "3      s4  TV Show  Jailbirds New Orleans      unavailable   \n",
       "4      s5  TV Show           Kota Factory      unavailable   \n",
       "\n",
       "                                                cast        country  \\\n",
       "0                                        unavailable  United States   \n",
       "1  Ama Qamata, Khosi Ngema, Gail Mabalane, Thaban...   South Africa   \n",
       "2  Sami Bouajila, Tracy Gotoas, Samuel Jouy, Nabi...    unavailable   \n",
       "3                                        unavailable    unavailable   \n",
       "4  Mayur More, Jitendra Kumar, Ranjan Raj, Alam K...          India   \n",
       "\n",
       "  date_added  release_year rating   duration  \\\n",
       "0 2021-09-25          2020  PG-13     90 min   \n",
       "1 2021-09-24          2021  TV-MA  2 Seasons   \n",
       "2 2021-09-24          2021  TV-MA   1 Season   \n",
       "3 2021-09-24          2021  TV-MA   1 Season   \n",
       "4 2021-09-24          2021  TV-MA  2 Seasons   \n",
       "\n",
       "                                           listed_in  \\\n",
       "0                                      Documentaries   \n",
       "1    International TV Shows, TV Dramas, TV Mysteries   \n",
       "2  Crime TV Shows, International TV Shows, TV Act...   \n",
       "3                             Docuseries, Reality TV   \n",
       "4  International TV Shows, Romantic TV Shows, TV ...   \n",
       "\n",
       "                                         description day_added  year_added  \\\n",
       "0  As her father nears the end of his life, filmm...  Saturday      2021.0   \n",
       "1  After crossing paths at a party, a Cape Town t...    Friday      2021.0   \n",
       "2  To protect his family from a powerful drug lor...    Friday      2021.0   \n",
       "3  Feuds, flirtations and toilet talk go down amo...    Friday      2021.0   \n",
       "4  In a city of coaching centers known to train I...    Friday      2021.0   \n",
       "\n",
       "   minutes     unit  \n",
       "0       90      min  \n",
       "1        2  Seasons  \n",
       "2        1   Season  \n",
       "3        1   Season  \n",
       "4        2  Seasons  "
      ]
     },
     "execution_count": 32,
     "metadata": {},
     "output_type": "execute_result"
    }
   ],
   "source": [
    "df.head()"
   ]
  },
  {
   "cell_type": "code",
   "execution_count": 33,
   "id": "a974a1d1",
   "metadata": {
    "scrolled": true
   },
   "outputs": [
    {
     "data": {
      "image/png": "[encoded data removed]",
      "text/plain": [
       "<Figure size 432x288 with 1 Axes>"
      ]
     },
     "metadata": {
      "needs_background": "light"
     },
     "output_type": "display_data"
    }
   ],
   "source": [
    "sns.countplot(data= df, x = 'year_added', hue = 'type')\n",
    "plt.xticks(rotation=90)\n",
    "plt.show()"
   ]
  },
  {
   "cell_type": "markdown",
   "id": "f2f94e4d",
   "metadata": {},
   "source": [
    "#### Netflix has balance approach on adding the tv shows and movies on the platform. But in the last 2-3 years the TV shows are gaining traction."
   ]
  },
  {
   "cell_type": "code",
   "execution_count": 34,
   "id": "18acd4b0",
   "metadata": {
    "scrolled": true
   },
   "outputs": [
    {
     "data": {
      "image/png": "[encoded data removed]",
      "text/plain": [
       "<Figure size 864x288 with 1 Axes>"
      ]
     },
     "metadata": {
      "needs_background": "light"
     },
     "output_type": "display_data"
    }
   ],
   "source": [
    "plt.figure(figsize=(12,4))\n",
    "sns.countplot(data= df, x = 'release_year', order = df['release_year'].value_counts().index[0:20], hue = 'type')\n",
    "plt.title(\"Content release in years on Netflix\")\n",
    "plt.xticks(rotation=90)\n",
    "plt.show()"
   ]
  },
  {
   "cell_type": "markdown",
   "id": "cc63bd65",
   "metadata": {},
   "source": [
    "#### Above analysis says that  more and more new movies and TV shows are getting released every year. And, all new content is getting added to Netflix"
   ]
  },
  {
   "cell_type": "code",
   "execution_count": 35,
   "id": "07a4cc06",
   "metadata": {
    "scrolled": true
   },
   "outputs": [
    {
     "data": {
      "text/plain": [
       "TV-MA    3207\n",
       "TV-14    2160\n",
       "TV-PG     863\n",
       "R         799\n",
       "PG-13     490\n",
       "TV-Y7     334\n",
       "TV-Y      307\n",
       "PG        287\n",
       "TV-G      220\n",
       "NR         80\n",
       "Name: rating, dtype: int64"
      ]
     },
     "execution_count": 35,
     "metadata": {},
     "output_type": "execute_result"
    }
   ],
   "source": [
    "df.rating.value_counts().head(10)"
   ]
  },
  {
   "cell_type": "code",
   "execution_count": 36,
   "id": "e2fb2047",
   "metadata": {
    "scrolled": true
   },
   "outputs": [
    {
     "data": {
      "image/png": "[encoded data removed]",
      "text/plain": [
       "<Figure size 864x360 with 1 Axes>"
      ]
     },
     "metadata": {
      "needs_background": "light"
     },
     "output_type": "display_data"
    }
   ],
   "source": [
    "plt.figure(figsize=(12,5))\n",
    "sns.countplot(x = 'rating', order = df.rating.value_counts().index[0:10], data = df)\n",
    "plt.title(\"Ratings of content on Netflix vs Count\")\n",
    "plt.show()"
   ]
  },
  {
   "cell_type": "markdown",
   "id": "145a22bf",
   "metadata": {},
   "source": [
    "#### Most of the shows has TV-MA and TV-14 ratings."
   ]
  },
  {
   "cell_type": "markdown",
   "id": "488804ff",
   "metadata": {},
   "source": [
    "## Unnesting of Data"
   ]
  },
  {
   "cell_type": "code",
   "execution_count": 37,
   "id": "8d34f037",
   "metadata": {},
   "outputs": [
    {
     "data": {
      "text/html": [
       "<div>\n",
       "<style scoped>\n",
       "    .dataframe tbody tr th:only-of-type {\n",
       "        vertical-align: middle;\n",
       "    }\n",
       "\n",
       "    .dataframe tbody tr th {\n",
       "        vertical-align: top;\n",
       "    }\n",
       "\n",
       "    .dataframe thead th {\n",
       "        text-align: right;\n",
       "    }\n",
       "</style>\n",
       "<table border=\"1\" class=\"dataframe\">\n",
       "  <thead>\n",
       "    <tr style=\"text-align: right;\">\n",
       "      <th></th>\n",
       "      <th>title</th>\n",
       "      <th>level_1</th>\n",
       "      <th>0</th>\n",
       "    </tr>\n",
       "  </thead>\n",
       "  <tbody>\n",
       "    <tr>\n",
       "      <th>0</th>\n",
       "      <td>Dick Johnson Is Dead</td>\n",
       "      <td>0</td>\n",
       "      <td>unavailable</td>\n",
       "    </tr>\n",
       "    <tr>\n",
       "      <th>1</th>\n",
       "      <td>Blood &amp; Water</td>\n",
       "      <td>0</td>\n",
       "      <td>Ama Qamata</td>\n",
       "    </tr>\n",
       "    <tr>\n",
       "      <th>2</th>\n",
       "      <td>Blood &amp; Water</td>\n",
       "      <td>1</td>\n",
       "      <td>Khosi Ngema</td>\n",
       "    </tr>\n",
       "    <tr>\n",
       "      <th>3</th>\n",
       "      <td>Blood &amp; Water</td>\n",
       "      <td>2</td>\n",
       "      <td>Gail Mabalane</td>\n",
       "    </tr>\n",
       "    <tr>\n",
       "      <th>4</th>\n",
       "      <td>Blood &amp; Water</td>\n",
       "      <td>3</td>\n",
       "      <td>Thabang Molaba</td>\n",
       "    </tr>\n",
       "    <tr>\n",
       "      <th>...</th>\n",
       "      <td>...</td>\n",
       "      <td>...</td>\n",
       "      <td>...</td>\n",
       "    </tr>\n",
       "    <tr>\n",
       "      <th>64946</th>\n",
       "      <td>Zubaan</td>\n",
       "      <td>3</td>\n",
       "      <td>Manish Chaudhary</td>\n",
       "    </tr>\n",
       "    <tr>\n",
       "      <th>64947</th>\n",
       "      <td>Zubaan</td>\n",
       "      <td>4</td>\n",
       "      <td>Meghna Malik</td>\n",
       "    </tr>\n",
       "    <tr>\n",
       "      <th>64948</th>\n",
       "      <td>Zubaan</td>\n",
       "      <td>5</td>\n",
       "      <td>Malkeet Rauni</td>\n",
       "    </tr>\n",
       "    <tr>\n",
       "      <th>64949</th>\n",
       "      <td>Zubaan</td>\n",
       "      <td>6</td>\n",
       "      <td>Anita Shabdish</td>\n",
       "    </tr>\n",
       "    <tr>\n",
       "      <th>64950</th>\n",
       "      <td>Zubaan</td>\n",
       "      <td>7</td>\n",
       "      <td>Chittaranjan Tripathy</td>\n",
       "    </tr>\n",
       "  </tbody>\n",
       "</table>\n",
       "<p>64951 rows × 3 columns</p>\n",
       "</div>"
      ],
      "text/plain": [
       "                      title  level_1                      0\n",
       "0      Dick Johnson Is Dead        0            unavailable\n",
       "1             Blood & Water        0             Ama Qamata\n",
       "2             Blood & Water        1            Khosi Ngema\n",
       "3             Blood & Water        2          Gail Mabalane\n",
       "4             Blood & Water        3         Thabang Molaba\n",
       "...                     ...      ...                    ...\n",
       "64946                Zubaan        3       Manish Chaudhary\n",
       "64947                Zubaan        4           Meghna Malik\n",
       "64948                Zubaan        5          Malkeet Rauni\n",
       "64949                Zubaan        6         Anita Shabdish\n",
       "64950                Zubaan        7  Chittaranjan Tripathy\n",
       "\n",
       "[64951 rows x 3 columns]"
      ]
     },
     "execution_count": 37,
     "metadata": {},
     "output_type": "execute_result"
    }
   ],
   "source": [
    "constraint = df['cast'].apply(lambda x: str(x).split(', ')).tolist()\n",
    "df_new=pd.DataFrame(constraint,index=df['title'])\n",
    "df_new=df_new.stack()\n",
    "df_new=pd.DataFrame(df_new)\n",
    "df_new.reset_index(inplace=True)\n",
    "df_new"
   ]
  },
  {
   "cell_type": "code",
   "execution_count": 38,
   "id": "7824cc20",
   "metadata": {},
   "outputs": [
    {
     "data": {
      "text/html": [
       "<div>\n",
       "<style scoped>\n",
       "    .dataframe tbody tr th:only-of-type {\n",
       "        vertical-align: middle;\n",
       "    }\n",
       "\n",
       "    .dataframe tbody tr th {\n",
       "        vertical-align: top;\n",
       "    }\n",
       "\n",
       "    .dataframe thead th {\n",
       "        text-align: right;\n",
       "    }\n",
       "</style>\n",
       "<table border=\"1\" class=\"dataframe\">\n",
       "  <thead>\n",
       "    <tr style=\"text-align: right;\">\n",
       "      <th></th>\n",
       "      <th>title</th>\n",
       "      <th>cast</th>\n",
       "    </tr>\n",
       "  </thead>\n",
       "  <tbody>\n",
       "    <tr>\n",
       "      <th>0</th>\n",
       "      <td>Dick Johnson Is Dead</td>\n",
       "      <td>unavailable</td>\n",
       "    </tr>\n",
       "    <tr>\n",
       "      <th>1</th>\n",
       "      <td>Blood &amp; Water</td>\n",
       "      <td>Ama Qamata</td>\n",
       "    </tr>\n",
       "    <tr>\n",
       "      <th>2</th>\n",
       "      <td>Blood &amp; Water</td>\n",
       "      <td>Khosi Ngema</td>\n",
       "    </tr>\n",
       "    <tr>\n",
       "      <th>3</th>\n",
       "      <td>Blood &amp; Water</td>\n",
       "      <td>Gail Mabalane</td>\n",
       "    </tr>\n",
       "    <tr>\n",
       "      <th>4</th>\n",
       "      <td>Blood &amp; Water</td>\n",
       "      <td>Thabang Molaba</td>\n",
       "    </tr>\n",
       "    <tr>\n",
       "      <th>...</th>\n",
       "      <td>...</td>\n",
       "      <td>...</td>\n",
       "    </tr>\n",
       "    <tr>\n",
       "      <th>64946</th>\n",
       "      <td>Zubaan</td>\n",
       "      <td>Manish Chaudhary</td>\n",
       "    </tr>\n",
       "    <tr>\n",
       "      <th>64947</th>\n",
       "      <td>Zubaan</td>\n",
       "      <td>Meghna Malik</td>\n",
       "    </tr>\n",
       "    <tr>\n",
       "      <th>64948</th>\n",
       "      <td>Zubaan</td>\n",
       "      <td>Malkeet Rauni</td>\n",
       "    </tr>\n",
       "    <tr>\n",
       "      <th>64949</th>\n",
       "      <td>Zubaan</td>\n",
       "      <td>Anita Shabdish</td>\n",
       "    </tr>\n",
       "    <tr>\n",
       "      <th>64950</th>\n",
       "      <td>Zubaan</td>\n",
       "      <td>Chittaranjan Tripathy</td>\n",
       "    </tr>\n",
       "  </tbody>\n",
       "</table>\n",
       "<p>64951 rows × 2 columns</p>\n",
       "</div>"
      ],
      "text/plain": [
       "                      title                   cast\n",
       "0      Dick Johnson Is Dead            unavailable\n",
       "1             Blood & Water             Ama Qamata\n",
       "2             Blood & Water            Khosi Ngema\n",
       "3             Blood & Water          Gail Mabalane\n",
       "4             Blood & Water         Thabang Molaba\n",
       "...                     ...                    ...\n",
       "64946                Zubaan       Manish Chaudhary\n",
       "64947                Zubaan           Meghna Malik\n",
       "64948                Zubaan          Malkeet Rauni\n",
       "64949                Zubaan         Anita Shabdish\n",
       "64950                Zubaan  Chittaranjan Tripathy\n",
       "\n",
       "[64951 rows x 2 columns]"
      ]
     },
     "execution_count": 38,
     "metadata": {},
     "output_type": "execute_result"
    }
   ],
   "source": [
    "df_new = df_new[['title', 0]]\n",
    "df_new.columns= ['title', 'cast']\n",
    "df_new"
   ]
  },
  {
   "cell_type": "code",
   "execution_count": 39,
   "id": "f8a5ce66",
   "metadata": {},
   "outputs": [
    {
     "data": {
      "text/html": [
       "<div>\n",
       "<style scoped>\n",
       "    .dataframe tbody tr th:only-of-type {\n",
       "        vertical-align: middle;\n",
       "    }\n",
       "\n",
       "    .dataframe tbody tr th {\n",
       "        vertical-align: top;\n",
       "    }\n",
       "\n",
       "    .dataframe thead th {\n",
       "        text-align: right;\n",
       "    }\n",
       "</style>\n",
       "<table border=\"1\" class=\"dataframe\">\n",
       "  <thead>\n",
       "    <tr style=\"text-align: right;\">\n",
       "      <th></th>\n",
       "      <th>title</th>\n",
       "      <th>cast</th>\n",
       "    </tr>\n",
       "  </thead>\n",
       "  <tbody>\n",
       "    <tr>\n",
       "      <th>313</th>\n",
       "      <td>Chhota Bheem</td>\n",
       "      <td>Rupa Bhimani</td>\n",
       "    </tr>\n",
       "    <tr>\n",
       "      <th>708</th>\n",
       "      <td>Mighty Raju</td>\n",
       "      <td>Rupa Bhimani</td>\n",
       "    </tr>\n",
       "    <tr>\n",
       "      <th>3373</th>\n",
       "      <td>Chhota Bheem - Dinosaur World</td>\n",
       "      <td>Rupa Bhimani</td>\n",
       "    </tr>\n",
       "    <tr>\n",
       "      <th>3379</th>\n",
       "      <td>Chhota Bheem - Neeli Pahaadi</td>\n",
       "      <td>Rupa Bhimani</td>\n",
       "    </tr>\n",
       "    <tr>\n",
       "      <th>3386</th>\n",
       "      <td>Chhota Bheem &amp; Ganesh</td>\n",
       "      <td>Rupa Bhimani</td>\n",
       "    </tr>\n",
       "    <tr>\n",
       "      <th>3393</th>\n",
       "      <td>Chhota Bheem &amp; Krishna: Mayanagari</td>\n",
       "      <td>Rupa Bhimani</td>\n",
       "    </tr>\n",
       "    <tr>\n",
       "      <th>3400</th>\n",
       "      <td>Chhota Bheem &amp; Krishna: Pataliputra- City of t...</td>\n",
       "      <td>Rupa Bhimani</td>\n",
       "    </tr>\n",
       "    <tr>\n",
       "      <th>3407</th>\n",
       "      <td>Chhota Bheem And The Broken Amulet</td>\n",
       "      <td>Rupa Bhimani</td>\n",
       "    </tr>\n",
       "    <tr>\n",
       "      <th>3414</th>\n",
       "      <td>Chhota Bheem And The Crown of Valhalla</td>\n",
       "      <td>Rupa Bhimani</td>\n",
       "    </tr>\n",
       "    <tr>\n",
       "      <th>3421</th>\n",
       "      <td>Chhota Bheem and the Incan Adventure</td>\n",
       "      <td>Rupa Bhimani</td>\n",
       "    </tr>\n",
       "    <tr>\n",
       "      <th>3428</th>\n",
       "      <td>Chhota Bheem and The ShiNobi Secret</td>\n",
       "      <td>Rupa Bhimani</td>\n",
       "    </tr>\n",
       "    <tr>\n",
       "      <th>3435</th>\n",
       "      <td>Chhota Bheem Aur Hanuman</td>\n",
       "      <td>Rupa Bhimani</td>\n",
       "    </tr>\n",
       "    <tr>\n",
       "      <th>3442</th>\n",
       "      <td>Chhota Bheem aur Krishna</td>\n",
       "      <td>Rupa Bhimani</td>\n",
       "    </tr>\n",
       "    <tr>\n",
       "      <th>3449</th>\n",
       "      <td>Chhota Bheem aur Krishna vs Zimbara</td>\n",
       "      <td>Rupa Bhimani</td>\n",
       "    </tr>\n",
       "    <tr>\n",
       "      <th>3455</th>\n",
       "      <td>Chhota Bheem in African Safari</td>\n",
       "      <td>Rupa Bhimani</td>\n",
       "    </tr>\n",
       "    <tr>\n",
       "      <th>3463</th>\n",
       "      <td>Chhota Bheem Ka Roosi Romanch</td>\n",
       "      <td>Rupa Bhimani</td>\n",
       "    </tr>\n",
       "    <tr>\n",
       "      <th>3471</th>\n",
       "      <td>Chhota Bheem: Bheem vs Aliens</td>\n",
       "      <td>Rupa Bhimani</td>\n",
       "    </tr>\n",
       "    <tr>\n",
       "      <th>3478</th>\n",
       "      <td>Chhota Bheem: Dholakpur to Kathmandu</td>\n",
       "      <td>Rupa Bhimani</td>\n",
       "    </tr>\n",
       "    <tr>\n",
       "      <th>3485</th>\n",
       "      <td>Chhota Bheem: Dus Pe Dus</td>\n",
       "      <td>Rupa Bhimani</td>\n",
       "    </tr>\n",
       "    <tr>\n",
       "      <th>3492</th>\n",
       "      <td>Chhota Bheem: Journey to Petra</td>\n",
       "      <td>Rupa Bhimani</td>\n",
       "    </tr>\n",
       "    <tr>\n",
       "      <th>3498</th>\n",
       "      <td>Chhota Bheem: Master of Shaolin</td>\n",
       "      <td>Rupa Bhimani</td>\n",
       "    </tr>\n",
       "    <tr>\n",
       "      <th>3504</th>\n",
       "      <td>Chhota Bheem: The Rise of Kirmada</td>\n",
       "      <td>Rupa Bhimani</td>\n",
       "    </tr>\n",
       "    <tr>\n",
       "      <th>45767</th>\n",
       "      <td>Antariksha Ke Rakhwale</td>\n",
       "      <td>Rupa Bhimani</td>\n",
       "    </tr>\n",
       "    <tr>\n",
       "      <th>47895</th>\n",
       "      <td>Chhota Bheem Aur Kaala Yodha</td>\n",
       "      <td>Rupa Bhimani</td>\n",
       "    </tr>\n",
       "    <tr>\n",
       "      <th>47904</th>\n",
       "      <td>Chhota Bheem Ka Romani Adventure</td>\n",
       "      <td>Rupa Bhimani</td>\n",
       "    </tr>\n",
       "    <tr>\n",
       "      <th>47913</th>\n",
       "      <td>Chhota Bheem Ka Troll Se Takkar</td>\n",
       "      <td>Rupa Bhimani</td>\n",
       "    </tr>\n",
       "    <tr>\n",
       "      <th>47920</th>\n",
       "      <td>Chhota Bheem Kungfu Dhamaka</td>\n",
       "      <td>Rupa Bhimani</td>\n",
       "    </tr>\n",
       "    <tr>\n",
       "      <th>53418</th>\n",
       "      <td>Krishna Balram</td>\n",
       "      <td>Rupa Bhimani</td>\n",
       "    </tr>\n",
       "    <tr>\n",
       "      <th>58346</th>\n",
       "      <td>Samudri Lootere</td>\n",
       "      <td>Rupa Bhimani</td>\n",
       "    </tr>\n",
       "    <tr>\n",
       "      <th>59835</th>\n",
       "      <td>Super Bheem</td>\n",
       "      <td>Rupa Bhimani</td>\n",
       "    </tr>\n",
       "    <tr>\n",
       "      <th>59841</th>\n",
       "      <td>Super Bheem Bana Vajraveer</td>\n",
       "      <td>Rupa Bhimani</td>\n",
       "    </tr>\n",
       "  </tbody>\n",
       "</table>\n",
       "</div>"
      ],
      "text/plain": [
       "                                                   title          cast\n",
       "313                                         Chhota Bheem  Rupa Bhimani\n",
       "708                                          Mighty Raju  Rupa Bhimani\n",
       "3373                       Chhota Bheem - Dinosaur World  Rupa Bhimani\n",
       "3379                        Chhota Bheem - Neeli Pahaadi  Rupa Bhimani\n",
       "3386                               Chhota Bheem & Ganesh  Rupa Bhimani\n",
       "3393                  Chhota Bheem & Krishna: Mayanagari  Rupa Bhimani\n",
       "3400   Chhota Bheem & Krishna: Pataliputra- City of t...  Rupa Bhimani\n",
       "3407                  Chhota Bheem And The Broken Amulet  Rupa Bhimani\n",
       "3414              Chhota Bheem And The Crown of Valhalla  Rupa Bhimani\n",
       "3421                Chhota Bheem and the Incan Adventure  Rupa Bhimani\n",
       "3428                 Chhota Bheem and The ShiNobi Secret  Rupa Bhimani\n",
       "3435                            Chhota Bheem Aur Hanuman  Rupa Bhimani\n",
       "3442                            Chhota Bheem aur Krishna  Rupa Bhimani\n",
       "3449                 Chhota Bheem aur Krishna vs Zimbara  Rupa Bhimani\n",
       "3455                      Chhota Bheem in African Safari  Rupa Bhimani\n",
       "3463                       Chhota Bheem Ka Roosi Romanch  Rupa Bhimani\n",
       "3471                       Chhota Bheem: Bheem vs Aliens  Rupa Bhimani\n",
       "3478                Chhota Bheem: Dholakpur to Kathmandu  Rupa Bhimani\n",
       "3485                            Chhota Bheem: Dus Pe Dus  Rupa Bhimani\n",
       "3492                      Chhota Bheem: Journey to Petra  Rupa Bhimani\n",
       "3498                     Chhota Bheem: Master of Shaolin  Rupa Bhimani\n",
       "3504                   Chhota Bheem: The Rise of Kirmada  Rupa Bhimani\n",
       "45767                             Antariksha Ke Rakhwale  Rupa Bhimani\n",
       "47895                       Chhota Bheem Aur Kaala Yodha  Rupa Bhimani\n",
       "47904                   Chhota Bheem Ka Romani Adventure  Rupa Bhimani\n",
       "47913                    Chhota Bheem Ka Troll Se Takkar  Rupa Bhimani\n",
       "47920                        Chhota Bheem Kungfu Dhamaka  Rupa Bhimani\n",
       "53418                                     Krishna Balram  Rupa Bhimani\n",
       "58346                                    Samudri Lootere  Rupa Bhimani\n",
       "59835                                        Super Bheem  Rupa Bhimani\n",
       "59841                         Super Bheem Bana Vajraveer  Rupa Bhimani"
      ]
     },
     "execution_count": 39,
     "metadata": {},
     "output_type": "execute_result"
    }
   ],
   "source": [
    "df_new[df_new['cast']=='Rupa Bhimani']  #Movies having Rupa Bhimani in cast"
   ]
  },
  {
   "cell_type": "code",
   "execution_count": 40,
   "id": "52625561",
   "metadata": {},
   "outputs": [
    {
     "data": {
      "text/html": [
       "<div>\n",
       "<style scoped>\n",
       "    .dataframe tbody tr th:only-of-type {\n",
       "        vertical-align: middle;\n",
       "    }\n",
       "\n",
       "    .dataframe tbody tr th {\n",
       "        vertical-align: top;\n",
       "    }\n",
       "\n",
       "    .dataframe thead th {\n",
       "        text-align: right;\n",
       "    }\n",
       "</style>\n",
       "<table border=\"1\" class=\"dataframe\">\n",
       "  <thead>\n",
       "    <tr style=\"text-align: right;\">\n",
       "      <th></th>\n",
       "      <th>title</th>\n",
       "      <th>director</th>\n",
       "    </tr>\n",
       "  </thead>\n",
       "  <tbody>\n",
       "    <tr>\n",
       "      <th>0</th>\n",
       "      <td>Dick Johnson Is Dead</td>\n",
       "      <td>Kirsten Johnson</td>\n",
       "    </tr>\n",
       "    <tr>\n",
       "      <th>1</th>\n",
       "      <td>Blood &amp; Water</td>\n",
       "      <td>unavailable</td>\n",
       "    </tr>\n",
       "    <tr>\n",
       "      <th>2</th>\n",
       "      <td>Ganglands</td>\n",
       "      <td>Julien Leclercq</td>\n",
       "    </tr>\n",
       "    <tr>\n",
       "      <th>3</th>\n",
       "      <td>Jailbirds New Orleans</td>\n",
       "      <td>unavailable</td>\n",
       "    </tr>\n",
       "    <tr>\n",
       "      <th>4</th>\n",
       "      <td>Kota Factory</td>\n",
       "      <td>unavailable</td>\n",
       "    </tr>\n",
       "    <tr>\n",
       "      <th>...</th>\n",
       "      <td>...</td>\n",
       "      <td>...</td>\n",
       "    </tr>\n",
       "    <tr>\n",
       "      <th>9607</th>\n",
       "      <td>Zodiac</td>\n",
       "      <td>David Fincher</td>\n",
       "    </tr>\n",
       "    <tr>\n",
       "      <th>9608</th>\n",
       "      <td>Zombie Dumb</td>\n",
       "      <td>unavailable</td>\n",
       "    </tr>\n",
       "    <tr>\n",
       "      <th>9609</th>\n",
       "      <td>Zombieland</td>\n",
       "      <td>Ruben Fleischer</td>\n",
       "    </tr>\n",
       "    <tr>\n",
       "      <th>9610</th>\n",
       "      <td>Zoom</td>\n",
       "      <td>Peter Hewitt</td>\n",
       "    </tr>\n",
       "    <tr>\n",
       "      <th>9611</th>\n",
       "      <td>Zubaan</td>\n",
       "      <td>Mozez Singh</td>\n",
       "    </tr>\n",
       "  </tbody>\n",
       "</table>\n",
       "<p>9612 rows × 2 columns</p>\n",
       "</div>"
      ],
      "text/plain": [
       "                      title         director\n",
       "0      Dick Johnson Is Dead  Kirsten Johnson\n",
       "1             Blood & Water      unavailable\n",
       "2                 Ganglands  Julien Leclercq\n",
       "3     Jailbirds New Orleans      unavailable\n",
       "4              Kota Factory      unavailable\n",
       "...                     ...              ...\n",
       "9607                 Zodiac    David Fincher\n",
       "9608            Zombie Dumb      unavailable\n",
       "9609             Zombieland  Ruben Fleischer\n",
       "9610                   Zoom     Peter Hewitt\n",
       "9611                 Zubaan      Mozez Singh\n",
       "\n",
       "[9612 rows x 2 columns]"
      ]
     },
     "execution_count": 40,
     "metadata": {},
     "output_type": "execute_result"
    }
   ],
   "source": [
    "df['director'].apply(lambda x: str(x).split(', ')).tolist()\n",
    "constraint2=df['director'].apply(lambda x: str(x).split(', ')).tolist()\n",
    "df_new2=pd.DataFrame(constraint2,index=df['title'])\n",
    "df_new2=df_new2.stack()\n",
    "df_new2=pd.DataFrame(df_new2)\n",
    "df_new2.reset_index(inplace=True)\n",
    "df_new2=df_new2[['title',0]]\n",
    "df_new2.columns=['title','director']\n",
    "df_new2"
   ]
  },
  {
   "cell_type": "code",
   "execution_count": 41,
   "id": "677d6bcc",
   "metadata": {},
   "outputs": [
    {
     "data": {
      "text/html": [
       "<div>\n",
       "<style scoped>\n",
       "    .dataframe tbody tr th:only-of-type {\n",
       "        vertical-align: middle;\n",
       "    }\n",
       "\n",
       "    .dataframe tbody tr th {\n",
       "        vertical-align: top;\n",
       "    }\n",
       "\n",
       "    .dataframe thead th {\n",
       "        text-align: right;\n",
       "    }\n",
       "</style>\n",
       "<table border=\"1\" class=\"dataframe\">\n",
       "  <thead>\n",
       "    <tr style=\"text-align: right;\">\n",
       "      <th></th>\n",
       "      <th>title</th>\n",
       "      <th>listed_in</th>\n",
       "    </tr>\n",
       "  </thead>\n",
       "  <tbody>\n",
       "    <tr>\n",
       "      <th>0</th>\n",
       "      <td>Dick Johnson Is Dead</td>\n",
       "      <td>Documentaries</td>\n",
       "    </tr>\n",
       "    <tr>\n",
       "      <th>1</th>\n",
       "      <td>Blood &amp; Water</td>\n",
       "      <td>International TV Shows</td>\n",
       "    </tr>\n",
       "    <tr>\n",
       "      <th>2</th>\n",
       "      <td>Blood &amp; Water</td>\n",
       "      <td>TV Dramas</td>\n",
       "    </tr>\n",
       "    <tr>\n",
       "      <th>3</th>\n",
       "      <td>Blood &amp; Water</td>\n",
       "      <td>TV Mysteries</td>\n",
       "    </tr>\n",
       "    <tr>\n",
       "      <th>4</th>\n",
       "      <td>Ganglands</td>\n",
       "      <td>Crime TV Shows</td>\n",
       "    </tr>\n",
       "    <tr>\n",
       "      <th>...</th>\n",
       "      <td>...</td>\n",
       "      <td>...</td>\n",
       "    </tr>\n",
       "    <tr>\n",
       "      <th>19318</th>\n",
       "      <td>Zoom</td>\n",
       "      <td>Children &amp; Family Movies</td>\n",
       "    </tr>\n",
       "    <tr>\n",
       "      <th>19319</th>\n",
       "      <td>Zoom</td>\n",
       "      <td>Comedies</td>\n",
       "    </tr>\n",
       "    <tr>\n",
       "      <th>19320</th>\n",
       "      <td>Zubaan</td>\n",
       "      <td>Dramas</td>\n",
       "    </tr>\n",
       "    <tr>\n",
       "      <th>19321</th>\n",
       "      <td>Zubaan</td>\n",
       "      <td>International Movies</td>\n",
       "    </tr>\n",
       "    <tr>\n",
       "      <th>19322</th>\n",
       "      <td>Zubaan</td>\n",
       "      <td>Music &amp; Musicals</td>\n",
       "    </tr>\n",
       "  </tbody>\n",
       "</table>\n",
       "<p>19323 rows × 2 columns</p>\n",
       "</div>"
      ],
      "text/plain": [
       "                      title                 listed_in\n",
       "0      Dick Johnson Is Dead             Documentaries\n",
       "1             Blood & Water    International TV Shows\n",
       "2             Blood & Water                 TV Dramas\n",
       "3             Blood & Water              TV Mysteries\n",
       "4                 Ganglands            Crime TV Shows\n",
       "...                     ...                       ...\n",
       "19318                  Zoom  Children & Family Movies\n",
       "19319                  Zoom                  Comedies\n",
       "19320                Zubaan                    Dramas\n",
       "19321                Zubaan      International Movies\n",
       "19322                Zubaan          Music & Musicals\n",
       "\n",
       "[19323 rows x 2 columns]"
      ]
     },
     "execution_count": 41,
     "metadata": {},
     "output_type": "execute_result"
    }
   ],
   "source": [
    "constraint=df['listed_in'].apply(lambda x: str(x).split(', ')).tolist()\n",
    "df_new3=pd.DataFrame(constraint,index=df['title'])\n",
    "df_new3=df_new3.stack()\n",
    "df_new3=pd.DataFrame(df_new3)\n",
    "df_new3.reset_index(inplace=True)\n",
    "df_new3=df_new3[['title',0]]\n",
    "df_new3.columns=['title','listed_in']\n",
    "df_new3"
   ]
  },
  {
   "cell_type": "code",
   "execution_count": 42,
   "id": "f11ad03c",
   "metadata": {},
   "outputs": [
    {
     "name": "stdout",
     "output_type": "stream",
     "text": [
      "<class 'pandas.core.frame.DataFrame'>\n",
      "Int64Index: 161216 entries, 0 to 161215\n",
      "Data columns (total 16 columns):\n",
      " #   Column        Non-Null Count   Dtype         \n",
      "---  ------        --------------   -----         \n",
      " 0   show_id       161216 non-null  object        \n",
      " 1   type          161216 non-null  object        \n",
      " 2   title         161216 non-null  object        \n",
      " 3   country       161216 non-null  object        \n",
      " 4   date_added    161058 non-null  datetime64[ns]\n",
      " 5   release_year  161216 non-null  int64         \n",
      " 6   rating        161216 non-null  object        \n",
      " 7   duration      161216 non-null  object        \n",
      " 8   description   161216 non-null  object        \n",
      " 9   day_added     161058 non-null  object        \n",
      " 10  year_added    161058 non-null  float64       \n",
      " 11  minutes       161216 non-null  int64         \n",
      " 12  unit          161216 non-null  object        \n",
      " 13  cast_y        161216 non-null  object        \n",
      " 14  director_y    161216 non-null  object        \n",
      " 15  listed_in_y   161216 non-null  object        \n",
      "dtypes: datetime64[ns](1), float64(1), int64(2), object(12)\n",
      "memory usage: 20.9+ MB\n"
     ]
    }
   ],
   "source": [
    "df2 = df_new.merge(df_new2, how='left', on='title')\n",
    "df3 = df2.merge(df_new3, how=\"left\", on='title')\n",
    "df = df.merge(df3,how='left', on='title')\n",
    "df.drop(['cast_x', 'director_x','listed_in_x'], axis=1, inplace = True)\n",
    "df.info()"
   ]
  },
  {
   "cell_type": "code",
   "execution_count": 43,
   "id": "94561e2d",
   "metadata": {},
   "outputs": [
    {
     "name": "stdout",
     "output_type": "stream",
     "text": [
      "<class 'pandas.core.frame.DataFrame'>\n",
      "Int64Index: 161216 entries, 0 to 161215\n",
      "Data columns (total 16 columns):\n",
      " #   Column        Non-Null Count   Dtype         \n",
      "---  ------        --------------   -----         \n",
      " 0   show_id       161216 non-null  object        \n",
      " 1   type          161216 non-null  object        \n",
      " 2   title         161216 non-null  object        \n",
      " 3   country       161216 non-null  object        \n",
      " 4   date_added    161058 non-null  datetime64[ns]\n",
      " 5   release_year  161216 non-null  int64         \n",
      " 6   rating        161216 non-null  object        \n",
      " 7   duration      161216 non-null  object        \n",
      " 8   description   161216 non-null  object        \n",
      " 9   day_added     161058 non-null  object        \n",
      " 10  year_added    161058 non-null  float64       \n",
      " 11  minutes       161216 non-null  int64         \n",
      " 12  unit          161216 non-null  object        \n",
      " 13  cast          161216 non-null  object        \n",
      " 14  director      161216 non-null  object        \n",
      " 15  listed_in     161216 non-null  object        \n",
      "dtypes: datetime64[ns](1), float64(1), int64(2), object(12)\n",
      "memory usage: 20.9+ MB\n"
     ]
    }
   ],
   "source": [
    "df.rename(columns= {'cast_y':'cast', 'director_y':'director', 'listed_in_y':'listed_in'}, inplace= True)\n",
    "df.info()"
   ]
  },
  {
   "cell_type": "markdown",
   "id": "913369db",
   "metadata": {},
   "source": [
    "## Numerical and Visual Analysis"
   ]
  },
  {
   "cell_type": "code",
   "execution_count": 44,
   "id": "f043b1da",
   "metadata": {},
   "outputs": [
    {
     "data": {
      "text/plain": [
       "show_id          8807\n",
       "type                2\n",
       "title            8807\n",
       "country           749\n",
       "date_added       1714\n",
       "release_year       74\n",
       "rating             15\n",
       "duration          220\n",
       "description      8775\n",
       "day_added           7\n",
       "year_added         14\n",
       "minutes           210\n",
       "unit                3\n",
       "cast            36440\n",
       "director         4994\n",
       "listed_in          42\n",
       "dtype: int64"
      ]
     },
     "execution_count": 44,
     "metadata": {},
     "output_type": "execute_result"
    }
   ],
   "source": [
    "df.nunique()"
   ]
  },
  {
   "cell_type": "code",
   "execution_count": 45,
   "id": "b225616f",
   "metadata": {
    "scrolled": false
   },
   "outputs": [
    {
     "data": {
      "text/html": [
       "<div>\n",
       "<style scoped>\n",
       "    .dataframe tbody tr th:only-of-type {\n",
       "        vertical-align: middle;\n",
       "    }\n",
       "\n",
       "    .dataframe tbody tr th {\n",
       "        vertical-align: top;\n",
       "    }\n",
       "\n",
       "    .dataframe thead th {\n",
       "        text-align: right;\n",
       "    }\n",
       "</style>\n",
       "<table border=\"1\" class=\"dataframe\">\n",
       "  <thead>\n",
       "    <tr style=\"text-align: right;\">\n",
       "      <th></th>\n",
       "      <th>index</th>\n",
       "      <th>cast</th>\n",
       "      <th>director</th>\n",
       "      <th>title</th>\n",
       "    </tr>\n",
       "  </thead>\n",
       "  <tbody>\n",
       "    <tr>\n",
       "      <th>0</th>\n",
       "      <td>62550</td>\n",
       "      <td>unavailable</td>\n",
       "      <td>unavailable</td>\n",
       "      <td>352</td>\n",
       "    </tr>\n",
       "    <tr>\n",
       "      <th>1</th>\n",
       "      <td>55848</td>\n",
       "      <td>Takahiro Sakurai</td>\n",
       "      <td>unavailable</td>\n",
       "      <td>24</td>\n",
       "    </tr>\n",
       "    <tr>\n",
       "      <th>2</th>\n",
       "      <td>28814</td>\n",
       "      <td>Julie Tejwani</td>\n",
       "      <td>Rajiv Chilaka</td>\n",
       "      <td>19</td>\n",
       "    </tr>\n",
       "    <tr>\n",
       "      <th>3</th>\n",
       "      <td>46753</td>\n",
       "      <td>Rajesh Kava</td>\n",
       "      <td>Rajiv Chilaka</td>\n",
       "      <td>19</td>\n",
       "    </tr>\n",
       "    <tr>\n",
       "      <th>4</th>\n",
       "      <td>49634</td>\n",
       "      <td>Rupa Bhimani</td>\n",
       "      <td>Rajiv Chilaka</td>\n",
       "      <td>18</td>\n",
       "    </tr>\n",
       "    <tr>\n",
       "      <th>5</th>\n",
       "      <td>26043</td>\n",
       "      <td>Jigna Bhardwaj</td>\n",
       "      <td>Rajiv Chilaka</td>\n",
       "      <td>18</td>\n",
       "    </tr>\n",
       "    <tr>\n",
       "      <th>6</th>\n",
       "      <td>61318</td>\n",
       "      <td>Yuki Kaji</td>\n",
       "      <td>unavailable</td>\n",
       "      <td>18</td>\n",
       "    </tr>\n",
       "    <tr>\n",
       "      <th>7</th>\n",
       "      <td>12530</td>\n",
       "      <td>Daisuke Ono</td>\n",
       "      <td>unavailable</td>\n",
       "      <td>16</td>\n",
       "    </tr>\n",
       "    <tr>\n",
       "      <th>8</th>\n",
       "      <td>58954</td>\n",
       "      <td>Vatsal Dubey</td>\n",
       "      <td>Rajiv Chilaka</td>\n",
       "      <td>16</td>\n",
       "    </tr>\n",
       "    <tr>\n",
       "      <th>9</th>\n",
       "      <td>59502</td>\n",
       "      <td>Vincent Tong</td>\n",
       "      <td>unavailable</td>\n",
       "      <td>16</td>\n",
       "    </tr>\n",
       "    <tr>\n",
       "      <th>10</th>\n",
       "      <td>61283</td>\n",
       "      <td>Yuichi Nakamura</td>\n",
       "      <td>unavailable</td>\n",
       "      <td>16</td>\n",
       "    </tr>\n",
       "    <tr>\n",
       "      <th>11</th>\n",
       "      <td>18380</td>\n",
       "      <td>Fortune Feimster</td>\n",
       "      <td>unavailable</td>\n",
       "      <td>16</td>\n",
       "    </tr>\n",
       "    <tr>\n",
       "      <th>12</th>\n",
       "      <td>28993</td>\n",
       "      <td>Junichi Suwabe</td>\n",
       "      <td>unavailable</td>\n",
       "      <td>16</td>\n",
       "    </tr>\n",
       "    <tr>\n",
       "      <th>13</th>\n",
       "      <td>1186</td>\n",
       "      <td>Ai Kayano</td>\n",
       "      <td>unavailable</td>\n",
       "      <td>15</td>\n",
       "    </tr>\n",
       "    <tr>\n",
       "      <th>14</th>\n",
       "      <td>13508</td>\n",
       "      <td>David Attenborough</td>\n",
       "      <td>unavailable</td>\n",
       "      <td>15</td>\n",
       "    </tr>\n",
       "    <tr>\n",
       "      <th>15</th>\n",
       "      <td>28907</td>\n",
       "      <td>Jun Fukuyama</td>\n",
       "      <td>unavailable</td>\n",
       "      <td>15</td>\n",
       "    </tr>\n",
       "    <tr>\n",
       "      <th>16</th>\n",
       "      <td>61126</td>\n",
       "      <td>Yoshimasa Hosoya</td>\n",
       "      <td>unavailable</td>\n",
       "      <td>15</td>\n",
       "    </tr>\n",
       "    <tr>\n",
       "      <th>17</th>\n",
       "      <td>39422</td>\n",
       "      <td>Michela Luci</td>\n",
       "      <td>unavailable</td>\n",
       "      <td>13</td>\n",
       "    </tr>\n",
       "    <tr>\n",
       "      <th>18</th>\n",
       "      <td>13856</td>\n",
       "      <td>David Spade</td>\n",
       "      <td>unavailable</td>\n",
       "      <td>13</td>\n",
       "    </tr>\n",
       "    <tr>\n",
       "      <th>19</th>\n",
       "      <td>55549</td>\n",
       "      <td>Swapnil</td>\n",
       "      <td>Rajiv Chilaka</td>\n",
       "      <td>13</td>\n",
       "    </tr>\n",
       "  </tbody>\n",
       "</table>\n",
       "</div>"
      ],
      "text/plain": [
       "    index                cast       director  title\n",
       "0   62550         unavailable    unavailable    352\n",
       "1   55848    Takahiro Sakurai    unavailable     24\n",
       "2   28814       Julie Tejwani  Rajiv Chilaka     19\n",
       "3   46753         Rajesh Kava  Rajiv Chilaka     19\n",
       "4   49634        Rupa Bhimani  Rajiv Chilaka     18\n",
       "5   26043      Jigna Bhardwaj  Rajiv Chilaka     18\n",
       "6   61318           Yuki Kaji    unavailable     18\n",
       "7   12530         Daisuke Ono    unavailable     16\n",
       "8   58954        Vatsal Dubey  Rajiv Chilaka     16\n",
       "9   59502        Vincent Tong    unavailable     16\n",
       "10  61283     Yuichi Nakamura    unavailable     16\n",
       "11  18380    Fortune Feimster    unavailable     16\n",
       "12  28993      Junichi Suwabe    unavailable     16\n",
       "13   1186           Ai Kayano    unavailable     15\n",
       "14  13508  David Attenborough    unavailable     15\n",
       "15  28907        Jun Fukuyama    unavailable     15\n",
       "16  61126    Yoshimasa Hosoya    unavailable     15\n",
       "17  39422        Michela Luci    unavailable     13\n",
       "18  13856         David Spade    unavailable     13\n",
       "19  55549             Swapnil  Rajiv Chilaka     13"
      ]
     },
     "execution_count": 45,
     "metadata": {},
     "output_type": "execute_result"
    }
   ],
   "source": [
    "df_actdir = df.groupby([\"cast\", 'director'])['title'].nunique().reset_index().sort_values(by='title', ascending=False).head(20)\n",
    "df_actdir = pd.DataFrame(df_actdir)\n",
    "df_actdir.reset_index(inplace=True)\n",
    "df_actdir"
   ]
  },
  {
   "cell_type": "code",
   "execution_count": 46,
   "id": "57c907ef",
   "metadata": {
    "scrolled": true
   },
   "outputs": [
    {
     "data": {
      "image/png": "[encoded data removed]",
      "text/plain": [
       "<Figure size 1440x432 with 1 Axes>"
      ]
     },
     "metadata": {
      "needs_background": "light"
     },
     "output_type": "display_data"
    }
   ],
   "source": [
    "plt.figure(figsize = (20,6))\n",
    " #Ignoring the unavailable cast and director. Because it's behaving as an outlier.\n",
    "sns.barplot(y= 'cast', x= 'title', data = df_actdir[1:10], hue = 'director', dodge=False)\n",
    "plt.title(\"Actor - Director pairs\")\n",
    "plt.xlabel(\"No. of Content\")\n",
    "plt.show()"
   ]
  },
  {
   "cell_type": "markdown",
   "id": "18d7f02f",
   "metadata": {},
   "source": [
    "#### From the above data insight we can say that the most popular actor, director pair are (Julie Tejwani,Rajesh Kava) with Rajiv Chilaka. "
   ]
  },
  {
   "cell_type": "code",
   "execution_count": 47,
   "id": "2d9650df",
   "metadata": {},
   "outputs": [
    {
     "data": {
      "text/plain": [
       "director\n",
       "unavailable                2634\n",
       "Rajiv Chilaka                22\n",
       "Jan Suter                    21\n",
       "Raúl Campos                  19\n",
       "Suhas Kadav                  16\n",
       "                           ... \n",
       "Brandon Camp                  1\n",
       "Juan Antin                    1\n",
       "Juan Antonio de la Riva       1\n",
       "Juan Camilo Pinzon            1\n",
       "María Jose Cuevas             1\n",
       "Name: title, Length: 4994, dtype: int64"
      ]
     },
     "execution_count": 47,
     "metadata": {},
     "output_type": "execute_result"
    }
   ],
   "source": [
    "df.groupby('director')[\"title\"].nunique().sort_values(ascending=False)"
   ]
  },
  {
   "cell_type": "markdown",
   "id": "e8261dc9",
   "metadata": {},
   "source": [
    "####  Rajiv Chilaka is the most popular director."
   ]
  },
  {
   "cell_type": "code",
   "execution_count": 48,
   "id": "95c797ee",
   "metadata": {},
   "outputs": [
    {
     "data": {
      "text/plain": [
       "listed_in\n",
       "International Movies            2752\n",
       "Dramas                          2427\n",
       "Comedies                        1674\n",
       "International TV Shows          1351\n",
       "Documentaries                    869\n",
       "Action & Adventure               859\n",
       "TV Dramas                        763\n",
       "Independent Movies               756\n",
       "Children & Family Movies         641\n",
       "Romantic Movies                  616\n",
       "TV Comedies                      581\n",
       "Thrillers                        577\n",
       "Crime TV Shows                   470\n",
       "Kids' TV                         451\n",
       "Docuseries                       395\n",
       "Music & Musicals                 375\n",
       "Romantic TV Shows                370\n",
       "Horror Movies                    357\n",
       "Stand-Up Comedy                  343\n",
       "Reality TV                       255\n",
       "British TV Shows                 253\n",
       "Sci-Fi & Fantasy                 243\n",
       "Sports Movies                    219\n",
       "Anime Series                     176\n",
       "Spanish-Language TV Shows        174\n",
       "TV Action & Adventure            168\n",
       "Korean TV Shows                  151\n",
       "Classic Movies                   116\n",
       "LGBTQ Movies                     102\n",
       "TV Mysteries                      98\n",
       "Science & Nature TV               92\n",
       "TV Sci-Fi & Fantasy               84\n",
       "TV Horror                         75\n",
       "Anime Features                    71\n",
       "Cult Movies                       71\n",
       "Teen TV Shows                     69\n",
       "Faith & Spirituality              65\n",
       "TV Thrillers                      57\n",
       "Movies                            57\n",
       "Stand-Up Comedy & Talk Shows      56\n",
       "Classic & Cult TV                 28\n",
       "TV Shows                          16\n",
       "Name: title, dtype: int64"
      ]
     },
     "execution_count": 48,
     "metadata": {},
     "output_type": "execute_result"
    }
   ],
   "source": [
    "df.groupby('listed_in')[\"title\"].nunique().sort_values(ascending=False)"
   ]
  },
  {
   "cell_type": "code",
   "execution_count": 49,
   "id": "7a02d11e",
   "metadata": {},
   "outputs": [
    {
     "data": {
      "image/png": "[encoded data removed]",
      "text/plain": [
       "<Figure size 1080x720 with 1 Axes>"
      ]
     },
     "metadata": {
      "needs_background": "light"
     },
     "output_type": "display_data"
    }
   ],
   "source": [
    "plt.figure(figsize=(15,10))\n",
    "df_geners= df.groupby('listed_in')[\"title\"].nunique().sort_values(ascending=False).reset_index().head(20)\n",
    "sns.barplot(data = df_geners, y='listed_in', x = 'title')\n",
    "plt.xlabel(\"No. of Movies\")\n",
    "plt.title(\"Top 20 Geners on Netflix\")\n",
    "plt.show()"
   ]
  },
  {
   "cell_type": "markdown",
   "id": "6555eedf",
   "metadata": {},
   "source": [
    "#### From the above analysis, it can be said that international movies, dramas and comedies are doing well for Netflix so more content can be added in these geners."
   ]
  },
  {
   "cell_type": "code",
   "execution_count": 50,
   "id": "995486ac",
   "metadata": {},
   "outputs": [
    {
     "data": {
      "text/plain": [
       "cast\n",
       "unavailable         825\n",
       "Anupam Kher          43\n",
       "Shah Rukh Khan       35\n",
       "Julie Tejwani        33\n",
       "Naseeruddin Shah     32\n",
       "Takahiro Sakurai     32\n",
       "Rupa Bhimani         31\n",
       "Om Puri              30\n",
       "Akshay Kumar         30\n",
       "Yuki Kaji            29\n",
       "Name: title, dtype: int64"
      ]
     },
     "execution_count": 50,
     "metadata": {},
     "output_type": "execute_result"
    }
   ],
   "source": [
    "df.groupby('cast')[\"title\"].nunique().sort_values(ascending=False).head(10)\n"
   ]
  },
  {
   "cell_type": "code",
   "execution_count": 51,
   "id": "c84e0e65",
   "metadata": {},
   "outputs": [
    {
     "data": {
      "image/png": "[encoded data removed]",
      "text/plain": [
       "<Figure size 864x432 with 1 Axes>"
      ]
     },
     "metadata": {
      "needs_background": "light"
     },
     "output_type": "display_data"
    }
   ],
   "source": [
    "plt.figure(figsize = (12,6))\n",
    "df_actor = df.groupby('cast')[\"title\"].nunique().sort_values(ascending=False).reset_index().head(10)\n",
    "sns.barplot(data = df_actor[1:11], y='cast', x = 'title')\n",
    "plt.xlabel(\"No. of Movies\")\n",
    "plt.title(\"Movies by Actor\")\n",
    "plt.show()"
   ]
  },
  {
   "cell_type": "markdown",
   "id": "8b518a59",
   "metadata": {},
   "source": [
    "#### Anupam kher has the highest number of movies on Netflix followed by Shah Rukh Khan."
   ]
  }
 ],
 "metadata": {
  "kernelspec": {
   "display_name": "Python 3 (ipykernel)",
   "language": "python",
   "name": "python3"
  },
  "language_info": {
   "codemirror_mode": {
    "name": "ipython",
    "version": 3
   },
   "file_extension": ".py",
   "mimetype": "text/x-python",
   "name": "python",
   "nbconvert_exporter": "python",
   "pygments_lexer": "ipython3",
   "version": "3.9.7"
  }
 },
 "nbformat": 4,
 "nbformat_minor": 5
}
